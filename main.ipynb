{
 "cells": [
  {
   "cell_type": "markdown",
   "metadata": {
    "cell_id": "00000-849e21de-ac0e-46f1-886a-61ed6d7c7a36",
    "deepnote_cell_type": "markdown",
    "tags": []
   },
   "source": [
    "# Main Notebook"
   ]
  },
  {
   "cell_type": "code",
   "execution_count": 1,
   "metadata": {
    "cell_id": "00000-56772ae1-799a-4da6-9f8a-8316259334ac",
    "deepnote_cell_type": "code",
    "deepnote_to_be_reexecuted": false,
    "execution_millis": 1251,
    "execution_start": 1620540611563,
    "source_hash": "9df2e3bc",
    "tags": []
   },
   "outputs": [
    {
     "data": {
      "text/html": [
       "<style type='text/css'>\n",
       ".datatable table.frame { margin-bottom: 0; }\n",
       ".datatable table.frame thead { border-bottom: none; }\n",
       ".datatable table.frame tr.coltypes td {  color: #FFFFFF;  line-height: 6px;  padding: 0 0.5em;}\n",
       ".datatable .bool    { background: #DDDD99; }\n",
       ".datatable .object  { background: #565656; }\n",
       ".datatable .int     { background: #5D9E5D; }\n",
       ".datatable .float   { background: #4040CC; }\n",
       ".datatable .str     { background: #CC4040; }\n",
       ".datatable .row_index {  background: var(--jp-border-color3);  border-right: 1px solid var(--jp-border-color0);  color: var(--jp-ui-font-color3);  font-size: 9px;}\n",
       ".datatable .frame tr.coltypes .row_index {  background: var(--jp-border-color0);}\n",
       ".datatable th:nth-child(2) { padding-left: 12px; }\n",
       ".datatable .hellipsis {  color: var(--jp-cell-editor-border-color);}\n",
       ".datatable .vellipsis {  background: var(--jp-layout-color0);  color: var(--jp-cell-editor-border-color);}\n",
       ".datatable .na {  color: var(--jp-cell-editor-border-color);  font-size: 80%;}\n",
       ".datatable .footer { font-size: 9px; }\n",
       ".datatable .frame_dimensions {  background: var(--jp-border-color3);  border-top: 1px solid var(--jp-border-color0);  color: var(--jp-ui-font-color3);  display: inline-block;  opacity: 0.6;  padding: 1px 10px 1px 5px;}\n",
       ".datatable .frame thead tr.colnames {  background-image: url('data:image/png;base64,iVBORw0KGgoAAAANSUhEUgAAABIAAAAkCAYAAACE7WrnAAAAdElEQVR42mP4wyMVQQ3M8P///whqYBSDkG2A8bGJo+tBMQifIbgMQ5ZjwGUIPjY2wxiwOZWQZrxhhM0F6IYjq8PqNWyBh4+NN7CpGv2jBo0aNGrQqEGjBtHFIIoLf5pUR2RXkFStsqnSiKBqs4bi6KdW0w8AxFl+XL1lK8wAAAAASUVORK5CYII=');  background-repeat: repeat-x;  background-size: 14px;  height: 28px;}\n",
       "</style>\n"
      ],
      "text/plain": [
       "<IPython.core.display.HTML object>"
      ]
     },
     "metadata": {},
     "output_type": "display_data"
    }
   ],
   "source": [
    "# Standard Imports\n",
    "from utils import *\n",
    "\n",
    "%matplotlib inline"
   ]
  },
  {
   "cell_type": "markdown",
   "metadata": {
    "cell_id": "00003-acf2631d-d59e-4ab8-9811-1d222434f9cc",
    "deepnote_cell_type": "markdown",
    "tags": []
   },
   "source": [
    "## Import and Explore Data"
   ]
  },
  {
   "cell_type": "code",
   "execution_count": 2,
   "metadata": {
    "cell_id": "00003-631ddf62-8aed-41b2-8ed7-afe9e5497691",
    "deepnote_cell_type": "code",
    "deepnote_to_be_reexecuted": false,
    "execution_millis": 346,
    "execution_start": 1620540612818,
    "source_hash": "b4e17e92",
    "tags": []
   },
   "outputs": [],
   "source": [
    "# Import data (important: y_train has to be a Series object)\n",
    "X_train_full = pd.read_csv(\"data/X_train.csv\", index_col=0)\n",
    "y_train_full = pd.read_csv(\"data/y_train.csv\", index_col=0)['Price']\n",
    "X_test = pd.read_csv(\"data/X_test.csv\", index_col=0)\n",
    "\n"
   ]
  },
  {
   "cell_type": "code",
   "execution_count": 3,
   "metadata": {
    "cell_id": "00004-cca37a56-262a-42b4-af09-6847a4cc2041",
    "deepnote_cell_type": "code",
    "deepnote_to_be_reexecuted": false,
    "execution_millis": 2308,
    "execution_start": 1620540613169,
    "source_hash": "85f20d1a",
    "tags": []
   },
   "outputs": [],
   "source": [
    "# Merge new features\n",
    "def merge_features(X,f,colname):\n",
    "    if colname in X:\n",
    "        return X\n",
    "    df = pd.read_csv(f)\n",
    "    if len(df.columns) == 2:\n",
    "        df.columns = ['Id',colname]\n",
    "    df.drop(columns=[\"Id\"],inplace=True)\n",
    "    return X.merge(df,left_index=True,right_index=True,how=\"left\")\n",
    "\n",
    "for f in glob.glob(\"features/*_train.csv\"):\n",
    "    colname = os.path.basename(f).split(\"_\")[0]\n",
    "    X_train_full = merge_features(X_train_full,f,colname)\n",
    "\n",
    "for f in glob.glob(\"features/*_test.csv\"):\n",
    "    colname = os.path.basename(f).split(\"_\")[0]\n",
    "    X_test = merge_features(X_test,f,colname)\n",
    "\n",
    "# reorder test columns in same order as train columns\n",
    "X_test = X_test[X_train_full.columns]\n",
    "\n",
    "#convert Date to numerical\n",
    "\n",
    "X_train_full[\"Date\"] = pd.to_datetime(X_train_full['Date'])\n",
    "X_train_full[\"Date\"] = X_train_full[\"Date\"].map(datetime.datetime.toordinal)\n",
    "X_test[\"Date\"] = pd.to_datetime(X_test['Date'])\n",
    "X_test[\"Date\"] = X_test[\"Date\"].map(datetime.datetime.toordinal)\n"
   ]
  },
  {
   "cell_type": "code",
   "execution_count": 4,
   "metadata": {},
   "outputs": [],
   "source": [
    "# Build a validation set\n",
    "X_train, X_validation, y_train, y_validation = train_test_split(X_train_full, y_train_full, test_size=0.20, random_state=34243)"
   ]
  },
  {
   "cell_type": "code",
   "execution_count": 5,
   "metadata": {
    "cell_id": "00005-f4ec2d48-ae9a-4d7d-8779-e7bdabacb353",
    "deepnote_cell_type": "code",
    "deepnote_to_be_reexecuted": false,
    "execution_millis": 132,
    "execution_start": 1620540615481,
    "source_hash": "d4e7fc7d",
    "tags": []
   },
   "outputs": [],
   "source": [
    "# X_validation"
   ]
  },
  {
   "cell_type": "code",
   "execution_count": 6,
   "metadata": {
    "cell_id": "00004-c6e9a2b4-56dc-4540-87b3-2a6d0edc7ea3",
    "deepnote_cell_type": "code",
    "deepnote_to_be_reexecuted": false,
    "execution_millis": 17247728,
    "execution_start": 1620540615609,
    "source_hash": "849c02b4",
    "tags": []
   },
   "outputs": [],
   "source": [
    "# Cut data for simplicity\n",
    "#X_train = X_train.iloc[:1000,:]\n",
    "#y_train = y_train[:1000]"
   ]
  },
  {
   "cell_type": "code",
   "execution_count": 7,
   "metadata": {
    "cell_id": "00001-56d3dd77-3aab-48ce-95ee-203435d54628",
    "deepnote_cell_type": "code",
    "deepnote_to_be_reexecuted": false,
    "execution_millis": 44,
    "execution_start": 1620540615716,
    "source_hash": "7c234d23",
    "tags": []
   },
   "outputs": [],
   "source": [
    "# X_train.head()"
   ]
  },
  {
   "cell_type": "code",
   "execution_count": null,
   "metadata": {
    "cell_id": "00007-2433587b-3935-4679-8869-3be85667a4bc",
    "deepnote_cell_type": "code",
    "deepnote_to_be_reexecuted": false,
    "execution_millis": 496,
    "execution_start": 1620540615794,
    "source_hash": "ddc150fa",
    "tags": []
   },
   "outputs": [],
   "source": []
  },
  {
   "cell_type": "markdown",
   "metadata": {
    "cell_id": "00004-02f2e0ef-63a7-4c57-89ee-6762b3119ac9",
    "deepnote_cell_type": "markdown",
    "tags": []
   },
   "source": [
    "### select_columns"
   ]
  },
  {
   "cell_type": "code",
   "execution_count": 8,
   "metadata": {
    "cell_id": "00010-cbb6628d-14ad-49fc-b692-f3a7c5d11f4d",
    "deepnote_cell_type": "code",
    "deepnote_to_be_reexecuted": false,
    "execution_millis": 24,
    "execution_start": 1620540616298,
    "source_hash": "2175c87",
    "tags": []
   },
   "outputs": [
    {
     "data": {
      "text/plain": [
       "Index(['Date', 'Lat', 'long', 'PropertyTy', 'Area', 'postCode', 'City',\n",
       "       'Neighborhood ', 'PropertyTy.1', 'transYear', 'transMonth', 'transDays',\n",
       "       'transQtr', 'Rooms', 'Baths', 'Parking', 'HasFirepla', 'HasPool',\n",
       "       'HasGarage', 'HasAirCond', 'cbc', 'trams', 'waterfront',\n",
       "       'ANDERSON LINK ROAD', 'BALLARAT ROAD', 'BASS HIGHWAY',\n",
       "       'BAXTER-TOORADIN ROAD', 'CALDER FREEWAY', 'DEER PARK BYPASS',\n",
       "       'EASTERN FREEWAY', 'EASTLINK', 'GEELONG RING ROAD', 'GEELONG ROAD',\n",
       "       'GRAHAM STREET', 'HUME FREEWAY', 'MALMSBURY BYPASS', 'MCCARTIN STREET',\n",
       "       'MCKENZIE STREET', 'METROPOLITAN RING ROAD', 'MONASH FREEWAY',\n",
       "       'MORNINGTON PENINSULA ROUTE', 'PHILLIP ISLAND ROAD', 'PRINCES FREEWAY',\n",
       "       'PRINCES FREEWAY.1', 'RACECOURSE ROAD', 'SMITHFIELD ROAD',\n",
       "       'OUTH GIPPSLAND HIGHWAY', 'SOUTH GIPPSLAND HIGHWAY', 'SPRINGVALE ROAD',\n",
       "       'STRZELECKI HIGHWAY', 'TULLAMARINE FREEWAY', 'WEST GATE FREEWAY',\n",
       "       'WESTERN FREEWAY', 'WESTERN LINK TOLLWAY', 'WESTERN RING ROAD',\n",
       "       'WHITE ROAD', 'WONTHAGGI ROAD', 'BURNLEY TUNNEL',\n",
       "       'SOUTHERN LINK TOLLWAY', 'busses'],\n",
       "      dtype='object')"
      ]
     },
     "execution_count": 8,
     "metadata": {},
     "output_type": "execute_result"
    }
   ],
   "source": [
    "X_train.columns"
   ]
  },
  {
   "cell_type": "code",
   "execution_count": 9,
   "metadata": {
    "cell_id": "00010-f6f1ab7f-1613-4bb9-9923-4b2f099b2828",
    "deepnote_cell_type": "code",
    "deepnote_to_be_reexecuted": false,
    "execution_millis": 17,
    "execution_start": 1620540616305,
    "source_hash": "f1a5ed7",
    "tags": []
   },
   "outputs": [
    {
     "data": {
      "text/plain": [
       "Index(['transMonth', 'transDays', 'transQtr', 'Rooms', 'Baths', 'Parking',\n",
       "       'HasFirepla', 'HasPool', 'HasGarage', 'HasAirCond', 'cbc', 'trams',\n",
       "       'waterfront', 'ANDERSON LINK ROAD', 'BALLARAT ROAD', 'BASS HIGHWAY',\n",
       "       'BAXTER-TOORADIN ROAD', 'CALDER FREEWAY', 'DEER PARK BYPASS',\n",
       "       'EASTERN FREEWAY', 'EASTLINK', 'GEELONG RING ROAD', 'GEELONG ROAD',\n",
       "       'GRAHAM STREET', 'HUME FREEWAY', 'MALMSBURY BYPASS', 'MCCARTIN STREET',\n",
       "       'MCKENZIE STREET', 'METROPOLITAN RING ROAD', 'MONASH FREEWAY',\n",
       "       'MORNINGTON PENINSULA ROUTE', 'PHILLIP ISLAND ROAD', 'PRINCES FREEWAY',\n",
       "       'PRINCES FREEWAY.1', 'RACECOURSE ROAD', 'SMITHFIELD ROAD',\n",
       "       'OUTH GIPPSLAND HIGHWAY', 'SOUTH GIPPSLAND HIGHWAY', 'SPRINGVALE ROAD',\n",
       "       'STRZELECKI HIGHWAY', 'TULLAMARINE FREEWAY', 'WEST GATE FREEWAY',\n",
       "       'WESTERN FREEWAY', 'WESTERN LINK TOLLWAY', 'WESTERN RING ROAD',\n",
       "       'WHITE ROAD', 'WONTHAGGI ROAD', 'BURNLEY TUNNEL',\n",
       "       'SOUTHERN LINK TOLLWAY', 'busses', 'Date', 'Area'],\n",
       "      dtype='object')"
      ]
     },
     "execution_count": 9,
     "metadata": {},
     "output_type": "execute_result"
    }
   ],
   "source": [
    "X_train.columns[10:].append(X_train.columns[[0,4]])"
   ]
  },
  {
   "cell_type": "code",
   "execution_count": 10,
   "metadata": {
    "cell_id": "00006-6f190456-1df6-44dd-9ff0-f62402ad4767",
    "deepnote_cell_type": "code",
    "deepnote_to_be_reexecuted": false,
    "execution_millis": 1,
    "execution_start": 1620540616311,
    "source_hash": "5b55f30b",
    "tags": []
   },
   "outputs": [],
   "source": [
    "# Save numerical and categorical columns\n",
    "def select_columns(df):\n",
    "    #num_cols = [\"Area\", \"transDays\", \"Rooms\", \"Baths\", \"Parking\", \n",
    "    #\"HasFirepla\", \"HasPool\", \"HasGarage\", \"HasAirCond\"]\n",
    "    # numerical_columns = df.columns[10:]\n",
    "    numerical_columns = df.columns[10:].append(df.columns[[0,4]])\n",
    "    categorical_columns = df.columns[[8]]\n",
    "    return numerical_columns, categorical_columns"
   ]
  },
  {
   "cell_type": "code",
   "execution_count": 11,
   "metadata": {
    "cell_id": "00007-1ca44173-3270-4b90-8aa7-176fca7f399d",
    "deepnote_cell_type": "code",
    "deepnote_to_be_reexecuted": false,
    "execution_millis": 21,
    "execution_start": 1620540616314,
    "source_hash": "9817e629",
    "tags": []
   },
   "outputs": [],
   "source": [
    "numerical_columns, categorical_columns = select_columns(X_train)"
   ]
  },
  {
   "cell_type": "code",
   "execution_count": 12,
   "metadata": {
    "cell_id": "00005-b4a59308-7e5e-4826-b6d7-39eeea9babb1",
    "deepnote_cell_type": "code",
    "deepnote_to_be_reexecuted": false,
    "execution_millis": 6,
    "execution_start": 1620540616336,
    "source_hash": "6cbf1db6",
    "tags": []
   },
   "outputs": [
    {
     "name": "stdout",
     "output_type": "stream",
     "text": [
      "(Index(['transMonth', 'transDays', 'transQtr', 'Rooms', 'Baths', 'Parking',\n",
      "       'HasFirepla', 'HasPool', 'HasGarage', 'HasAirCond', 'cbc', 'trams',\n",
      "       'waterfront', 'ANDERSON LINK ROAD', 'BALLARAT ROAD', 'BASS HIGHWAY',\n",
      "       'BAXTER-TOORADIN ROAD', 'CALDER FREEWAY', 'DEER PARK BYPASS',\n",
      "       'EASTERN FREEWAY', 'EASTLINK', 'GEELONG RING ROAD', 'GEELONG ROAD',\n",
      "       'GRAHAM STREET', 'HUME FREEWAY', 'MALMSBURY BYPASS', 'MCCARTIN STREET',\n",
      "       'MCKENZIE STREET', 'METROPOLITAN RING ROAD', 'MONASH FREEWAY',\n",
      "       'MORNINGTON PENINSULA ROUTE', 'PHILLIP ISLAND ROAD', 'PRINCES FREEWAY',\n",
      "       'PRINCES FREEWAY.1', 'RACECOURSE ROAD', 'SMITHFIELD ROAD',\n",
      "       'OUTH GIPPSLAND HIGHWAY', 'SOUTH GIPPSLAND HIGHWAY', 'SPRINGVALE ROAD',\n",
      "       'STRZELECKI HIGHWAY', 'TULLAMARINE FREEWAY', 'WEST GATE FREEWAY',\n",
      "       'WESTERN FREEWAY', 'WESTERN LINK TOLLWAY', 'WESTERN RING ROAD',\n",
      "       'WHITE ROAD', 'WONTHAGGI ROAD', 'BURNLEY TUNNEL',\n",
      "       'SOUTHERN LINK TOLLWAY', 'busses', 'Date', 'Area'],\n",
      "      dtype='object'), Index(['PropertyTy.1'], dtype='object'))\n"
     ]
    }
   ],
   "source": [
    "# Print input data\n",
    "print(select_columns(X_train))"
   ]
  },
  {
   "cell_type": "markdown",
   "metadata": {
    "cell_id": "00008-34ff92fc-9879-4cc2-b647-92372a76b37a",
    "deepnote_cell_type": "markdown",
    "tags": []
   },
   "source": [
    "### plot_numerical_columns"
   ]
  },
  {
   "cell_type": "code",
   "execution_count": 13,
   "metadata": {
    "cell_id": "00005-6a64d776-99f9-46e7-9694-a9877c488507",
    "deepnote_cell_type": "code",
    "deepnote_to_be_reexecuted": false,
    "execution_millis": 1,
    "execution_start": 1620540616336,
    "source_hash": "808e1d3a",
    "tags": []
   },
   "outputs": [],
   "source": [
    "# Plot distribution  numerical columns \n",
    "def plot_numerical_columns(df, numerical_columns):\n",
    "    fig = plt.figure(figsize = (20,10))\n",
    "    ax = fig.gca()\n",
    "    df[numerical_columns].hist(ax = ax)\n",
    "    plt.show()"
   ]
  },
  {
   "cell_type": "code",
   "execution_count": 14,
   "metadata": {
    "cell_id": "00017-e856ee58-d25d-4a3b-8888-dba50e90bd9d",
    "deepnote_cell_type": "code",
    "deepnote_to_be_reexecuted": false,
    "execution_millis": 154,
    "execution_start": 1620540616338,
    "source_hash": "15dce489",
    "tags": []
   },
   "outputs": [],
   "source": [
    "#debug\n",
    "# X_train"
   ]
  },
  {
   "cell_type": "code",
   "execution_count": 15,
   "metadata": {
    "cell_id": "00010-8a7ed304-c380-48cd-87c7-910fa89e85f9",
    "deepnote_cell_type": "code",
    "deepnote_to_be_reexecuted": false,
    "execution_millis": 7,
    "execution_start": 1620540616477,
    "source_hash": "dbf31faf",
    "tags": []
   },
   "outputs": [],
   "source": [
    "#plot_numerical_columns(X_train, numerical_columns)"
   ]
  },
  {
   "cell_type": "markdown",
   "metadata": {
    "cell_id": "00008-b1e9153a-3468-4842-9be9-0c10f4b33e7a",
    "deepnote_cell_type": "markdown",
    "tags": []
   },
   "source": [
    "## Preprocessing"
   ]
  },
  {
   "cell_type": "markdown",
   "metadata": {
    "cell_id": "00014-1bbc3309-d9dc-475a-a0f6-9a63490fce65",
    "deepnote_cell_type": "markdown",
    "tags": []
   },
   "source": [
    "### check_missing_values"
   ]
  },
  {
   "cell_type": "code",
   "execution_count": 16,
   "metadata": {
    "cell_id": "00014-a71d5bd0-326b-454d-9fa1-d0f8a5ca0bb5",
    "deepnote_cell_type": "code",
    "deepnote_to_be_reexecuted": false,
    "execution_millis": 1,
    "execution_start": 1620540616485,
    "source_hash": "5684c27e",
    "tags": []
   },
   "outputs": [],
   "source": [
    "def check_missing_values(df):\n",
    "    print(df.isnull().sum() * 100 / len(df))"
   ]
  },
  {
   "cell_type": "code",
   "execution_count": 17,
   "metadata": {
    "cell_id": "00016-001891c5-52d7-488d-9658-9abaf9ae5505",
    "deepnote_cell_type": "code",
    "deepnote_to_be_reexecuted": false,
    "execution_millis": 33,
    "execution_start": 1620540616486,
    "source_hash": "785d18e9",
    "tags": []
   },
   "outputs": [
    {
     "name": "stdout",
     "output_type": "stream",
     "text": [
      "Date                           0.000000\n",
      "Lat                            0.000000\n",
      "long                           0.000000\n",
      "PropertyTy                     0.000000\n",
      "Area                           0.000000\n",
      "postCode                       0.000000\n",
      "City                           0.000000\n",
      "Neighborhood                   0.000000\n",
      "PropertyTy.1                   0.000000\n",
      "transYear                      0.000000\n",
      "transMonth                     0.000000\n",
      "transDays                      0.000000\n",
      "transQtr                       0.000000\n",
      "Rooms                         39.994679\n",
      "Baths                         40.043456\n",
      "Parking                       44.986254\n",
      "HasFirepla                    40.010938\n",
      "HasPool                       40.219351\n",
      "HasGarage                     39.852780\n",
      "HasAirCond                    39.829131\n",
      "cbc                            0.000000\n",
      "trams                          0.000000\n",
      "waterfront                     0.000000\n",
      "ANDERSON LINK ROAD             0.000000\n",
      "BALLARAT ROAD                  0.000000\n",
      "BASS HIGHWAY                   0.000000\n",
      "BAXTER-TOORADIN ROAD           0.000000\n",
      "CALDER FREEWAY                 0.000000\n",
      "DEER PARK BYPASS               0.000000\n",
      "EASTERN FREEWAY                0.000000\n",
      "EASTLINK                       0.000000\n",
      "GEELONG RING ROAD              0.000000\n",
      "GEELONG ROAD                   0.000000\n",
      "GRAHAM STREET                  0.000000\n",
      "HUME FREEWAY                   0.000000\n",
      "MALMSBURY BYPASS               0.000000\n",
      "MCCARTIN STREET                0.000000\n",
      "MCKENZIE STREET                0.000000\n",
      "METROPOLITAN RING ROAD         0.000000\n",
      "MONASH FREEWAY                 0.000000\n",
      "MORNINGTON PENINSULA ROUTE     0.000000\n",
      "PHILLIP ISLAND ROAD            0.000000\n",
      "PRINCES FREEWAY                0.000000\n",
      "PRINCES FREEWAY.1              0.000000\n",
      "RACECOURSE ROAD                0.000000\n",
      "SMITHFIELD ROAD                0.000000\n",
      "OUTH GIPPSLAND HIGHWAY         0.000000\n",
      "SOUTH GIPPSLAND HIGHWAY        0.000000\n",
      "SPRINGVALE ROAD                0.000000\n",
      "STRZELECKI HIGHWAY             0.000000\n",
      "TULLAMARINE FREEWAY            0.000000\n",
      "WEST GATE FREEWAY              0.000000\n",
      "WESTERN FREEWAY                0.000000\n",
      "WESTERN LINK TOLLWAY           0.000000\n",
      "WESTERN RING ROAD              0.000000\n",
      "WHITE ROAD                     0.000000\n",
      "WONTHAGGI ROAD                 0.000000\n",
      "BURNLEY TUNNEL                 0.000000\n",
      "SOUTHERN LINK TOLLWAY          0.000000\n",
      "busses                         0.000000\n",
      "dtype: float64\n"
     ]
    }
   ],
   "source": [
    "# Check missing values\n",
    "check_missing_values(X_train)"
   ]
  },
  {
   "cell_type": "code",
   "execution_count": 18,
   "metadata": {
    "cell_id": "00010-1f931950-d1e4-4e37-a42b-8bfe225d1e8e",
    "deepnote_cell_type": "code",
    "deepnote_to_be_reexecuted": false,
    "execution_millis": 2,
    "execution_start": 1620540616511,
    "source_hash": "e7d00eeb",
    "tags": []
   },
   "outputs": [],
   "source": [
    "# Inputer for numerical variables\n",
    "num = Pipeline(steps=[\n",
    "    ('imp', IterativeImputer(estimator=BayesianRidge())),\n",
    "    ('ss', StandardScaler())\n",
    "    ])"
   ]
  },
  {
   "cell_type": "code",
   "execution_count": 19,
   "metadata": {
    "cell_id": "00011-c9584459-fba1-424a-9c5d-84b478e4644c",
    "deepnote_cell_type": "code",
    "deepnote_to_be_reexecuted": false,
    "execution_millis": 0,
    "execution_start": 1620540616530,
    "source_hash": "d52ce074",
    "tags": []
   },
   "outputs": [],
   "source": [
    "# One Hot Encoder for categorical data\n",
    "cat = Pipeline(steps=[\n",
    "    ('ohe', OneHotEncoder())\n",
    "    ])"
   ]
  },
  {
   "cell_type": "code",
   "execution_count": 20,
   "metadata": {
    "cell_id": "00009-0e2b3161-7734-4e4e-9a7b-83b0f1669a82",
    "deepnote_cell_type": "code",
    "deepnote_to_be_reexecuted": false,
    "execution_millis": 1,
    "execution_start": 1620540616530,
    "source_hash": "be3b4e77",
    "tags": []
   },
   "outputs": [],
   "source": [
    "# Preprocess column transformer for preprocessing data\n",
    "preprocess = ColumnTransformer(\n",
    "                    transformers=[\n",
    "                        ('num', num, numerical_columns),\n",
    "                        ('cat', cat, categorical_columns),\n",
    "                    ])"
   ]
  },
  {
   "cell_type": "markdown",
   "metadata": {
    "cell_id": "00011-cb31ee65-f7a2-4b8d-9453-fd14d04f7657",
    "deepnote_cell_type": "markdown",
    "tags": []
   },
   "source": [
    "## Model"
   ]
  },
  {
   "cell_type": "code",
   "execution_count": 21,
   "metadata": {
    "cell_id": "00012-da4ebb90-776a-430f-9ece-2ef5bfc16fc4",
    "deepnote_cell_type": "code",
    "deepnote_to_be_reexecuted": false,
    "execution_millis": 0,
    "execution_start": 1620540616531,
    "source_hash": "d9c0ce46",
    "tags": []
   },
   "outputs": [],
   "source": [
    "# Set model\n",
    "model = LGBMRegressor(n_jobs = -1)"
   ]
  },
  {
   "cell_type": "code",
   "execution_count": 22,
   "metadata": {
    "cell_id": "00022-48be8c60-bc1c-4093-afc8-ac0fa565c664",
    "deepnote_cell_type": "code",
    "deepnote_to_be_reexecuted": false,
    "execution_millis": 1,
    "execution_start": 1620540616531,
    "source_hash": "2868da9e",
    "tags": []
   },
   "outputs": [],
   "source": [
    "# Select parameters to explore\n",
    "param_grid = {'model__learning_rate': [0.1,0.2],\n",
    "        'model__num_leaves': [20, 31, 51],\n",
    "        'model__reg_lambda': [1.0, 2.0],\n",
    "        'model__max_depth': [31, 51], \n",
    "        'model__n_jobs': [-1], \n",
    "        'model__n_estimators': [100, 200],\n",
    "        'model__boosting_type': [\"dart\"]}"
   ]
  },
  {
   "cell_type": "markdown",
   "metadata": {
    "cell_id": "00023-a74b9474-0cd2-43ee-a880-7af5644593d4",
    "deepnote_cell_type": "markdown",
    "tags": []
   },
   "source": [
    "## Fit Predict"
   ]
  },
  {
   "cell_type": "code",
   "execution_count": 23,
   "metadata": {
    "cell_id": "00024-96bcbcc3-4109-4aea-81e9-a6d6288ca3b2",
    "deepnote_cell_type": "code",
    "deepnote_to_be_reexecuted": false,
    "execution_millis": 3,
    "execution_start": 1620540616537,
    "source_hash": "ca825eed",
    "tags": []
   },
   "outputs": [],
   "source": [
    "# Set cross-validation\n",
    "cv = KFold()"
   ]
  },
  {
   "cell_type": "code",
   "execution_count": 24,
   "metadata": {
    "cell_id": "00024-6819c1a4-35f0-4b08-83a1-ad68be5b9b7b",
    "deepnote_cell_type": "code",
    "deepnote_to_be_reexecuted": false,
    "execution_millis": 2,
    "execution_start": 1620540616545,
    "source_hash": "42421ac2",
    "tags": []
   },
   "outputs": [],
   "source": [
    "# Save pipeline\n",
    "final_pipeline = GridSearchCV(Pipeline(steps=[\n",
    "        ('preprocess', preprocess),\n",
    "        ('model', model)\n",
    "    ]), param_grid, cv=cv, n_jobs=-1, scoring='neg_mean_squared_error', verbose=3)"
   ]
  },
  {
   "cell_type": "code",
   "execution_count": 25,
   "metadata": {
    "cell_id": "00026-9f65f9fb-026f-453f-8e91-ee49053b9f66",
    "deepnote_cell_type": "code",
    "deepnote_to_be_reexecuted": false,
    "execution_millis": 61186,
    "execution_start": 1620540616548,
    "source_hash": "31f261f2",
    "tags": []
   },
   "outputs": [
    {
     "name": "stdout",
     "output_type": "stream",
     "text": [
      "Fitting 5 folds for each of 48 candidates, totalling 240 fits\n"
     ]
    },
    {
     "name": "stderr",
     "output_type": "stream",
     "text": [
      "[Parallel(n_jobs=-1)]: Using backend LokyBackend with 32 concurrent workers.\n",
      "[Parallel(n_jobs=-1)]: Done  64 tasks      | elapsed:   54.4s\n",
      "[Parallel(n_jobs=-1)]: Done 240 out of 240 | elapsed:  3.0min finished\n"
     ]
    },
    {
     "name": "stdout",
     "output_type": "stream",
     "text": [
      "RMSE on training data : 129933.2620616373\n"
     ]
    }
   ],
   "source": [
    "# Fit pipeline\n",
    "final_pipeline.fit(X_train, y_train)\n",
    "\n",
    "# Test pipeline\n",
    "y_train_hat = final_pipeline.best_estimator_.predict(X_train)\n",
    "train_rmse = mean_squared_error(y_train, y_train_hat, squared=False)\n",
    "print('RMSE on training data :', train_rmse)"
   ]
  },
  {
   "cell_type": "code",
   "execution_count": 26,
   "metadata": {
    "cell_id": "00027-ba7ccbc2-7385-48ee-8633-1267d228cf33",
    "deepnote_cell_type": "code",
    "deepnote_to_be_reexecuted": true,
    "execution_millis": 12,
    "execution_start": 1620505046682,
    "source_hash": "fdbae0ce",
    "tags": []
   },
   "outputs": [
    {
     "name": "stdout",
     "output_type": "stream",
     "text": [
      "0.12891400340889167\n"
     ]
    }
   ],
   "source": [
    "# Compute alternative score\n",
    "alternative_score = np.mean(abs((y_train_hat - y_train) / y_train))\n",
    "print(alternative_score)"
   ]
  },
  {
   "cell_type": "code",
   "execution_count": 27,
   "metadata": {
    "cell_id": "00034-ebfb7d38-89c3-477d-ad1b-38c3b441fdf5",
    "deepnote_cell_type": "code",
    "deepnote_to_be_reexecuted": true,
    "source_hash": "42cb5a8",
    "tags": []
   },
   "outputs": [
    {
     "name": "stdout",
     "output_type": "stream",
     "text": [
      "RMSE on validation data : 167538.1190553986\n"
     ]
    }
   ],
   "source": [
    "# Validation set\n",
    "y_validation_hat = final_pipeline.best_estimator_.predict(X_validation)\n",
    "validation_rmse = mean_squared_error(y_validation, y_validation_hat, squared=False)\n",
    "print('RMSE on validation data :', validation_rmse)"
   ]
  },
  {
   "cell_type": "markdown",
   "metadata": {},
   "source": [
    "Validation score: 167538.11\n",
    "\n",
    "Validation score with neighbourhoods: 167842\n",
    "\n",
    "Validation score with Long/Lat: 167863.954 \n"
   ]
  },
  {
   "cell_type": "code",
   "execution_count": 28,
   "metadata": {
    "cell_id": "00026-60ec39c6-6568-4e3c-8ef3-94e2357b130d",
    "deepnote_cell_type": "code",
    "deepnote_to_be_reexecuted": true,
    "execution_millis": 219,
    "execution_start": 1620505455218,
    "source_hash": "c311d348",
    "tags": []
   },
   "outputs": [],
   "source": [
    "# Predict test values\n",
    "y_test_hat = final_pipeline.best_estimator_.predict(X_test)"
   ]
  },
  {
   "cell_type": "code",
   "execution_count": 29,
   "metadata": {
    "cell_id": "00033-0c253fa8-b0cd-4da8-8769-47c6de79a9c4",
    "deepnote_cell_type": "code",
    "deepnote_to_be_reexecuted": true,
    "execution_millis": 373,
    "execution_start": 1620505917393,
    "source_hash": "a7580dad",
    "tags": []
   },
   "outputs": [],
   "source": [
    "y_test = pd.DataFrame(y_test_hat, columns = [\"Predicted\"])\n",
    "y_test['Id'] = y_test.index\n",
    "y_test = y_test[[\"Id\", \"Predicted\"]]\n",
    "y_test.to_csv(\"predictions/y_test_hat.csv\", index = False)"
   ]
  },
  {
   "cell_type": "code",
   "execution_count": 30,
   "metadata": {},
   "outputs": [
    {
     "data": {
      "text/plain": [
       "Pipeline(steps=[('preprocess',\n",
       "                 ColumnTransformer(transformers=[('num',\n",
       "                                                  Pipeline(steps=[('imp',\n",
       "                                                                   IterativeImputer(estimator=BayesianRidge())),\n",
       "                                                                  ('ss',\n",
       "                                                                   StandardScaler())]),\n",
       "                                                  Index(['transMonth', 'transDays', 'transQtr', 'Rooms', 'Baths', 'Parking',\n",
       "       'HasFirepla', 'HasPool', 'HasGarage', 'HasAirCond', 'cbc', 'trams',\n",
       "       'waterfront', 'ANDERSON LINK ROAD', 'BALLARAT ROAD', 'BASS HIGH...\n",
       "       'WESTERN FREEWAY', 'WESTERN LINK TOLLWAY', 'WESTERN RING ROAD',\n",
       "       'WHITE ROAD', 'WONTHAGGI ROAD', 'BURNLEY TUNNEL',\n",
       "       'SOUTHERN LINK TOLLWAY', 'busses', 'Date', 'Area'],\n",
       "      dtype='object')),\n",
       "                                                 ('cat',\n",
       "                                                  Pipeline(steps=[('ohe',\n",
       "                                                                   OneHotEncoder())]),\n",
       "                                                  Index(['PropertyTy.1'], dtype='object'))])),\n",
       "                ('model',\n",
       "                 LGBMRegressor(boosting_type='dart', learning_rate=0.2,\n",
       "                               max_depth=31, n_estimators=200, num_leaves=51,\n",
       "                               reg_lambda=1.0))])"
      ]
     },
     "execution_count": 30,
     "metadata": {},
     "output_type": "execute_result"
    }
   ],
   "source": [
    "final_pipeline.best_estimator_"
   ]
  },
  {
   "cell_type": "code",
   "execution_count": 31,
   "metadata": {},
   "outputs": [
    {
     "data": {
      "text/plain": [
       "array([  37,  164,    1,  465,  605,  369,  144,  107,  134,   59,  152,\n",
       "        263,  751,   48,   66,   55,   48,   96,   76,  271,  115,  138,\n",
       "         40,   38,  155,   37,   30,   23,  243,  359,  209,   50,  104,\n",
       "         75,   76,   47,   79,   83,  236,   25,   59,  131,   51,   71,\n",
       "        139,   20,   31,  204,  699,  255,  155, 1693,  410,    9],\n",
       "      dtype=int32)"
      ]
     },
     "execution_count": 31,
     "metadata": {},
     "output_type": "execute_result"
    }
   ],
   "source": [
    "final_pipeline.best_estimator_[\"model\"].feature_importances_"
   ]
  },
  {
   "cell_type": "markdown",
   "metadata": {},
   "source": [
    "### Save model"
   ]
  },
  {
   "cell_type": "code",
   "execution_count": 34,
   "metadata": {},
   "outputs": [
    {
     "data": {
      "text/plain": [
       "['out/models/simple_model.joblib']"
      ]
     },
     "execution_count": 34,
     "metadata": {},
     "output_type": "execute_result"
    }
   ],
   "source": [
    "dump(final_pipeline.best_estimator_, \"out/models/simple_model.joblib\")"
   ]
  },
  {
   "cell_type": "markdown",
   "metadata": {
    "cell_id": "00035-a8f21c75-7356-4809-8de4-4eaab5c312ff",
    "deepnote_cell_type": "markdown",
    "tags": []
   },
   "source": [
    "## Local Model"
   ]
  },
  {
   "cell_type": "code",
   "execution_count": 32,
   "metadata": {
    "cell_id": "00034-4a4c67e7-8bc4-4c93-8d13-e88804c57d72",
    "deepnote_cell_type": "code",
    "deepnote_to_be_reexecuted": true,
    "execution_millis": 0,
    "execution_start": 1620509621226,
    "source_hash": "86ed9158",
    "tags": []
   },
   "outputs": [],
   "source": [
    "class LocalModel():\n",
    "    \"\"\"\n",
    "    Transforms global model to local\n",
    "\n",
    "    Attributes\n",
    "    ----------\n",
    "    model : float\n",
    "        model to make local\n",
    "    preprocess : float\n",
    "        pipeline for preprocessing\n",
    "    pcent_keep : int\n",
    "        percentage of observations to keep (eg. pcent_keep=10 keep closest 10%)\n",
    "    weight_fun : str\n",
    "        weighting function to apply on the weights, default is 'quadratic'\n",
    "\n",
    "    Properties\n",
    "    ----------\n",
    "    fit_predict : fits and predicts\n",
    "    \"\"\"\n",
    "\n",
    "    def __init__(self, model, preprocess, pcent_keep=10, weight_fun='quadratic'):\n",
    "        \"\"\"Initialize\"\"\"\n",
    "        self.model = model\n",
    "        self.preprocess = preprocess\n",
    "        self.pcent_keep = pcent_keep\n",
    "        if weight_fun == 'quadratic':\n",
    "            self.weight_fun = lambda x: x**2\n",
    "        elif weight_fun == 'cubic':\n",
    "            self.weight_fun = lambda x: x**3\n",
    "\n",
    "    def get_distances(self, X_train, centroid):\n",
    "        \"\"\"Compute distances between coordinates of database and point\"\"\"\n",
    "        compute_dist = lambda house : geopy.distance.distance((house.Lat,house.long),(centroid.Lat[0],centroid.long[0])).m\n",
    "        distances = X_train[['Lat', 'long']].apply(compute_dist, axis=1)\n",
    "        return pd.DataFrame(distances)\n",
    "\n",
    "    def compute_centroid(self, dfx):\n",
    "        \"\"\"Compute centroid\"\"\"\n",
    "        c = shapely.geometry.MultiPoint(list(dfx.apply(lambda h : Point((h.long,h.Lat)),axis=1))).centroid\n",
    "        return pd.DataFrame({'Lat':[c.y],'long':[c.x]})\n",
    "\n",
    "    def sample_selection(self, X_train_clean, y_train, weights, distances):\n",
    "        \"\"\"Sample selection\"\"\"\n",
    "        percentile = np.percentile(distances, self.pcent_keep)\n",
    "        selected = ((distances<percentile) & (distances>0)).to_numpy().flatten()\n",
    "        X = X_train_clean[selected,:]\n",
    "        y = y_train[selected]\n",
    "        weights = sample_weight=weights[selected]\n",
    "        return X, y, weights.flatten()\n",
    "\n",
    "    def local_prediction(self, X_train, y_train, X_test, idx, X_train_clean, X_test_clean):\n",
    "        \"\"\"Get Local Prediction\"\"\"\n",
    "        centroid = self.compute_centroid(X_test.loc[idx, ['Lat', 'long']])\n",
    "        distances = self.get_distances(X_train, centroid)\n",
    "        linear_weights = np.maximum(1 - MinMaxScaler().fit_transform(distances), 0)\n",
    "        non_linear_weights = np.array([self.weight_fun(w) for w in linear_weights])\n",
    "        X, y, weights = self.sample_selection(X_train_clean, y_train, non_linear_weights, distances)\n",
    "        # Fit predict\n",
    "        self.model.fit(X, y, sample_weight=weights)\n",
    "        prediction = self.model.predict(X_test_clean[idx, :])\n",
    "        return prediction\n",
    "\n",
    "    def fit_predict(self, X_train, y_train, X_test):\n",
    "        \"\"\"Fit Predict\"\"\"\n",
    "        # Preprocess\n",
    "        X_train_clean = self.preprocess.fit_transform(X_train)\n",
    "        X_test_clean = self.preprocess.fit_transform(X_test)\n",
    "        y_test_hat = np.zeros(len(X_test))\n",
    "        # For each point in the test set, get weights, select sample\n",
    "        hoods = X_test['Neighborhood '].unique()\n",
    "        for i, hood in enumerate(hoods):\n",
    "            idx = (X_test['Neighborhood ']==hood).to_numpy()\n",
    "            y_test_hat[idx] = self.local_prediction(X_train, y_train, X_test, idx, X_train_clean, X_test_clean)\n",
    "            # Print progress\n",
    "            sys.stdout.write(\"\\rProgress: {0}%\".format((float(i)/len(hoods))*100))\n",
    "            sys.stdout.flush()\n",
    "        return y_test_hat"
   ]
  },
  {
   "cell_type": "code",
   "execution_count": null,
   "metadata": {},
   "outputs": [],
   "source": [
    "# X_train = X_train_full\n",
    "# y_train = y_train_full\n",
    "\n",
    "# X_train.shape"
   ]
  },
  {
   "cell_type": "code",
   "execution_count": 35,
   "metadata": {
    "cell_id": "00037-3c9642fd-b9bd-4959-bf67-88998a311137",
    "deepnote_cell_type": "code",
    "deepnote_to_be_reexecuted": true,
    "execution_millis": 25,
    "execution_start": 1620507443735,
    "source_hash": "7267ea54",
    "tags": []
   },
   "outputs": [
    {
     "name": "stdout",
     "output_type": "stream",
     "text": [
      "Progress: 98.75%99999999999%%"
     ]
    }
   ],
   "source": [
    "local_model = LocalModel(final_pipeline.best_estimator_[\"model\"], preprocess)\n",
    "y_test_hat = local_model.fit_predict(X_train_full, y_train_full, X_test)"
   ]
  },
  {
   "cell_type": "code",
   "execution_count": 36,
   "metadata": {
    "cell_id": "00042-8958c276-8029-4ea0-bd61-f447d1f14987",
    "deepnote_cell_type": "code",
    "deepnote_to_be_reexecuted": true,
    "source_hash": "d4ba8ffa",
    "tags": []
   },
   "outputs": [],
   "source": [
    "# Validation set\n",
    "#y_validation_hat = final_pipeline.best_estimator_.predict(X_validation)\n",
    "#validation_rmse = mean_squared_error(y_validation, y_validation_hat, squared=False)\n",
    "#print('RMSE on validation data :', validation_rmse)"
   ]
  },
  {
   "cell_type": "code",
   "execution_count": 33,
   "metadata": {
    "cell_id": "00039-16cfcbae-e734-44bd-8c82-f9b26b644ebb",
    "deepnote_cell_type": "code",
    "deepnote_to_be_reexecuted": true,
    "execution_millis": 5976,
    "execution_start": 1620508461360,
    "source_hash": "5ad99f9a",
    "tags": []
   },
   "outputs": [],
   "source": [
    "y_test = pd.DataFrame(y_test_hat, columns = [\"Predicted\"])\n",
    "y_test['Id'] = y_test.index\n",
    "y_test = y_test[[\"Id\", \"Predicted\"]]\n",
    "y_test.to_csv(\"predictions/y_test_hat_local.csv\", index = False)"
   ]
  },
  {
   "cell_type": "markdown",
   "metadata": {
    "cell_id": "00039-9bd87ac0-2745-408b-957f-4659de883ec0",
    "deepnote_cell_type": "code",
    "deepnote_to_be_reexecuted": true,
    "source_hash": "b623e53d",
    "tags": []
   },
   "source": [
    "### Save model"
   ]
  },
  {
   "cell_type": "code",
   "execution_count": 38,
   "metadata": {},
   "outputs": [
    {
     "ename": "PicklingError",
     "evalue": "Can't pickle <function LocalModel.__init__.<locals>.<lambda> at 0x7fc15d71c280>: it's not found as __main__.LocalModel.__init__.<locals>.<lambda>",
     "output_type": "error",
     "traceback": [
      "\u001b[0;31m---------------------------------------------------------------------------\u001b[0m",
      "\u001b[0;31mPicklingError\u001b[0m                             Traceback (most recent call last)",
      "\u001b[0;32m<ipython-input-38-7cd0f82e7fbc>\u001b[0m in \u001b[0;36m<module>\u001b[0;34m\u001b[0m\n\u001b[0;32m----> 1\u001b[0;31m \u001b[0mdump\u001b[0m\u001b[0;34m(\u001b[0m\u001b[0mlocal_model\u001b[0m\u001b[0;34m,\u001b[0m \u001b[0;34m\"out/models/full_model.joblib\"\u001b[0m\u001b[0;34m)\u001b[0m\u001b[0;34m\u001b[0m\u001b[0;34m\u001b[0m\u001b[0m\n\u001b[0m",
      "\u001b[0;32m~/anaconda3/lib/python3.8/site-packages/joblib/numpy_pickle.py\u001b[0m in \u001b[0;36mdump\u001b[0;34m(value, filename, compress, protocol, cache_size)\u001b[0m\n\u001b[1;32m    478\u001b[0m     \u001b[0;32melif\u001b[0m \u001b[0mis_filename\u001b[0m\u001b[0;34m:\u001b[0m\u001b[0;34m\u001b[0m\u001b[0;34m\u001b[0m\u001b[0m\n\u001b[1;32m    479\u001b[0m         \u001b[0;32mwith\u001b[0m \u001b[0mopen\u001b[0m\u001b[0;34m(\u001b[0m\u001b[0mfilename\u001b[0m\u001b[0;34m,\u001b[0m \u001b[0;34m'wb'\u001b[0m\u001b[0;34m)\u001b[0m \u001b[0;32mas\u001b[0m \u001b[0mf\u001b[0m\u001b[0;34m:\u001b[0m\u001b[0;34m\u001b[0m\u001b[0;34m\u001b[0m\u001b[0m\n\u001b[0;32m--> 480\u001b[0;31m             \u001b[0mNumpyPickler\u001b[0m\u001b[0;34m(\u001b[0m\u001b[0mf\u001b[0m\u001b[0;34m,\u001b[0m \u001b[0mprotocol\u001b[0m\u001b[0;34m=\u001b[0m\u001b[0mprotocol\u001b[0m\u001b[0;34m)\u001b[0m\u001b[0;34m.\u001b[0m\u001b[0mdump\u001b[0m\u001b[0;34m(\u001b[0m\u001b[0mvalue\u001b[0m\u001b[0;34m)\u001b[0m\u001b[0;34m\u001b[0m\u001b[0;34m\u001b[0m\u001b[0m\n\u001b[0m\u001b[1;32m    481\u001b[0m     \u001b[0;32melse\u001b[0m\u001b[0;34m:\u001b[0m\u001b[0;34m\u001b[0m\u001b[0;34m\u001b[0m\u001b[0m\n\u001b[1;32m    482\u001b[0m         \u001b[0mNumpyPickler\u001b[0m\u001b[0;34m(\u001b[0m\u001b[0mfilename\u001b[0m\u001b[0;34m,\u001b[0m \u001b[0mprotocol\u001b[0m\u001b[0;34m=\u001b[0m\u001b[0mprotocol\u001b[0m\u001b[0;34m)\u001b[0m\u001b[0;34m.\u001b[0m\u001b[0mdump\u001b[0m\u001b[0;34m(\u001b[0m\u001b[0mvalue\u001b[0m\u001b[0;34m)\u001b[0m\u001b[0;34m\u001b[0m\u001b[0;34m\u001b[0m\u001b[0m\n",
      "\u001b[0;32m~/anaconda3/lib/python3.8/pickle.py\u001b[0m in \u001b[0;36mdump\u001b[0;34m(self, obj)\u001b[0m\n\u001b[1;32m    483\u001b[0m         \u001b[0;32mif\u001b[0m \u001b[0mself\u001b[0m\u001b[0;34m.\u001b[0m\u001b[0mproto\u001b[0m \u001b[0;34m>=\u001b[0m \u001b[0;36m4\u001b[0m\u001b[0;34m:\u001b[0m\u001b[0;34m\u001b[0m\u001b[0;34m\u001b[0m\u001b[0m\n\u001b[1;32m    484\u001b[0m             \u001b[0mself\u001b[0m\u001b[0;34m.\u001b[0m\u001b[0mframer\u001b[0m\u001b[0;34m.\u001b[0m\u001b[0mstart_framing\u001b[0m\u001b[0;34m(\u001b[0m\u001b[0;34m)\u001b[0m\u001b[0;34m\u001b[0m\u001b[0;34m\u001b[0m\u001b[0m\n\u001b[0;32m--> 485\u001b[0;31m         \u001b[0mself\u001b[0m\u001b[0;34m.\u001b[0m\u001b[0msave\u001b[0m\u001b[0;34m(\u001b[0m\u001b[0mobj\u001b[0m\u001b[0;34m)\u001b[0m\u001b[0;34m\u001b[0m\u001b[0;34m\u001b[0m\u001b[0m\n\u001b[0m\u001b[1;32m    486\u001b[0m         \u001b[0mself\u001b[0m\u001b[0;34m.\u001b[0m\u001b[0mwrite\u001b[0m\u001b[0;34m(\u001b[0m\u001b[0mSTOP\u001b[0m\u001b[0;34m)\u001b[0m\u001b[0;34m\u001b[0m\u001b[0;34m\u001b[0m\u001b[0m\n\u001b[1;32m    487\u001b[0m         \u001b[0mself\u001b[0m\u001b[0;34m.\u001b[0m\u001b[0mframer\u001b[0m\u001b[0;34m.\u001b[0m\u001b[0mend_framing\u001b[0m\u001b[0;34m(\u001b[0m\u001b[0;34m)\u001b[0m\u001b[0;34m\u001b[0m\u001b[0;34m\u001b[0m\u001b[0m\n",
      "\u001b[0;32m~/anaconda3/lib/python3.8/site-packages/joblib/numpy_pickle.py\u001b[0m in \u001b[0;36msave\u001b[0;34m(self, obj)\u001b[0m\n\u001b[1;32m    280\u001b[0m             \u001b[0;32mreturn\u001b[0m\u001b[0;34m\u001b[0m\u001b[0;34m\u001b[0m\u001b[0m\n\u001b[1;32m    281\u001b[0m \u001b[0;34m\u001b[0m\u001b[0m\n\u001b[0;32m--> 282\u001b[0;31m         \u001b[0;32mreturn\u001b[0m \u001b[0mPickler\u001b[0m\u001b[0;34m.\u001b[0m\u001b[0msave\u001b[0m\u001b[0;34m(\u001b[0m\u001b[0mself\u001b[0m\u001b[0;34m,\u001b[0m \u001b[0mobj\u001b[0m\u001b[0;34m)\u001b[0m\u001b[0;34m\u001b[0m\u001b[0;34m\u001b[0m\u001b[0m\n\u001b[0m\u001b[1;32m    283\u001b[0m \u001b[0;34m\u001b[0m\u001b[0m\n\u001b[1;32m    284\u001b[0m \u001b[0;34m\u001b[0m\u001b[0m\n",
      "\u001b[0;32m~/anaconda3/lib/python3.8/pickle.py\u001b[0m in \u001b[0;36msave\u001b[0;34m(self, obj, save_persistent_id)\u001b[0m\n\u001b[1;32m    599\u001b[0m \u001b[0;34m\u001b[0m\u001b[0m\n\u001b[1;32m    600\u001b[0m         \u001b[0;31m# Save the reduce() output and finally memoize the object\u001b[0m\u001b[0;34m\u001b[0m\u001b[0;34m\u001b[0m\u001b[0;34m\u001b[0m\u001b[0m\n\u001b[0;32m--> 601\u001b[0;31m         \u001b[0mself\u001b[0m\u001b[0;34m.\u001b[0m\u001b[0msave_reduce\u001b[0m\u001b[0;34m(\u001b[0m\u001b[0mobj\u001b[0m\u001b[0;34m=\u001b[0m\u001b[0mobj\u001b[0m\u001b[0;34m,\u001b[0m \u001b[0;34m*\u001b[0m\u001b[0mrv\u001b[0m\u001b[0;34m)\u001b[0m\u001b[0;34m\u001b[0m\u001b[0;34m\u001b[0m\u001b[0m\n\u001b[0m\u001b[1;32m    602\u001b[0m \u001b[0;34m\u001b[0m\u001b[0m\n\u001b[1;32m    603\u001b[0m     \u001b[0;32mdef\u001b[0m \u001b[0mpersistent_id\u001b[0m\u001b[0;34m(\u001b[0m\u001b[0mself\u001b[0m\u001b[0;34m,\u001b[0m \u001b[0mobj\u001b[0m\u001b[0;34m)\u001b[0m\u001b[0;34m:\u001b[0m\u001b[0;34m\u001b[0m\u001b[0;34m\u001b[0m\u001b[0m\n",
      "\u001b[0;32m~/anaconda3/lib/python3.8/pickle.py\u001b[0m in \u001b[0;36msave_reduce\u001b[0;34m(self, func, args, state, listitems, dictitems, state_setter, obj)\u001b[0m\n\u001b[1;32m    713\u001b[0m         \u001b[0;32mif\u001b[0m \u001b[0mstate\u001b[0m \u001b[0;32mis\u001b[0m \u001b[0;32mnot\u001b[0m \u001b[0;32mNone\u001b[0m\u001b[0;34m:\u001b[0m\u001b[0;34m\u001b[0m\u001b[0;34m\u001b[0m\u001b[0m\n\u001b[1;32m    714\u001b[0m             \u001b[0;32mif\u001b[0m \u001b[0mstate_setter\u001b[0m \u001b[0;32mis\u001b[0m \u001b[0;32mNone\u001b[0m\u001b[0;34m:\u001b[0m\u001b[0;34m\u001b[0m\u001b[0;34m\u001b[0m\u001b[0m\n\u001b[0;32m--> 715\u001b[0;31m                 \u001b[0msave\u001b[0m\u001b[0;34m(\u001b[0m\u001b[0mstate\u001b[0m\u001b[0;34m)\u001b[0m\u001b[0;34m\u001b[0m\u001b[0;34m\u001b[0m\u001b[0m\n\u001b[0m\u001b[1;32m    716\u001b[0m                 \u001b[0mwrite\u001b[0m\u001b[0;34m(\u001b[0m\u001b[0mBUILD\u001b[0m\u001b[0;34m)\u001b[0m\u001b[0;34m\u001b[0m\u001b[0;34m\u001b[0m\u001b[0m\n\u001b[1;32m    717\u001b[0m             \u001b[0;32melse\u001b[0m\u001b[0;34m:\u001b[0m\u001b[0;34m\u001b[0m\u001b[0;34m\u001b[0m\u001b[0m\n",
      "\u001b[0;32m~/anaconda3/lib/python3.8/site-packages/joblib/numpy_pickle.py\u001b[0m in \u001b[0;36msave\u001b[0;34m(self, obj)\u001b[0m\n\u001b[1;32m    280\u001b[0m             \u001b[0;32mreturn\u001b[0m\u001b[0;34m\u001b[0m\u001b[0;34m\u001b[0m\u001b[0m\n\u001b[1;32m    281\u001b[0m \u001b[0;34m\u001b[0m\u001b[0m\n\u001b[0;32m--> 282\u001b[0;31m         \u001b[0;32mreturn\u001b[0m \u001b[0mPickler\u001b[0m\u001b[0;34m.\u001b[0m\u001b[0msave\u001b[0m\u001b[0;34m(\u001b[0m\u001b[0mself\u001b[0m\u001b[0;34m,\u001b[0m \u001b[0mobj\u001b[0m\u001b[0;34m)\u001b[0m\u001b[0;34m\u001b[0m\u001b[0;34m\u001b[0m\u001b[0m\n\u001b[0m\u001b[1;32m    283\u001b[0m \u001b[0;34m\u001b[0m\u001b[0m\n\u001b[1;32m    284\u001b[0m \u001b[0;34m\u001b[0m\u001b[0m\n",
      "\u001b[0;32m~/anaconda3/lib/python3.8/pickle.py\u001b[0m in \u001b[0;36msave\u001b[0;34m(self, obj, save_persistent_id)\u001b[0m\n\u001b[1;32m    556\u001b[0m             \u001b[0mf\u001b[0m \u001b[0;34m=\u001b[0m \u001b[0mself\u001b[0m\u001b[0;34m.\u001b[0m\u001b[0mdispatch\u001b[0m\u001b[0;34m.\u001b[0m\u001b[0mget\u001b[0m\u001b[0;34m(\u001b[0m\u001b[0mt\u001b[0m\u001b[0;34m)\u001b[0m\u001b[0;34m\u001b[0m\u001b[0;34m\u001b[0m\u001b[0m\n\u001b[1;32m    557\u001b[0m             \u001b[0;32mif\u001b[0m \u001b[0mf\u001b[0m \u001b[0;32mis\u001b[0m \u001b[0;32mnot\u001b[0m \u001b[0;32mNone\u001b[0m\u001b[0;34m:\u001b[0m\u001b[0;34m\u001b[0m\u001b[0;34m\u001b[0m\u001b[0m\n\u001b[0;32m--> 558\u001b[0;31m                 \u001b[0mf\u001b[0m\u001b[0;34m(\u001b[0m\u001b[0mself\u001b[0m\u001b[0;34m,\u001b[0m \u001b[0mobj\u001b[0m\u001b[0;34m)\u001b[0m  \u001b[0;31m# Call unbound method with explicit self\u001b[0m\u001b[0;34m\u001b[0m\u001b[0;34m\u001b[0m\u001b[0m\n\u001b[0m\u001b[1;32m    559\u001b[0m                 \u001b[0;32mreturn\u001b[0m\u001b[0;34m\u001b[0m\u001b[0;34m\u001b[0m\u001b[0m\n\u001b[1;32m    560\u001b[0m \u001b[0;34m\u001b[0m\u001b[0m\n",
      "\u001b[0;32m~/anaconda3/lib/python3.8/pickle.py\u001b[0m in \u001b[0;36msave_dict\u001b[0;34m(self, obj)\u001b[0m\n\u001b[1;32m    967\u001b[0m \u001b[0;34m\u001b[0m\u001b[0m\n\u001b[1;32m    968\u001b[0m         \u001b[0mself\u001b[0m\u001b[0;34m.\u001b[0m\u001b[0mmemoize\u001b[0m\u001b[0;34m(\u001b[0m\u001b[0mobj\u001b[0m\u001b[0;34m)\u001b[0m\u001b[0;34m\u001b[0m\u001b[0;34m\u001b[0m\u001b[0m\n\u001b[0;32m--> 969\u001b[0;31m         \u001b[0mself\u001b[0m\u001b[0;34m.\u001b[0m\u001b[0m_batch_setitems\u001b[0m\u001b[0;34m(\u001b[0m\u001b[0mobj\u001b[0m\u001b[0;34m.\u001b[0m\u001b[0mitems\u001b[0m\u001b[0;34m(\u001b[0m\u001b[0;34m)\u001b[0m\u001b[0;34m)\u001b[0m\u001b[0;34m\u001b[0m\u001b[0;34m\u001b[0m\u001b[0m\n\u001b[0m\u001b[1;32m    970\u001b[0m \u001b[0;34m\u001b[0m\u001b[0m\n\u001b[1;32m    971\u001b[0m     \u001b[0mdispatch\u001b[0m\u001b[0;34m[\u001b[0m\u001b[0mdict\u001b[0m\u001b[0;34m]\u001b[0m \u001b[0;34m=\u001b[0m \u001b[0msave_dict\u001b[0m\u001b[0;34m\u001b[0m\u001b[0;34m\u001b[0m\u001b[0m\n",
      "\u001b[0;32m~/anaconda3/lib/python3.8/pickle.py\u001b[0m in \u001b[0;36m_batch_setitems\u001b[0;34m(self, items)\u001b[0m\n\u001b[1;32m    993\u001b[0m                 \u001b[0;32mfor\u001b[0m \u001b[0mk\u001b[0m\u001b[0;34m,\u001b[0m \u001b[0mv\u001b[0m \u001b[0;32min\u001b[0m \u001b[0mtmp\u001b[0m\u001b[0;34m:\u001b[0m\u001b[0;34m\u001b[0m\u001b[0;34m\u001b[0m\u001b[0m\n\u001b[1;32m    994\u001b[0m                     \u001b[0msave\u001b[0m\u001b[0;34m(\u001b[0m\u001b[0mk\u001b[0m\u001b[0;34m)\u001b[0m\u001b[0;34m\u001b[0m\u001b[0;34m\u001b[0m\u001b[0m\n\u001b[0;32m--> 995\u001b[0;31m                     \u001b[0msave\u001b[0m\u001b[0;34m(\u001b[0m\u001b[0mv\u001b[0m\u001b[0;34m)\u001b[0m\u001b[0;34m\u001b[0m\u001b[0;34m\u001b[0m\u001b[0m\n\u001b[0m\u001b[1;32m    996\u001b[0m                 \u001b[0mwrite\u001b[0m\u001b[0;34m(\u001b[0m\u001b[0mSETITEMS\u001b[0m\u001b[0;34m)\u001b[0m\u001b[0;34m\u001b[0m\u001b[0;34m\u001b[0m\u001b[0m\n\u001b[1;32m    997\u001b[0m             \u001b[0;32melif\u001b[0m \u001b[0mn\u001b[0m\u001b[0;34m:\u001b[0m\u001b[0;34m\u001b[0m\u001b[0;34m\u001b[0m\u001b[0m\n",
      "\u001b[0;32m~/anaconda3/lib/python3.8/site-packages/joblib/numpy_pickle.py\u001b[0m in \u001b[0;36msave\u001b[0;34m(self, obj)\u001b[0m\n\u001b[1;32m    280\u001b[0m             \u001b[0;32mreturn\u001b[0m\u001b[0;34m\u001b[0m\u001b[0;34m\u001b[0m\u001b[0m\n\u001b[1;32m    281\u001b[0m \u001b[0;34m\u001b[0m\u001b[0m\n\u001b[0;32m--> 282\u001b[0;31m         \u001b[0;32mreturn\u001b[0m \u001b[0mPickler\u001b[0m\u001b[0;34m.\u001b[0m\u001b[0msave\u001b[0m\u001b[0;34m(\u001b[0m\u001b[0mself\u001b[0m\u001b[0;34m,\u001b[0m \u001b[0mobj\u001b[0m\u001b[0;34m)\u001b[0m\u001b[0;34m\u001b[0m\u001b[0;34m\u001b[0m\u001b[0m\n\u001b[0m\u001b[1;32m    283\u001b[0m \u001b[0;34m\u001b[0m\u001b[0m\n\u001b[1;32m    284\u001b[0m \u001b[0;34m\u001b[0m\u001b[0m\n",
      "\u001b[0;32m~/anaconda3/lib/python3.8/pickle.py\u001b[0m in \u001b[0;36msave\u001b[0;34m(self, obj, save_persistent_id)\u001b[0m\n\u001b[1;32m    556\u001b[0m             \u001b[0mf\u001b[0m \u001b[0;34m=\u001b[0m \u001b[0mself\u001b[0m\u001b[0;34m.\u001b[0m\u001b[0mdispatch\u001b[0m\u001b[0;34m.\u001b[0m\u001b[0mget\u001b[0m\u001b[0;34m(\u001b[0m\u001b[0mt\u001b[0m\u001b[0;34m)\u001b[0m\u001b[0;34m\u001b[0m\u001b[0;34m\u001b[0m\u001b[0m\n\u001b[1;32m    557\u001b[0m             \u001b[0;32mif\u001b[0m \u001b[0mf\u001b[0m \u001b[0;32mis\u001b[0m \u001b[0;32mnot\u001b[0m \u001b[0;32mNone\u001b[0m\u001b[0;34m:\u001b[0m\u001b[0;34m\u001b[0m\u001b[0;34m\u001b[0m\u001b[0m\n\u001b[0;32m--> 558\u001b[0;31m                 \u001b[0mf\u001b[0m\u001b[0;34m(\u001b[0m\u001b[0mself\u001b[0m\u001b[0;34m,\u001b[0m \u001b[0mobj\u001b[0m\u001b[0;34m)\u001b[0m  \u001b[0;31m# Call unbound method with explicit self\u001b[0m\u001b[0;34m\u001b[0m\u001b[0;34m\u001b[0m\u001b[0m\n\u001b[0m\u001b[1;32m    559\u001b[0m                 \u001b[0;32mreturn\u001b[0m\u001b[0;34m\u001b[0m\u001b[0;34m\u001b[0m\u001b[0m\n\u001b[1;32m    560\u001b[0m \u001b[0;34m\u001b[0m\u001b[0m\n",
      "\u001b[0;32m~/anaconda3/lib/python3.8/pickle.py\u001b[0m in \u001b[0;36msave_global\u001b[0;34m(self, obj, name)\u001b[0m\n\u001b[1;32m   1066\u001b[0m             \u001b[0mobj2\u001b[0m\u001b[0;34m,\u001b[0m \u001b[0mparent\u001b[0m \u001b[0;34m=\u001b[0m \u001b[0m_getattribute\u001b[0m\u001b[0;34m(\u001b[0m\u001b[0mmodule\u001b[0m\u001b[0;34m,\u001b[0m \u001b[0mname\u001b[0m\u001b[0;34m)\u001b[0m\u001b[0;34m\u001b[0m\u001b[0;34m\u001b[0m\u001b[0m\n\u001b[1;32m   1067\u001b[0m         \u001b[0;32mexcept\u001b[0m \u001b[0;34m(\u001b[0m\u001b[0mImportError\u001b[0m\u001b[0;34m,\u001b[0m \u001b[0mKeyError\u001b[0m\u001b[0;34m,\u001b[0m \u001b[0mAttributeError\u001b[0m\u001b[0;34m)\u001b[0m\u001b[0;34m:\u001b[0m\u001b[0;34m\u001b[0m\u001b[0;34m\u001b[0m\u001b[0m\n\u001b[0;32m-> 1068\u001b[0;31m             raise PicklingError(\n\u001b[0m\u001b[1;32m   1069\u001b[0m                 \u001b[0;34m\"Can't pickle %r: it's not found as %s.%s\"\u001b[0m \u001b[0;34m%\u001b[0m\u001b[0;34m\u001b[0m\u001b[0;34m\u001b[0m\u001b[0m\n\u001b[1;32m   1070\u001b[0m                 (obj, module_name, name)) from None\n",
      "\u001b[0;31mPicklingError\u001b[0m: Can't pickle <function LocalModel.__init__.<locals>.<lambda> at 0x7fc15d71c280>: it's not found as __main__.LocalModel.__init__.<locals>.<lambda>"
     ]
    }
   ],
   "source": [
    "dump(local_model, \"out/models/full_model.joblib\")"
   ]
  },
  {
   "cell_type": "code",
   "execution_count": null,
   "metadata": {},
   "outputs": [],
   "source": []
  },
  {
   "cell_type": "code",
   "execution_count": null,
   "metadata": {},
   "outputs": [],
   "source": []
  }
 ],
 "metadata": {
  "deepnote": {
   "is_reactive": false
  },
  "deepnote_execution_queue": [],
  "deepnote_notebook_id": "2216806c-a901-4fef-bab7-af1dedf05e35",
  "kernelspec": {
   "display_name": "Python 3",
   "language": "python",
   "name": "python3"
  },
  "language_info": {
   "codemirror_mode": {
    "name": "ipython",
    "version": 3
   },
   "file_extension": ".py",
   "mimetype": "text/x-python",
   "name": "python",
   "nbconvert_exporter": "python",
   "pygments_lexer": "ipython3",
   "version": "3.8.3"
  }
 },
 "nbformat": 4,
 "nbformat_minor": 4
}
