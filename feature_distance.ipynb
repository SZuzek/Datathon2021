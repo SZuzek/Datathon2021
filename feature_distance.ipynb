{
 "cells": [
  {
   "cell_type": "code",
   "metadata": {
    "tags": [],
    "cell_id": "00000-6877e712-9977-426d-876d-c7283b761252",
    "deepnote_to_be_reexecuted": false,
    "source_hash": "6fdbe552",
    "execution_start": 1620514670891,
    "execution_millis": 0,
    "deepnote_cell_type": "code"
   },
   "source": "import pandas as pd\nimport geopandas as gpd\nimport matplotlib.pyplot as plt\nfrom shapely.geometry import Point, Polygon\nfrom shapely.ops import nearest_points\nimport shapely\nimport pyproj\n%matplotlib inline\n",
   "execution_count": null,
   "outputs": []
  },
  {
   "cell_type": "code",
   "metadata": {
    "tags": [],
    "cell_id": "00001-3f943c89-9ce6-48c8-addc-e78f7d6a7a8f",
    "deepnote_to_be_reexecuted": false,
    "source_hash": "9c4eff94",
    "execution_start": 1620515139771,
    "execution_millis": 4782,
    "deepnote_cell_type": "code"
   },
   "source": "# metro \nbusses = gpd.read_file(\"geo_data/bus/PTV_METRO_BUS_STOP.shp\")\ntrams = gpd.read_file(\"geo_data/tram/PTV_METRO_TRAM_STOP.shp\")\nparks = gpd.read_file(\"geo_data/parks/RegionalParks_point.shp\")\nstatesig = gpd.read_file(\"geo_data/statesigroad/StateSigRdCorridor_polyline.shp\")",
   "execution_count": null,
   "outputs": []
  },
  {
   "cell_type": "code",
   "metadata": {
    "tags": [],
    "cell_id": "00002-62323e3c-9611-44d7-9186-528a573f3624",
    "deepnote_to_be_reexecuted": false,
    "source_hash": "fd128d1",
    "execution_start": 1620514673084,
    "execution_millis": 279,
    "deepnote_cell_type": "code"
   },
   "source": "gda94 = pyproj.CRS('EPSG:4283')\n\ngda94 = pyproj.CRS('EPSG:4283')\nproj = pyproj.CRS('EPSG:28355')\nproject = pyproj.Transformer.from_crs(gda94, proj, always_xy=True).transform",
   "execution_count": null,
   "outputs": []
  },
  {
   "cell_type": "code",
   "metadata": {
    "tags": [],
    "cell_id": "00002-2991bbf5-ba3c-4050-92c9-7e06acb9af40",
    "deepnote_to_be_reexecuted": false,
    "source_hash": "ac5f2077",
    "execution_start": 1620516701610,
    "execution_millis": 0,
    "deepnote_cell_type": "code"
   },
   "source": "def dist(geom, mp): \n    return mp.distance(geom)\n\ndef min_distance_shp(df, shp, lines = False): \n    if lines == False: \n        mp = shapely.geometry.MultiPoint(shp.geometry)\n    else: \n        mp = shp.geometry\n    \n    if lines == False: \n        mp = shapely.ops.transform(project,mp)\n        geometry = [shapely.ops.transform(project,Point(xy)) for xy in zip(df[\"long\"],df[\"Lat\"])]\n    else: \n        geometry = [Point(xy) for xy in zip(df[\"long\"], df[\"Lat\"])]\n\n    geo_df = gpd.GeoDataFrame(df,geometry=geometry)\n    series = geo_df.apply(lambda row: dist(row.geometry, mp), axis = 1)\n    if lines == True:\n        series = series.rename(columns = shp[\"ROAD_NAME\"])\n    else: \n        pass\n    return series",
   "execution_count": null,
   "outputs": []
  },
  {
   "cell_type": "code",
   "metadata": {
    "tags": [],
    "cell_id": "00003-03e5b789-c598-4ee5-a480-97c70972a3cf",
    "deepnote_to_be_reexecuted": false,
    "source_hash": "63300675",
    "execution_start": 1620514673396,
    "execution_millis": 725,
    "deepnote_cell_type": "code"
   },
   "source": "X_train = pd.read_csv(\"data/X_train.csv\", index_col=0)\nX_test = pd.read_csv(\"data/X_test.csv\", index_col=0)",
   "execution_count": null,
   "outputs": []
  },
  {
   "cell_type": "code",
   "metadata": {
    "tags": [],
    "cell_id": "00003-010fafd7-3b71-430e-87f0-affe809c5de9",
    "deepnote_to_be_reexecuted": false,
    "source_hash": "ac78fe74",
    "execution_start": 1620514522383,
    "execution_millis": 43291,
    "deepnote_cell_type": "code"
   },
   "source": "\nmin_distance_shp(X_train, busses).to_csv(\"features/busses_dist_train.csv\")\nmin_distance_shp(X_test, busses).to_csv(\"features/busses_dist_test.csv\")\n\nmin_distance_shp(X_train, trams).to_csv(\"features/trams_dist_train.csv\")\nmin_distance_shp(X_test, trams).to_csv(\"features/trams_dist_test.csv\")",
   "execution_count": null,
   "outputs": [
    {
     "output_type": "error",
     "ename": "KeyboardInterrupt",
     "evalue": "",
     "traceback": [
      "\u001b[0;31m---------------------------------------------------------------------------\u001b[0m",
      "\u001b[0;31mKeyboardInterrupt\u001b[0m                         Traceback (most recent call last)",
      "\u001b[0;32m<ipython-input-136-d23fed81a7e8>\u001b[0m in \u001b[0;36m<module>\u001b[0;34m\u001b[0m\n\u001b[1;32m      1\u001b[0m \u001b[0mX_train\u001b[0m \u001b[0;34m=\u001b[0m \u001b[0mpd\u001b[0m\u001b[0;34m.\u001b[0m\u001b[0mread_csv\u001b[0m\u001b[0;34m(\u001b[0m\u001b[0;34m\"data/X_train.csv\"\u001b[0m\u001b[0;34m,\u001b[0m \u001b[0mindex_col\u001b[0m\u001b[0;34m=\u001b[0m\u001b[0;36m0\u001b[0m\u001b[0;34m)\u001b[0m\u001b[0;34m\u001b[0m\u001b[0;34m\u001b[0m\u001b[0m\n\u001b[1;32m      2\u001b[0m \u001b[0mX_test\u001b[0m \u001b[0;34m=\u001b[0m \u001b[0mpd\u001b[0m\u001b[0;34m.\u001b[0m\u001b[0mread_csv\u001b[0m\u001b[0;34m(\u001b[0m\u001b[0;34m\"data/X_test.csv\"\u001b[0m\u001b[0;34m,\u001b[0m \u001b[0mindex_col\u001b[0m\u001b[0;34m=\u001b[0m\u001b[0;36m0\u001b[0m\u001b[0;34m)\u001b[0m\u001b[0;34m\u001b[0m\u001b[0;34m\u001b[0m\u001b[0m\n\u001b[0;32m----> 3\u001b[0;31m \u001b[0mmin_distance_shp\u001b[0m\u001b[0;34m(\u001b[0m\u001b[0mX_train\u001b[0m\u001b[0;34m,\u001b[0m \u001b[0mbusses\u001b[0m\u001b[0;34m)\u001b[0m\u001b[0;34m.\u001b[0m\u001b[0mto_csv\u001b[0m\u001b[0;34m(\u001b[0m\u001b[0;34m\"features/busses_dist_train.csv\"\u001b[0m\u001b[0;34m)\u001b[0m\u001b[0;34m\u001b[0m\u001b[0;34m\u001b[0m\u001b[0m\n\u001b[0m\u001b[1;32m      4\u001b[0m \u001b[0mmin_distance_shp\u001b[0m\u001b[0;34m(\u001b[0m\u001b[0mX_test\u001b[0m\u001b[0;34m,\u001b[0m \u001b[0mbusses\u001b[0m\u001b[0;34m)\u001b[0m\u001b[0;34m.\u001b[0m\u001b[0mto_csv\u001b[0m\u001b[0;34m(\u001b[0m\u001b[0;34m\"features/busses_dist_test.csv\"\u001b[0m\u001b[0;34m)\u001b[0m\u001b[0;34m\u001b[0m\u001b[0;34m\u001b[0m\u001b[0m\n\u001b[1;32m      5\u001b[0m \u001b[0;34m\u001b[0m\u001b[0m\n",
      "\u001b[0;32m<ipython-input-135-dcf4d84eb9e9>\u001b[0m in \u001b[0;36mmin_distance_shp\u001b[0;34m(df, shp)\u001b[0m\n\u001b[1;32m      7\u001b[0m     \u001b[0mgeometry\u001b[0m \u001b[0;34m=\u001b[0m \u001b[0;34m[\u001b[0m\u001b[0mshapely\u001b[0m\u001b[0;34m.\u001b[0m\u001b[0mops\u001b[0m\u001b[0;34m.\u001b[0m\u001b[0mtransform\u001b[0m\u001b[0;34m(\u001b[0m\u001b[0mproject\u001b[0m\u001b[0;34m,\u001b[0m\u001b[0mPoint\u001b[0m\u001b[0;34m(\u001b[0m\u001b[0mxy\u001b[0m\u001b[0;34m)\u001b[0m\u001b[0;34m)\u001b[0m \u001b[0;32mfor\u001b[0m \u001b[0mxy\u001b[0m \u001b[0;32min\u001b[0m \u001b[0mzip\u001b[0m\u001b[0;34m(\u001b[0m\u001b[0mdf\u001b[0m\u001b[0;34m[\u001b[0m\u001b[0;34m\"long\"\u001b[0m\u001b[0;34m]\u001b[0m\u001b[0;34m,\u001b[0m\u001b[0mdf\u001b[0m\u001b[0;34m[\u001b[0m\u001b[0;34m\"Lat\"\u001b[0m\u001b[0;34m]\u001b[0m\u001b[0;34m)\u001b[0m\u001b[0;34m]\u001b[0m\u001b[0;34m\u001b[0m\u001b[0;34m\u001b[0m\u001b[0m\n\u001b[1;32m      8\u001b[0m     \u001b[0mgeo_df\u001b[0m \u001b[0;34m=\u001b[0m \u001b[0mgpd\u001b[0m\u001b[0;34m.\u001b[0m\u001b[0mGeoDataFrame\u001b[0m\u001b[0;34m(\u001b[0m\u001b[0mdf\u001b[0m\u001b[0;34m,\u001b[0m\u001b[0mgeometry\u001b[0m\u001b[0;34m=\u001b[0m\u001b[0mgeometry\u001b[0m\u001b[0;34m)\u001b[0m\u001b[0;34m\u001b[0m\u001b[0;34m\u001b[0m\u001b[0m\n\u001b[0;32m----> 9\u001b[0;31m     \u001b[0mseries\u001b[0m \u001b[0;34m=\u001b[0m \u001b[0mgeo_df\u001b[0m\u001b[0;34m.\u001b[0m\u001b[0mapply\u001b[0m\u001b[0;34m(\u001b[0m\u001b[0;32mlambda\u001b[0m \u001b[0mrow\u001b[0m\u001b[0;34m:\u001b[0m \u001b[0mdist\u001b[0m\u001b[0;34m(\u001b[0m\u001b[0mrow\u001b[0m\u001b[0;34m.\u001b[0m\u001b[0mgeometry\u001b[0m\u001b[0;34m,\u001b[0m \u001b[0mmp\u001b[0m\u001b[0;34m)\u001b[0m\u001b[0;34m,\u001b[0m \u001b[0maxis\u001b[0m \u001b[0;34m=\u001b[0m \u001b[0;36m1\u001b[0m\u001b[0;34m)\u001b[0m\u001b[0;34m\u001b[0m\u001b[0;34m\u001b[0m\u001b[0m\n\u001b[0m\u001b[1;32m     10\u001b[0m     \u001b[0;32mreturn\u001b[0m \u001b[0mseries\u001b[0m\u001b[0;34m\u001b[0m\u001b[0;34m\u001b[0m\u001b[0m\n",
      "\u001b[0;32m~/venv/lib/python3.7/site-packages/geopandas/geodataframe.py\u001b[0m in \u001b[0;36mapply\u001b[0;34m(self, func, axis, raw, result_type, args, **kwargs)\u001b[0m\n\u001b[1;32m   1360\u001b[0m     \u001b[0;32mdef\u001b[0m \u001b[0mapply\u001b[0m\u001b[0;34m(\u001b[0m\u001b[0mself\u001b[0m\u001b[0;34m,\u001b[0m \u001b[0mfunc\u001b[0m\u001b[0;34m,\u001b[0m \u001b[0maxis\u001b[0m\u001b[0;34m=\u001b[0m\u001b[0;36m0\u001b[0m\u001b[0;34m,\u001b[0m \u001b[0mraw\u001b[0m\u001b[0;34m=\u001b[0m\u001b[0;32mFalse\u001b[0m\u001b[0;34m,\u001b[0m \u001b[0mresult_type\u001b[0m\u001b[0;34m=\u001b[0m\u001b[0;32mNone\u001b[0m\u001b[0;34m,\u001b[0m \u001b[0margs\u001b[0m\u001b[0;34m=\u001b[0m\u001b[0;34m(\u001b[0m\u001b[0;34m)\u001b[0m\u001b[0;34m,\u001b[0m \u001b[0;34m**\u001b[0m\u001b[0mkwargs\u001b[0m\u001b[0;34m)\u001b[0m\u001b[0;34m:\u001b[0m\u001b[0;34m\u001b[0m\u001b[0;34m\u001b[0m\u001b[0m\n\u001b[1;32m   1361\u001b[0m         result = super().apply(\n\u001b[0;32m-> 1362\u001b[0;31m             \u001b[0mfunc\u001b[0m\u001b[0;34m,\u001b[0m \u001b[0maxis\u001b[0m\u001b[0;34m=\u001b[0m\u001b[0maxis\u001b[0m\u001b[0;34m,\u001b[0m \u001b[0mraw\u001b[0m\u001b[0;34m=\u001b[0m\u001b[0mraw\u001b[0m\u001b[0;34m,\u001b[0m \u001b[0mresult_type\u001b[0m\u001b[0;34m=\u001b[0m\u001b[0mresult_type\u001b[0m\u001b[0;34m,\u001b[0m \u001b[0margs\u001b[0m\u001b[0;34m=\u001b[0m\u001b[0margs\u001b[0m\u001b[0;34m,\u001b[0m \u001b[0;34m**\u001b[0m\u001b[0mkwargs\u001b[0m\u001b[0;34m\u001b[0m\u001b[0;34m\u001b[0m\u001b[0m\n\u001b[0m\u001b[1;32m   1363\u001b[0m         )\n\u001b[1;32m   1364\u001b[0m         if (\n",
      "\u001b[0;32m/shared-libs/python3.7/py/lib/python3.7/site-packages/pandas/core/frame.py\u001b[0m in \u001b[0;36mapply\u001b[0;34m(self, func, axis, raw, result_type, args, **kwds)\u001b[0m\n\u001b[1;32m   7766\u001b[0m             \u001b[0mkwds\u001b[0m\u001b[0;34m=\u001b[0m\u001b[0mkwds\u001b[0m\u001b[0;34m,\u001b[0m\u001b[0;34m\u001b[0m\u001b[0;34m\u001b[0m\u001b[0m\n\u001b[1;32m   7767\u001b[0m         )\n\u001b[0;32m-> 7768\u001b[0;31m         \u001b[0;32mreturn\u001b[0m \u001b[0mop\u001b[0m\u001b[0;34m.\u001b[0m\u001b[0mget_result\u001b[0m\u001b[0;34m(\u001b[0m\u001b[0;34m)\u001b[0m\u001b[0;34m\u001b[0m\u001b[0;34m\u001b[0m\u001b[0m\n\u001b[0m\u001b[1;32m   7769\u001b[0m \u001b[0;34m\u001b[0m\u001b[0m\n\u001b[1;32m   7770\u001b[0m     \u001b[0;32mdef\u001b[0m \u001b[0mapplymap\u001b[0m\u001b[0;34m(\u001b[0m\u001b[0mself\u001b[0m\u001b[0;34m,\u001b[0m \u001b[0mfunc\u001b[0m\u001b[0;34m,\u001b[0m \u001b[0mna_action\u001b[0m\u001b[0;34m:\u001b[0m \u001b[0mOptional\u001b[0m\u001b[0;34m[\u001b[0m\u001b[0mstr\u001b[0m\u001b[0;34m]\u001b[0m \u001b[0;34m=\u001b[0m \u001b[0;32mNone\u001b[0m\u001b[0;34m)\u001b[0m \u001b[0;34m->\u001b[0m \u001b[0mDataFrame\u001b[0m\u001b[0;34m:\u001b[0m\u001b[0;34m\u001b[0m\u001b[0;34m\u001b[0m\u001b[0m\n",
      "\u001b[0;32m/shared-libs/python3.7/py/lib/python3.7/site-packages/pandas/core/apply.py\u001b[0m in \u001b[0;36mget_result\u001b[0;34m(self)\u001b[0m\n\u001b[1;32m    183\u001b[0m             \u001b[0;32mreturn\u001b[0m \u001b[0mself\u001b[0m\u001b[0;34m.\u001b[0m\u001b[0mapply_raw\u001b[0m\u001b[0;34m(\u001b[0m\u001b[0;34m)\u001b[0m\u001b[0;34m\u001b[0m\u001b[0;34m\u001b[0m\u001b[0m\n\u001b[1;32m    184\u001b[0m \u001b[0;34m\u001b[0m\u001b[0m\n\u001b[0;32m--> 185\u001b[0;31m         \u001b[0;32mreturn\u001b[0m \u001b[0mself\u001b[0m\u001b[0;34m.\u001b[0m\u001b[0mapply_standard\u001b[0m\u001b[0;34m(\u001b[0m\u001b[0;34m)\u001b[0m\u001b[0;34m\u001b[0m\u001b[0;34m\u001b[0m\u001b[0m\n\u001b[0m\u001b[1;32m    186\u001b[0m \u001b[0;34m\u001b[0m\u001b[0m\n\u001b[1;32m    187\u001b[0m     \u001b[0;32mdef\u001b[0m \u001b[0mapply_empty_result\u001b[0m\u001b[0;34m(\u001b[0m\u001b[0mself\u001b[0m\u001b[0;34m)\u001b[0m\u001b[0;34m:\u001b[0m\u001b[0;34m\u001b[0m\u001b[0;34m\u001b[0m\u001b[0m\n",
      "\u001b[0;32m/shared-libs/python3.7/py/lib/python3.7/site-packages/pandas/core/apply.py\u001b[0m in \u001b[0;36mapply_standard\u001b[0;34m(self)\u001b[0m\n\u001b[1;32m    274\u001b[0m \u001b[0;34m\u001b[0m\u001b[0m\n\u001b[1;32m    275\u001b[0m     \u001b[0;32mdef\u001b[0m \u001b[0mapply_standard\u001b[0m\u001b[0;34m(\u001b[0m\u001b[0mself\u001b[0m\u001b[0;34m)\u001b[0m\u001b[0;34m:\u001b[0m\u001b[0;34m\u001b[0m\u001b[0;34m\u001b[0m\u001b[0m\n\u001b[0;32m--> 276\u001b[0;31m         \u001b[0mresults\u001b[0m\u001b[0;34m,\u001b[0m \u001b[0mres_index\u001b[0m \u001b[0;34m=\u001b[0m \u001b[0mself\u001b[0m\u001b[0;34m.\u001b[0m\u001b[0mapply_series_generator\u001b[0m\u001b[0;34m(\u001b[0m\u001b[0;34m)\u001b[0m\u001b[0;34m\u001b[0m\u001b[0;34m\u001b[0m\u001b[0m\n\u001b[0m\u001b[1;32m    277\u001b[0m \u001b[0;34m\u001b[0m\u001b[0m\n\u001b[1;32m    278\u001b[0m         \u001b[0;31m# wrap results\u001b[0m\u001b[0;34m\u001b[0m\u001b[0;34m\u001b[0m\u001b[0;34m\u001b[0m\u001b[0m\n",
      "\u001b[0;32m/shared-libs/python3.7/py/lib/python3.7/site-packages/pandas/core/apply.py\u001b[0m in \u001b[0;36mapply_series_generator\u001b[0;34m(self)\u001b[0m\n\u001b[1;32m    288\u001b[0m             \u001b[0;32mfor\u001b[0m \u001b[0mi\u001b[0m\u001b[0;34m,\u001b[0m \u001b[0mv\u001b[0m \u001b[0;32min\u001b[0m \u001b[0menumerate\u001b[0m\u001b[0;34m(\u001b[0m\u001b[0mseries_gen\u001b[0m\u001b[0;34m)\u001b[0m\u001b[0;34m:\u001b[0m\u001b[0;34m\u001b[0m\u001b[0;34m\u001b[0m\u001b[0m\n\u001b[1;32m    289\u001b[0m                 \u001b[0;31m# ignore SettingWithCopy here in case the user mutates\u001b[0m\u001b[0;34m\u001b[0m\u001b[0;34m\u001b[0m\u001b[0;34m\u001b[0m\u001b[0m\n\u001b[0;32m--> 290\u001b[0;31m                 \u001b[0mresults\u001b[0m\u001b[0;34m[\u001b[0m\u001b[0mi\u001b[0m\u001b[0;34m]\u001b[0m \u001b[0;34m=\u001b[0m \u001b[0mself\u001b[0m\u001b[0;34m.\u001b[0m\u001b[0mf\u001b[0m\u001b[0;34m(\u001b[0m\u001b[0mv\u001b[0m\u001b[0;34m)\u001b[0m\u001b[0;34m\u001b[0m\u001b[0;34m\u001b[0m\u001b[0m\n\u001b[0m\u001b[1;32m    291\u001b[0m                 \u001b[0;32mif\u001b[0m \u001b[0misinstance\u001b[0m\u001b[0;34m(\u001b[0m\u001b[0mresults\u001b[0m\u001b[0;34m[\u001b[0m\u001b[0mi\u001b[0m\u001b[0;34m]\u001b[0m\u001b[0;34m,\u001b[0m \u001b[0mABCSeries\u001b[0m\u001b[0;34m)\u001b[0m\u001b[0;34m:\u001b[0m\u001b[0;34m\u001b[0m\u001b[0;34m\u001b[0m\u001b[0m\n\u001b[1;32m    292\u001b[0m                     \u001b[0;31m# If we have a view on v, we need to make a copy because\u001b[0m\u001b[0;34m\u001b[0m\u001b[0;34m\u001b[0m\u001b[0;34m\u001b[0m\u001b[0m\n",
      "\u001b[0;32m<ipython-input-135-dcf4d84eb9e9>\u001b[0m in \u001b[0;36m<lambda>\u001b[0;34m(row)\u001b[0m\n\u001b[1;32m      7\u001b[0m     \u001b[0mgeometry\u001b[0m \u001b[0;34m=\u001b[0m \u001b[0;34m[\u001b[0m\u001b[0mshapely\u001b[0m\u001b[0;34m.\u001b[0m\u001b[0mops\u001b[0m\u001b[0;34m.\u001b[0m\u001b[0mtransform\u001b[0m\u001b[0;34m(\u001b[0m\u001b[0mproject\u001b[0m\u001b[0;34m,\u001b[0m\u001b[0mPoint\u001b[0m\u001b[0;34m(\u001b[0m\u001b[0mxy\u001b[0m\u001b[0;34m)\u001b[0m\u001b[0;34m)\u001b[0m \u001b[0;32mfor\u001b[0m \u001b[0mxy\u001b[0m \u001b[0;32min\u001b[0m \u001b[0mzip\u001b[0m\u001b[0;34m(\u001b[0m\u001b[0mdf\u001b[0m\u001b[0;34m[\u001b[0m\u001b[0;34m\"long\"\u001b[0m\u001b[0;34m]\u001b[0m\u001b[0;34m,\u001b[0m\u001b[0mdf\u001b[0m\u001b[0;34m[\u001b[0m\u001b[0;34m\"Lat\"\u001b[0m\u001b[0;34m]\u001b[0m\u001b[0;34m)\u001b[0m\u001b[0;34m]\u001b[0m\u001b[0;34m\u001b[0m\u001b[0;34m\u001b[0m\u001b[0m\n\u001b[1;32m      8\u001b[0m     \u001b[0mgeo_df\u001b[0m \u001b[0;34m=\u001b[0m \u001b[0mgpd\u001b[0m\u001b[0;34m.\u001b[0m\u001b[0mGeoDataFrame\u001b[0m\u001b[0;34m(\u001b[0m\u001b[0mdf\u001b[0m\u001b[0;34m,\u001b[0m\u001b[0mgeometry\u001b[0m\u001b[0;34m=\u001b[0m\u001b[0mgeometry\u001b[0m\u001b[0;34m)\u001b[0m\u001b[0;34m\u001b[0m\u001b[0;34m\u001b[0m\u001b[0m\n\u001b[0;32m----> 9\u001b[0;31m     \u001b[0mseries\u001b[0m \u001b[0;34m=\u001b[0m \u001b[0mgeo_df\u001b[0m\u001b[0;34m.\u001b[0m\u001b[0mapply\u001b[0m\u001b[0;34m(\u001b[0m\u001b[0;32mlambda\u001b[0m \u001b[0mrow\u001b[0m\u001b[0;34m:\u001b[0m \u001b[0mdist\u001b[0m\u001b[0;34m(\u001b[0m\u001b[0mrow\u001b[0m\u001b[0;34m.\u001b[0m\u001b[0mgeometry\u001b[0m\u001b[0;34m,\u001b[0m \u001b[0mmp\u001b[0m\u001b[0;34m)\u001b[0m\u001b[0;34m,\u001b[0m \u001b[0maxis\u001b[0m \u001b[0;34m=\u001b[0m \u001b[0;36m1\u001b[0m\u001b[0;34m)\u001b[0m\u001b[0;34m\u001b[0m\u001b[0;34m\u001b[0m\u001b[0m\n\u001b[0m\u001b[1;32m     10\u001b[0m     \u001b[0;32mreturn\u001b[0m \u001b[0mseries\u001b[0m\u001b[0;34m\u001b[0m\u001b[0;34m\u001b[0m\u001b[0m\n",
      "\u001b[0;32m<ipython-input-135-dcf4d84eb9e9>\u001b[0m in \u001b[0;36mdist\u001b[0;34m(geom, mp)\u001b[0m\n\u001b[1;32m      1\u001b[0m \u001b[0;32mdef\u001b[0m \u001b[0mdist\u001b[0m\u001b[0;34m(\u001b[0m\u001b[0mgeom\u001b[0m\u001b[0;34m,\u001b[0m \u001b[0mmp\u001b[0m\u001b[0;34m)\u001b[0m\u001b[0;34m:\u001b[0m\u001b[0;34m\u001b[0m\u001b[0;34m\u001b[0m\u001b[0m\n\u001b[0;32m----> 2\u001b[0;31m     \u001b[0;32mreturn\u001b[0m \u001b[0mmp\u001b[0m\u001b[0;34m.\u001b[0m\u001b[0mdistance\u001b[0m\u001b[0;34m(\u001b[0m\u001b[0mgeom\u001b[0m\u001b[0;34m)\u001b[0m\u001b[0;34m\u001b[0m\u001b[0;34m\u001b[0m\u001b[0m\n\u001b[0m\u001b[1;32m      3\u001b[0m \u001b[0;34m\u001b[0m\u001b[0m\n\u001b[1;32m      4\u001b[0m \u001b[0;32mdef\u001b[0m \u001b[0mmin_distance_shp\u001b[0m\u001b[0;34m(\u001b[0m\u001b[0mdf\u001b[0m\u001b[0;34m,\u001b[0m \u001b[0mshp\u001b[0m\u001b[0;34m)\u001b[0m\u001b[0;34m:\u001b[0m\u001b[0;34m\u001b[0m\u001b[0;34m\u001b[0m\u001b[0m\n\u001b[1;32m      5\u001b[0m     \u001b[0mmp\u001b[0m \u001b[0;34m=\u001b[0m \u001b[0mshapely\u001b[0m\u001b[0;34m.\u001b[0m\u001b[0mgeometry\u001b[0m\u001b[0;34m.\u001b[0m\u001b[0mMultiPoint\u001b[0m\u001b[0;34m(\u001b[0m\u001b[0mshp\u001b[0m\u001b[0;34m.\u001b[0m\u001b[0mgeometry\u001b[0m\u001b[0;34m)\u001b[0m\u001b[0;34m\u001b[0m\u001b[0;34m\u001b[0m\u001b[0m\n",
      "\u001b[0;32m~/venv/lib/python3.7/site-packages/shapely/geometry/base.py\u001b[0m in \u001b[0;36mdistance\u001b[0;34m(self, other)\u001b[0m\n\u001b[1;32m    442\u001b[0m     \u001b[0;32mdef\u001b[0m \u001b[0mdistance\u001b[0m\u001b[0;34m(\u001b[0m\u001b[0mself\u001b[0m\u001b[0;34m,\u001b[0m \u001b[0mother\u001b[0m\u001b[0;34m)\u001b[0m\u001b[0;34m:\u001b[0m\u001b[0;34m\u001b[0m\u001b[0;34m\u001b[0m\u001b[0m\n\u001b[1;32m    443\u001b[0m         \u001b[0;34m\"\"\"Unitless distance to other geometry (float)\"\"\"\u001b[0m\u001b[0;34m\u001b[0m\u001b[0;34m\u001b[0m\u001b[0m\n\u001b[0;32m--> 444\u001b[0;31m         \u001b[0;32mreturn\u001b[0m \u001b[0mself\u001b[0m\u001b[0;34m.\u001b[0m\u001b[0mimpl\u001b[0m\u001b[0;34m[\u001b[0m\u001b[0;34m'distance'\u001b[0m\u001b[0;34m]\u001b[0m\u001b[0;34m(\u001b[0m\u001b[0mself\u001b[0m\u001b[0;34m,\u001b[0m \u001b[0mother\u001b[0m\u001b[0;34m)\u001b[0m\u001b[0;34m\u001b[0m\u001b[0;34m\u001b[0m\u001b[0m\n\u001b[0m\u001b[1;32m    445\u001b[0m \u001b[0;34m\u001b[0m\u001b[0m\n\u001b[1;32m    446\u001b[0m     \u001b[0;32mdef\u001b[0m \u001b[0mhausdorff_distance\u001b[0m\u001b[0;34m(\u001b[0m\u001b[0mself\u001b[0m\u001b[0;34m,\u001b[0m \u001b[0mother\u001b[0m\u001b[0;34m)\u001b[0m\u001b[0;34m:\u001b[0m\u001b[0;34m\u001b[0m\u001b[0;34m\u001b[0m\u001b[0m\n",
      "\u001b[0;32m~/venv/lib/python3.7/site-packages/shapely/topology.py\u001b[0m in \u001b[0;36m__call__\u001b[0;34m(self, this, other)\u001b[0m\n\u001b[1;32m     46\u001b[0m         \u001b[0mself\u001b[0m\u001b[0;34m.\u001b[0m\u001b[0m_validate\u001b[0m\u001b[0;34m(\u001b[0m\u001b[0mother\u001b[0m\u001b[0;34m,\u001b[0m \u001b[0mstop_prepared\u001b[0m\u001b[0;34m=\u001b[0m\u001b[0;32mTrue\u001b[0m\u001b[0;34m)\u001b[0m\u001b[0;34m\u001b[0m\u001b[0;34m\u001b[0m\u001b[0m\n\u001b[1;32m     47\u001b[0m         \u001b[0md\u001b[0m \u001b[0;34m=\u001b[0m \u001b[0mc_double\u001b[0m\u001b[0;34m(\u001b[0m\u001b[0;34m)\u001b[0m\u001b[0;34m\u001b[0m\u001b[0;34m\u001b[0m\u001b[0m\n\u001b[0;32m---> 48\u001b[0;31m         \u001b[0mretval\u001b[0m \u001b[0;34m=\u001b[0m \u001b[0mself\u001b[0m\u001b[0;34m.\u001b[0m\u001b[0mfn\u001b[0m\u001b[0;34m(\u001b[0m\u001b[0mthis\u001b[0m\u001b[0;34m.\u001b[0m\u001b[0m_geom\u001b[0m\u001b[0;34m,\u001b[0m \u001b[0mother\u001b[0m\u001b[0;34m.\u001b[0m\u001b[0m_geom\u001b[0m\u001b[0;34m,\u001b[0m \u001b[0mbyref\u001b[0m\u001b[0;34m(\u001b[0m\u001b[0md\u001b[0m\u001b[0;34m)\u001b[0m\u001b[0;34m)\u001b[0m\u001b[0;34m\u001b[0m\u001b[0;34m\u001b[0m\u001b[0m\n\u001b[0m\u001b[1;32m     49\u001b[0m         \u001b[0;32mreturn\u001b[0m \u001b[0md\u001b[0m\u001b[0;34m.\u001b[0m\u001b[0mvalue\u001b[0m\u001b[0;34m\u001b[0m\u001b[0;34m\u001b[0m\u001b[0m\n\u001b[1;32m     50\u001b[0m \u001b[0;34m\u001b[0m\u001b[0m\n",
      "\u001b[0;31mKeyboardInterrupt\u001b[0m: "
     ]
    }
   ]
  },
  {
   "cell_type": "code",
   "metadata": {
    "tags": [],
    "cell_id": "00006-0323e95a-2d72-4f7a-879d-1442a4010575",
    "deepnote_cell_type": "code"
   },
   "source": "",
   "execution_count": null,
   "outputs": []
  },
  {
   "cell_type": "code",
   "metadata": {
    "tags": [],
    "cell_id": "00004-7c29899b-8dea-4618-8b1f-8fee5bcf5ab5",
    "deepnote_to_be_reexecuted": false,
    "source_hash": "e3c3d2cd",
    "execution_start": 1620502432010,
    "execution_millis": 33495,
    "deepnote_cell_type": "code"
   },
   "source": "min_distance_shp(X_train, parks).to_csv(\"features/parks_dist_train.csv\")\nmin_distance_shp(X_test, parks).to_csv(\"features/parks_dist_test.csv\")",
   "execution_count": null,
   "outputs": []
  },
  {
   "cell_type": "code",
   "metadata": {
    "tags": [],
    "cell_id": "00002-8854bc1f-32cc-4b84-86d7-d81c40456969",
    "deepnote_to_be_reexecuted": false,
    "source_hash": "b5892b0f",
    "execution_start": 1620516802841,
    "execution_millis": 4612170,
    "deepnote_cell_type": "code"
   },
   "source": "min_distance_shp(X_train, statesig, lines = True).to_csv(\"features/statesig_dist_train.csv\")\nmin_distance_shp(X_test, statesig, lines = True).to_csv(\"features/statesig_dist_test.csv\")",
   "execution_count": null,
   "outputs": [
    {
     "name": "stderr",
     "text": "/shared-libs/python3.7/py-core/lib/python3.7/site-packages/ipykernel_launcher.py:2: UserWarning: Geometry is in a geographic CRS. Results from 'distance' are likely incorrect. Use 'GeoSeries.to_crs()' to re-project geometries to a projected CRS before this operation.\n\n  \n",
     "output_type": "stream"
    }
   ]
  },
  {
   "cell_type": "code",
   "metadata": {
    "tags": [],
    "cell_id": "00009-543b8079-d020-47b0-99d2-ce6956125b2d",
    "deepnote_to_be_reexecuted": false,
    "source_hash": "877d7fa4",
    "execution_start": 1620516705592,
    "execution_millis": 723,
    "deepnote_cell_type": "code"
   },
   "source": "dd = min_distance_shp(X_train[1:10], statesig, lines = True)\ndd.to_csv(\"test_feature.csv\")\n\ndd",
   "execution_count": null,
   "outputs": [
    {
     "name": "stderr",
     "text": "/shared-libs/python3.7/py-core/lib/python3.7/site-packages/ipykernel_launcher.py:2: UserWarning: Geometry is in a geographic CRS. Results from 'distance' are likely incorrect. Use 'GeoSeries.to_crs()' to re-project geometries to a projected CRS before this operation.\n\n  \n",
     "output_type": "stream"
    },
    {
     "output_type": "execute_result",
     "execution_count": 181,
     "data": {
      "application/vnd.deepnote.dataframe.v2+json": {
       "row_count": 9,
       "column_count": 36,
       "columns": [
        {
         "name": "ANDERSON LINK ROAD",
         "dtype": "float64",
         "stats": {
          "unique_count": 9,
          "nan_count": 0,
          "min": "0.41789582674264736",
          "max": "0.9171263311781764",
          "histogram": [
           {
            "bin_start": 0.41789582674264736,
            "bin_end": 0.46781887718620024,
            "count": 2
           },
           {
            "bin_start": 0.46781887718620024,
            "bin_end": 0.5177419276297531,
            "count": 1
           },
           {
            "bin_start": 0.5177419276297531,
            "bin_end": 0.5676649780733061,
            "count": 0
           },
           {
            "bin_start": 0.5676649780733061,
            "bin_end": 0.617588028516859,
            "count": 0
           },
           {
            "bin_start": 0.617588028516859,
            "bin_end": 0.667511078960412,
            "count": 0
           },
           {
            "bin_start": 0.667511078960412,
            "bin_end": 0.7174341294039648,
            "count": 1
           },
           {
            "bin_start": 0.7174341294039648,
            "bin_end": 0.7673571798475177,
            "count": 1
           },
           {
            "bin_start": 0.7673571798475177,
            "bin_end": 0.8172802302910707,
            "count": 1
           },
           {
            "bin_start": 0.8172802302910707,
            "bin_end": 0.8672032807346235,
            "count": 1
           },
           {
            "bin_start": 0.8672032807346235,
            "bin_end": 0.9171263311781764,
            "count": 2
           }
          ]
         }
        },
        {
         "name": "BALLARAT ROAD",
         "dtype": "float64",
         "stats": {
          "unique_count": 9,
          "nan_count": 0,
          "min": "0.050975132703805145",
          "max": "0.8094174791089084",
          "histogram": [
           {
            "bin_start": 0.050975132703805145,
            "bin_end": 0.12681936734431548,
            "count": 1
           },
           {
            "bin_start": 0.12681936734431548,
            "bin_end": 0.2026636019848258,
            "count": 3
           },
           {
            "bin_start": 0.2026636019848258,
            "bin_end": 0.2785078366253361,
            "count": 0
           },
           {
            "bin_start": 0.2785078366253361,
            "bin_end": 0.35435207126584645,
            "count": 0
           },
           {
            "bin_start": 0.35435207126584645,
            "bin_end": 0.43019630590635677,
            "count": 2
           },
           {
            "bin_start": 0.43019630590635677,
            "bin_end": 0.5060405405468671,
            "count": 1
           },
           {
            "bin_start": 0.5060405405468671,
            "bin_end": 0.5818847751873774,
            "count": 0
           },
           {
            "bin_start": 0.5818847751873774,
            "bin_end": 0.6577290098278877,
            "count": 1
           },
           {
            "bin_start": 0.6577290098278877,
            "bin_end": 0.7335732444683981,
            "count": 0
           },
           {
            "bin_start": 0.7335732444683981,
            "bin_end": 0.8094174791089084,
            "count": 1
           }
          ]
         }
        },
        {
         "name": "BASS HIGHWAY",
         "dtype": "float64",
         "stats": {
          "unique_count": 9,
          "nan_count": 0,
          "min": "0.2107138296733409",
          "max": "0.87019698697234",
          "histogram": [
           {
            "bin_start": 0.2107138296733409,
            "bin_end": 0.27666214540324086,
            "count": 1
           },
           {
            "bin_start": 0.27666214540324086,
            "bin_end": 0.34261046113314075,
            "count": 1
           },
           {
            "bin_start": 0.34261046113314075,
            "bin_end": 0.40855877686304065,
            "count": 0
           },
           {
            "bin_start": 0.40855877686304065,
            "bin_end": 0.4745070925929406,
            "count": 1
           },
           {
            "bin_start": 0.4745070925929406,
            "bin_end": 0.5404554083228406,
            "count": 1
           },
           {
            "bin_start": 0.5404554083228406,
            "bin_end": 0.6064037240527405,
            "count": 1
           },
           {
            "bin_start": 0.6064037240527405,
            "bin_end": 0.6723520397826404,
            "count": 1
           },
           {
            "bin_start": 0.6723520397826404,
            "bin_end": 0.7383003555125403,
            "count": 0
           },
           {
            "bin_start": 0.7383003555125403,
            "bin_end": 0.8042486712424401,
            "count": 2
           },
           {
            "bin_start": 0.8042486712424401,
            "bin_end": 0.87019698697234,
            "count": 1
           }
          ]
         }
        },
        {
         "name": "BAXTER-TOORADIN ROAD",
         "dtype": "float64",
         "stats": {
          "unique_count": 9,
          "nan_count": 0,
          "min": "0.1365784770444431",
          "max": "0.6513160354380291",
          "histogram": [
           {
            "bin_start": 0.1365784770444431,
            "bin_end": 0.18805223288380168,
            "count": 2
           },
           {
            "bin_start": 0.18805223288380168,
            "bin_end": 0.2395259887231603,
            "count": 0
           },
           {
            "bin_start": 0.2395259887231603,
            "bin_end": 0.2909997445625189,
            "count": 1
           },
           {
            "bin_start": 0.2909997445625189,
            "bin_end": 0.3424735004018775,
            "count": 0
           },
           {
            "bin_start": 0.3424735004018775,
            "bin_end": 0.3939472562412361,
            "count": 1
           },
           {
            "bin_start": 0.3939472562412361,
            "bin_end": 0.44542101208059476,
            "count": 1
           },
           {
            "bin_start": 0.44542101208059476,
            "bin_end": 0.49689476791995335,
            "count": 0
           },
           {
            "bin_start": 0.49689476791995335,
            "bin_end": 0.5483685237593119,
            "count": 1
           },
           {
            "bin_start": 0.5483685237593119,
            "bin_end": 0.5998422795986705,
            "count": 2
           },
           {
            "bin_start": 0.5998422795986705,
            "bin_end": 0.6513160354380291,
            "count": 1
           }
          ]
         }
        },
        {
         "name": "CALDER FREEWAY",
         "dtype": "float64",
         "stats": {
          "unique_count": 9,
          "nan_count": 0,
          "min": "0.10806262887981594",
          "max": "0.8175148637031142",
          "histogram": [
           {
            "bin_start": 0.10806262887981594,
            "bin_end": 0.17900785236214578,
            "count": 3
           },
           {
            "bin_start": 0.17900785236214578,
            "bin_end": 0.2499530758444756,
            "count": 1
           },
           {
            "bin_start": 0.2499530758444756,
            "bin_end": 0.3208982993268054,
            "count": 0
           },
           {
            "bin_start": 0.3208982993268054,
            "bin_end": 0.39184352280913526,
            "count": 0
           },
           {
            "bin_start": 0.39184352280913526,
            "bin_end": 0.4627887462914651,
            "count": 1
           },
           {
            "bin_start": 0.4627887462914651,
            "bin_end": 0.5337339697737948,
            "count": 1
           },
           {
            "bin_start": 0.5337339697737948,
            "bin_end": 0.6046791932561247,
            "count": 1
           },
           {
            "bin_start": 0.6046791932561247,
            "bin_end": 0.6756244167384546,
            "count": 0
           },
           {
            "bin_start": 0.6756244167384546,
            "bin_end": 0.7465696402207844,
            "count": 1
           },
           {
            "bin_start": 0.7465696402207844,
            "bin_end": 0.8175148637031142,
            "count": 1
           }
          ]
         }
        },
        {
         "name": "DEER PARK BYPASS",
         "dtype": "float64",
         "stats": {
          "unique_count": 9,
          "nan_count": 0,
          "min": "0.08652916000684967",
          "max": "0.9252075209344853",
          "histogram": [
           {
            "bin_start": 0.08652916000684967,
            "bin_end": 0.17039699609961323,
            "count": 2
           },
           {
            "bin_start": 0.17039699609961323,
            "bin_end": 0.25426483219237683,
            "count": 0
           },
           {
            "bin_start": 0.25426483219237683,
            "bin_end": 0.3381326682851404,
            "count": 2
           },
           {
            "bin_start": 0.3381326682851404,
            "bin_end": 0.422000504377904,
            "count": 0
           },
           {
            "bin_start": 0.422000504377904,
            "bin_end": 0.5058683404706675,
            "count": 1
           },
           {
            "bin_start": 0.5058683404706675,
            "bin_end": 0.589736176563431,
            "count": 1
           },
           {
            "bin_start": 0.589736176563431,
            "bin_end": 0.6736040126561946,
            "count": 1
           },
           {
            "bin_start": 0.6736040126561946,
            "bin_end": 0.7574718487489582,
            "count": 1
           },
           {
            "bin_start": 0.7574718487489582,
            "bin_end": 0.8413396848417218,
            "count": 0
           },
           {
            "bin_start": 0.8413396848417218,
            "bin_end": 0.9252075209344853,
            "count": 1
           }
          ]
         }
        },
        {
         "name": "EASTERN FREEWAY",
         "dtype": "float64",
         "stats": {
          "unique_count": 9,
          "nan_count": 0,
          "min": "0.065264694795095",
          "max": "0.545730617883242",
          "histogram": [
           {
            "bin_start": 0.065264694795095,
            "bin_end": 0.1133112871039097,
            "count": 3
           },
           {
            "bin_start": 0.1133112871039097,
            "bin_end": 0.1613578794127244,
            "count": 1
           },
           {
            "bin_start": 0.1613578794127244,
            "bin_end": 0.2094044717215391,
            "count": 0
           },
           {
            "bin_start": 0.2094044717215391,
            "bin_end": 0.2574510640303538,
            "count": 1
           },
           {
            "bin_start": 0.2574510640303538,
            "bin_end": 0.3054976563391685,
            "count": 1
           },
           {
            "bin_start": 0.3054976563391685,
            "bin_end": 0.3535442486479832,
            "count": 0
           },
           {
            "bin_start": 0.3535442486479832,
            "bin_end": 0.40159084095679787,
            "count": 1
           },
           {
            "bin_start": 0.40159084095679787,
            "bin_end": 0.44963743326561256,
            "count": 1
           },
           {
            "bin_start": 0.44963743326561256,
            "bin_end": 0.49768402557442726,
            "count": 0
           },
           {
            "bin_start": 0.49768402557442726,
            "bin_end": 0.545730617883242,
            "count": 1
           }
          ]
         }
        },
        {
         "name": "EASTLINK",
         "dtype": "float64",
         "stats": {
          "unique_count": 9,
          "nan_count": 0,
          "min": "0.07833202130870087",
          "max": "0.5089325891852579",
          "histogram": [
           {
            "bin_start": 0.07833202130870087,
            "bin_end": 0.12139207809635658,
            "count": 2
           },
           {
            "bin_start": 0.12139207809635658,
            "bin_end": 0.16445213488401228,
            "count": 2
           },
           {
            "bin_start": 0.16445213488401228,
            "bin_end": 0.20751219167166796,
            "count": 1
           },
           {
            "bin_start": 0.20751219167166796,
            "bin_end": 0.2505722484593237,
            "count": 1
           },
           {
            "bin_start": 0.2505722484593237,
            "bin_end": 0.29363230524697936,
            "count": 0
           },
           {
            "bin_start": 0.29363230524697936,
            "bin_end": 0.33669236203463504,
            "count": 1
           },
           {
            "bin_start": 0.33669236203463504,
            "bin_end": 0.37975241882229077,
            "count": 0
           },
           {
            "bin_start": 0.37975241882229077,
            "bin_end": 0.42281247560994645,
            "count": 1
           },
           {
            "bin_start": 0.42281247560994645,
            "bin_end": 0.4658725323976021,
            "count": 0
           },
           {
            "bin_start": 0.4658725323976021,
            "bin_end": 0.5089325891852579,
            "count": 1
           }
          ]
         }
        },
        {
         "name": "GEELONG RING ROAD",
         "dtype": "float64",
         "stats": {
          "unique_count": 9,
          "nan_count": 0,
          "min": "0.4110515364115422",
          "max": "1.3553749235618051",
          "histogram": [
           {
            "bin_start": 0.4110515364115422,
            "bin_end": 0.5054838751265684,
            "count": 1
           },
           {
            "bin_start": 0.5054838751265684,
            "bin_end": 0.5999162138415948,
            "count": 1
           },
           {
            "bin_start": 0.5999162138415948,
            "bin_end": 0.6943485525566211,
            "count": 1
           },
           {
            "bin_start": 0.6943485525566211,
            "bin_end": 0.7887808912716474,
            "count": 2
           },
           {
            "bin_start": 0.7887808912716474,
            "bin_end": 0.8832132299866737,
            "count": 0
           },
           {
            "bin_start": 0.8832132299866737,
            "bin_end": 0.9776455687016998,
            "count": 2
           },
           {
            "bin_start": 0.9776455687016998,
            "bin_end": 1.0720779074167262,
            "count": 0
           },
           {
            "bin_start": 1.0720779074167262,
            "bin_end": 1.1665102461317525,
            "count": 1
           },
           {
            "bin_start": 1.1665102461317525,
            "bin_end": 1.2609425848467788,
            "count": 0
           },
           {
            "bin_start": 1.2609425848467788,
            "bin_end": 1.3553749235618051,
            "count": 1
           }
          ]
         }
        },
        {
         "name": "GEELONG ROAD",
         "dtype": "float64",
         "stats": {
          "unique_count": 9,
          "nan_count": 0,
          "min": "0.07802941436773028",
          "max": "0.8541130422740887",
          "histogram": [
           {
            "bin_start": 0.07802941436773028,
            "bin_end": 0.15563777715836613,
            "count": 2
           },
           {
            "bin_start": 0.15563777715836613,
            "bin_end": 0.23324613994900198,
            "count": 2
           },
           {
            "bin_start": 0.23324613994900198,
            "bin_end": 0.31085450273963783,
            "count": 0
           },
           {
            "bin_start": 0.31085450273963783,
            "bin_end": 0.38846286553027365,
            "count": 0
           },
           {
            "bin_start": 0.38846286553027365,
            "bin_end": 0.4660712283209095,
            "count": 2
           },
           {
            "bin_start": 0.4660712283209095,
            "bin_end": 0.5436795911115454,
            "count": 1
           },
           {
            "bin_start": 0.5436795911115454,
            "bin_end": 0.6212879539021812,
            "count": 0
           },
           {
            "bin_start": 0.6212879539021812,
            "bin_end": 0.698896316692817,
            "count": 1
           },
           {
            "bin_start": 0.698896316692817,
            "bin_end": 0.7765046794834529,
            "count": 0
           },
           {
            "bin_start": 0.7765046794834529,
            "bin_end": 0.8541130422740887,
            "count": 1
           }
          ]
         }
        },
        {
         "name": "GRAHAM STREET",
         "dtype": "float64",
         "stats": {
          "unique_count": 9,
          "nan_count": 0,
          "min": "0.5282244777640631",
          "max": "1.0895100069085588",
          "histogram": [
           {
            "bin_start": 0.5282244777640631,
            "bin_end": 0.5843530306785127,
            "count": 1
           },
           {
            "bin_start": 0.5843530306785127,
            "bin_end": 0.6404815835929623,
            "count": 1
           },
           {
            "bin_start": 0.6404815835929623,
            "bin_end": 0.6966101365074118,
            "count": 1
           },
           {
            "bin_start": 0.6966101365074118,
            "bin_end": 0.7527386894218614,
            "count": 0
           },
           {
            "bin_start": 0.7527386894218614,
            "bin_end": 0.808867242336311,
            "count": 0
           },
           {
            "bin_start": 0.808867242336311,
            "bin_end": 0.8649957952507605,
            "count": 2
           },
           {
            "bin_start": 0.8649957952507605,
            "bin_end": 0.92112434816521,
            "count": 1
           },
           {
            "bin_start": 0.92112434816521,
            "bin_end": 0.9772529010796597,
            "count": 0
           },
           {
            "bin_start": 0.9772529010796597,
            "bin_end": 1.0333814539941093,
            "count": 1
           },
           {
            "bin_start": 1.0333814539941093,
            "bin_end": 1.0895100069085588,
            "count": 2
           }
          ]
         }
        },
        {
         "name": "HUME FREEWAY",
         "dtype": "float64",
         "stats": {
          "unique_count": 9,
          "nan_count": 0,
          "min": "0.06812113586507679",
          "max": "0.7370362570049931",
          "histogram": [
           {
            "bin_start": 0.06812113586507679,
            "bin_end": 0.13501264797906842,
            "count": 1
           },
           {
            "bin_start": 0.13501264797906842,
            "bin_end": 0.20190416009306003,
            "count": 1
           },
           {
            "bin_start": 0.20190416009306003,
            "bin_end": 0.26879567220705164,
            "count": 1
           },
           {
            "bin_start": 0.26879567220705164,
            "bin_end": 0.3356871843210433,
            "count": 1
           },
           {
            "bin_start": 0.3356871843210433,
            "bin_end": 0.4025786964350349,
            "count": 1
           },
           {
            "bin_start": 0.4025786964350349,
            "bin_end": 0.4694702085490265,
            "count": 0
           },
           {
            "bin_start": 0.4694702085490265,
            "bin_end": 0.5363617206630181,
            "count": 2
           },
           {
            "bin_start": 0.5363617206630181,
            "bin_end": 0.6032532327770097,
            "count": 0
           },
           {
            "bin_start": 0.6032532327770097,
            "bin_end": 0.6701447448910014,
            "count": 1
           },
           {
            "bin_start": 0.6701447448910014,
            "bin_end": 0.7370362570049931,
            "count": 1
           }
          ]
         }
        },
        {
         "name": "MALMSBURY BYPASS",
         "dtype": "float64",
         "stats": {
          "unique_count": 9,
          "nan_count": 0,
          "min": "0.7823798103042499",
          "max": "1.4276511327317827",
          "histogram": [
           {
            "bin_start": 0.7823798103042499,
            "bin_end": 0.8469069425470032,
            "count": 3
           },
           {
            "bin_start": 0.8469069425470032,
            "bin_end": 0.9114340747897565,
            "count": 0
           },
           {
            "bin_start": 0.9114340747897565,
            "bin_end": 0.9759612070325097,
            "count": 1
           },
           {
            "bin_start": 0.9759612070325097,
            "bin_end": 1.0404883392752629,
            "count": 0
           },
           {
            "bin_start": 1.0404883392752629,
            "bin_end": 1.1050154715180163,
            "count": 1
           },
           {
            "bin_start": 1.1050154715180163,
            "bin_end": 1.1695426037607695,
            "count": 0
           },
           {
            "bin_start": 1.1695426037607695,
            "bin_end": 1.2340697360035229,
            "count": 1
           },
           {
            "bin_start": 1.2340697360035229,
            "bin_end": 1.298596868246276,
            "count": 1
           },
           {
            "bin_start": 1.298596868246276,
            "bin_end": 1.3631240004890293,
            "count": 0
           },
           {
            "bin_start": 1.3631240004890293,
            "bin_end": 1.4276511327317827,
            "count": 2
           }
          ]
         }
        },
        {
         "name": "MCCARTIN STREET",
         "dtype": "float64",
         "stats": {
          "unique_count": 9,
          "nan_count": 0,
          "min": "0.5981016475548986",
          "max": "1.3066367617490524",
          "histogram": [
           {
            "bin_start": 0.5981016475548986,
            "bin_end": 0.668955158974314,
            "count": 1
           },
           {
            "bin_start": 0.668955158974314,
            "bin_end": 0.7398086703937293,
            "count": 0
           },
           {
            "bin_start": 0.7398086703937293,
            "bin_end": 0.8106621818131448,
            "count": 2
           },
           {
            "bin_start": 0.8106621818131448,
            "bin_end": 0.8815156932325601,
            "count": 0
           },
           {
            "bin_start": 0.8815156932325601,
            "bin_end": 0.9523692046519755,
            "count": 2
           },
           {
            "bin_start": 0.9523692046519755,
            "bin_end": 1.023222716071391,
            "count": 0
           },
           {
            "bin_start": 1.023222716071391,
            "bin_end": 1.0940762274908062,
            "count": 1
           },
           {
            "bin_start": 1.0940762274908062,
            "bin_end": 1.1649297389102218,
            "count": 0
           },
           {
            "bin_start": 1.1649297389102218,
            "bin_end": 1.235783250329637,
            "count": 2
           },
           {
            "bin_start": 1.235783250329637,
            "bin_end": 1.3066367617490524,
            "count": 1
           }
          ]
         }
        },
        {
         "name": "MCKENZIE STREET",
         "dtype": "float64",
         "stats": {
          "unique_count": 9,
          "nan_count": 0,
          "min": "0.516581977353523",
          "max": "1.080444555803428",
          "histogram": [
           {
            "bin_start": 0.516581977353523,
            "bin_end": 0.5729682351985135,
            "count": 1
           },
           {
            "bin_start": 0.5729682351985135,
            "bin_end": 0.629354493043504,
            "count": 1
           },
           {
            "bin_start": 0.629354493043504,
            "bin_end": 0.6857407508884945,
            "count": 1
           },
           {
            "bin_start": 0.6857407508884945,
            "bin_end": 0.7421270087334849,
            "count": 0
           },
           {
            "bin_start": 0.7421270087334849,
            "bin_end": 0.7985132665784754,
            "count": 0
           },
           {
            "bin_start": 0.7985132665784754,
            "bin_end": 0.854899524423466,
            "count": 2
           },
           {
            "bin_start": 0.854899524423466,
            "bin_end": 0.9112857822684564,
            "count": 1
           },
           {
            "bin_start": 0.9112857822684564,
            "bin_end": 0.9676720401134469,
            "count": 0
           },
           {
            "bin_start": 0.9676720401134469,
            "bin_end": 1.0240582979584374,
            "count": 1
           },
           {
            "bin_start": 1.0240582979584374,
            "bin_end": 1.080444555803428,
            "count": 2
           }
          ]
         }
        },
        {
         "name": "METROPOLITAN RING ROAD",
         "dtype": "float64",
         "stats": {
          "unique_count": 9,
          "nan_count": 0,
          "min": "0.015272654361394045",
          "max": "0.6304330351944105",
          "histogram": [
           {
            "bin_start": 0.015272654361394045,
            "bin_end": 0.0767886924446957,
            "count": 1
           },
           {
            "bin_start": 0.0767886924446957,
            "bin_end": 0.13830473052799735,
            "count": 0
           },
           {
            "bin_start": 0.13830473052799735,
            "bin_end": 0.19982076861129902,
            "count": 1
           },
           {
            "bin_start": 0.19982076861129902,
            "bin_end": 0.26133680669460063,
            "count": 2
           },
           {
            "bin_start": 0.26133680669460063,
            "bin_end": 0.32285284477790227,
            "count": 1
           },
           {
            "bin_start": 0.32285284477790227,
            "bin_end": 0.38436888286120396,
            "count": 0
           },
           {
            "bin_start": 0.38436888286120396,
            "bin_end": 0.4458849209445056,
            "count": 1
           },
           {
            "bin_start": 0.4458849209445056,
            "bin_end": 0.5074009590278072,
            "count": 1
           },
           {
            "bin_start": 0.5074009590278072,
            "bin_end": 0.5689169971111089,
            "count": 1
           },
           {
            "bin_start": 0.5689169971111089,
            "bin_end": 0.6304330351944105,
            "count": 1
           }
          ]
         }
        },
        {
         "name": "MONASH FREEWAY",
         "dtype": "float64",
         "stats": {
          "unique_count": 9,
          "nan_count": 0,
          "min": "0.026408464785081177",
          "max": "0.4861857073547162",
          "histogram": [
           {
            "bin_start": 0.026408464785081177,
            "bin_end": 0.07238618904204468,
            "count": 2
           },
           {
            "bin_start": 0.07238618904204468,
            "bin_end": 0.11836391329900818,
            "count": 1
           },
           {
            "bin_start": 0.11836391329900818,
            "bin_end": 0.1643416375559717,
            "count": 1
           },
           {
            "bin_start": 0.1643416375559717,
            "bin_end": 0.2103193618129352,
            "count": 2
           },
           {
            "bin_start": 0.2103193618129352,
            "bin_end": 0.2562970860698987,
            "count": 1
           },
           {
            "bin_start": 0.2562970860698987,
            "bin_end": 0.3022748103268622,
            "count": 1
           },
           {
            "bin_start": 0.3022748103268622,
            "bin_end": 0.3482525345838257,
            "count": 0
           },
           {
            "bin_start": 0.3482525345838257,
            "bin_end": 0.3942302588407892,
            "count": 0
           },
           {
            "bin_start": 0.3942302588407892,
            "bin_end": 0.4402079830977527,
            "count": 0
           },
           {
            "bin_start": 0.4402079830977527,
            "bin_end": 0.4861857073547162,
            "count": 1
           }
          ]
         }
        },
        {
         "name": "MORNINGTON PENINSULA ROUTE",
         "dtype": "float64",
         "stats": {
          "unique_count": 9,
          "nan_count": 0,
          "min": "0.04921610221514959",
          "max": "0.6625372279394449",
          "histogram": [
           {
            "bin_start": 0.04921610221514959,
            "bin_end": 0.11054821478757912,
            "count": 1
           },
           {
            "bin_start": 0.11054821478757912,
            "bin_end": 0.17188032736000863,
            "count": 1
           },
           {
            "bin_start": 0.17188032736000863,
            "bin_end": 0.23321243993243818,
            "count": 1
           },
           {
            "bin_start": 0.23321243993243818,
            "bin_end": 0.2945445525048677,
            "count": 0
           },
           {
            "bin_start": 0.2945445525048677,
            "bin_end": 0.35587666507729726,
            "count": 3
           },
           {
            "bin_start": 0.35587666507729726,
            "bin_end": 0.41720877764972675,
            "count": 1
           },
           {
            "bin_start": 0.41720877764972675,
            "bin_end": 0.4785408902221563,
            "count": 1
           },
           {
            "bin_start": 0.4785408902221563,
            "bin_end": 0.5398730027945858,
            "count": 0
           },
           {
            "bin_start": 0.5398730027945858,
            "bin_end": 0.6012051153670154,
            "count": 0
           },
           {
            "bin_start": 0.6012051153670154,
            "bin_end": 0.6625372279394449,
            "count": 1
           }
          ]
         }
        },
        {
         "name": "PHILLIP ISLAND ROAD",
         "dtype": "float64",
         "stats": {
          "unique_count": 9,
          "nan_count": 0,
          "min": "0.43993470682777824",
          "max": "0.9270542127465377",
          "histogram": [
           {
            "bin_start": 0.43993470682777824,
            "bin_end": 0.4886466574196542,
            "count": 2
           },
           {
            "bin_start": 0.4886466574196542,
            "bin_end": 0.5373586080115301,
            "count": 1
           },
           {
            "bin_start": 0.5373586080115301,
            "bin_end": 0.5860705586034061,
            "count": 0
           },
           {
            "bin_start": 0.5860705586034061,
            "bin_end": 0.634782509195282,
            "count": 0
           },
           {
            "bin_start": 0.634782509195282,
            "bin_end": 0.683494459787158,
            "count": 0
           },
           {
            "bin_start": 0.683494459787158,
            "bin_end": 0.7322064103790339,
            "count": 0
           },
           {
            "bin_start": 0.7322064103790339,
            "bin_end": 0.7809183609709098,
            "count": 2
           },
           {
            "bin_start": 0.7809183609709098,
            "bin_end": 0.8296303115627858,
            "count": 1
           },
           {
            "bin_start": 0.8296303115627858,
            "bin_end": 0.8783422621546617,
            "count": 1
           },
           {
            "bin_start": 0.8783422621546617,
            "bin_end": 0.9270542127465377,
            "count": 2
           }
          ]
         }
        },
        {
         "name": "PRINCES FREEWAY",
         "dtype": "float64",
         "stats": {
          "unique_count": 9,
          "nan_count": 0,
          "min": "0.0036009905382882847",
          "max": "0.32460252359520847",
          "histogram": [
           {
            "bin_start": 0.0036009905382882847,
            "bin_end": 0.03570114384398031,
            "count": 3
           },
           {
            "bin_start": 0.03570114384398031,
            "bin_end": 0.06780129714967233,
            "count": 1
           },
           {
            "bin_start": 0.06780129714967233,
            "bin_end": 0.09990145045536435,
            "count": 0
           },
           {
            "bin_start": 0.09990145045536435,
            "bin_end": 0.13200160376105635,
            "count": 0
           },
           {
            "bin_start": 0.13200160376105635,
            "bin_end": 0.16410175706674837,
            "count": 0
           },
           {
            "bin_start": 0.16410175706674837,
            "bin_end": 0.1962019103724404,
            "count": 2
           },
           {
            "bin_start": 0.1962019103724404,
            "bin_end": 0.2283020636781324,
            "count": 0
           },
           {
            "bin_start": 0.2283020636781324,
            "bin_end": 0.26040221698382443,
            "count": 2
           },
           {
            "bin_start": 0.26040221698382443,
            "bin_end": 0.2925023702895165,
            "count": 0
           },
           {
            "bin_start": 0.2925023702895165,
            "bin_end": 0.32460252359520847,
            "count": 1
           }
          ]
         }
        },
        {
         "name": "PRINCES FREEWAY.1",
         "dtype": "float64",
         "stats": {
          "unique_count": 9,
          "nan_count": 0,
          "min": "0.07518838037114794",
          "max": "0.9001424705235727",
          "histogram": [
           {
            "bin_start": 0.07518838037114794,
            "bin_end": 0.1576837893863904,
            "count": 2
           },
           {
            "bin_start": 0.1576837893863904,
            "bin_end": 0.24017919840163288,
            "count": 1
           },
           {
            "bin_start": 0.24017919840163288,
            "bin_end": 0.32267460741687537,
            "count": 1
           },
           {
            "bin_start": 0.32267460741687537,
            "bin_end": 0.4051700164321178,
            "count": 0
           },
           {
            "bin_start": 0.4051700164321178,
            "bin_end": 0.48766542544736025,
            "count": 1
           },
           {
            "bin_start": 0.48766542544736025,
            "bin_end": 0.5701608344626028,
            "count": 2
           },
           {
            "bin_start": 0.5701608344626028,
            "bin_end": 0.6526562434778452,
            "count": 0
           },
           {
            "bin_start": 0.6526562434778452,
            "bin_end": 0.7351516524930877,
            "count": 1
           },
           {
            "bin_start": 0.7351516524930877,
            "bin_end": 0.8176470615083301,
            "count": 0
           },
           {
            "bin_start": 0.8176470615083301,
            "bin_end": 0.9001424705235727,
            "count": 1
           }
          ]
         }
        },
        {
         "name": "RACECOURSE ROAD",
         "dtype": "float64",
         "stats": {
          "unique_count": 9,
          "nan_count": 0,
          "min": "0.04765109989464972",
          "max": "0.7843453636826775",
          "histogram": [
           {
            "bin_start": 0.04765109989464972,
            "bin_end": 0.1213205262734525,
            "count": 1
           },
           {
            "bin_start": 0.1213205262734525,
            "bin_end": 0.19498995265225527,
            "count": 3
           },
           {
            "bin_start": 0.19498995265225527,
            "bin_end": 0.2686593790310581,
            "count": 0
           },
           {
            "bin_start": 0.2686593790310581,
            "bin_end": 0.3423288054098608,
            "count": 0
           },
           {
            "bin_start": 0.3423288054098608,
            "bin_end": 0.41599823178866363,
            "count": 2
           },
           {
            "bin_start": 0.41599823178866363,
            "bin_end": 0.4896676581674664,
            "count": 1
           },
           {
            "bin_start": 0.4896676581674664,
            "bin_end": 0.5633370845462691,
            "count": 0
           },
           {
            "bin_start": 0.5633370845462691,
            "bin_end": 0.637006510925072,
            "count": 1
           },
           {
            "bin_start": 0.637006510925072,
            "bin_end": 0.7106759373038747,
            "count": 0
           },
           {
            "bin_start": 0.7106759373038747,
            "bin_end": 0.7843453636826775,
            "count": 1
           }
          ]
         }
        },
        {
         "name": "SMITHFIELD ROAD",
         "dtype": "float64",
         "stats": {
          "unique_count": 9,
          "nan_count": 0,
          "min": "0.05061501891404029",
          "max": "0.7968029043274814",
          "histogram": [
           {
            "bin_start": 0.05061501891404029,
            "bin_end": 0.1252338074553844,
            "count": 1
           },
           {
            "bin_start": 0.1252338074553844,
            "bin_end": 0.1998525959967285,
            "count": 3
           },
           {
            "bin_start": 0.1998525959967285,
            "bin_end": 0.27447138453807257,
            "count": 0
           },
           {
            "bin_start": 0.27447138453807257,
            "bin_end": 0.3490901730794167,
            "count": 0
           },
           {
            "bin_start": 0.3490901730794167,
            "bin_end": 0.42370896162076077,
            "count": 2
           },
           {
            "bin_start": 0.42370896162076077,
            "bin_end": 0.4983277501621049,
            "count": 1
           },
           {
            "bin_start": 0.4983277501621049,
            "bin_end": 0.572946538703449,
            "count": 0
           },
           {
            "bin_start": 0.572946538703449,
            "bin_end": 0.6475653272447931,
            "count": 1
           },
           {
            "bin_start": 0.6475653272447931,
            "bin_end": 0.7221841157861372,
            "count": 0
           },
           {
            "bin_start": 0.7221841157861372,
            "bin_end": 0.7968029043274814,
            "count": 1
           }
          ]
         }
        },
        {
         "name": "OUTH GIPPSLAND HIGHWAY",
         "dtype": "float64",
         "stats": {
          "unique_count": 9,
          "nan_count": 0,
          "min": "0.08718206170250985",
          "max": "0.5143803600910068",
          "histogram": [
           {
            "bin_start": 0.08718206170250985,
            "bin_end": 0.12990189154135956,
            "count": 2
           },
           {
            "bin_start": 0.12990189154135956,
            "bin_end": 0.17262172138020926,
            "count": 0
           },
           {
            "bin_start": 0.17262172138020926,
            "bin_end": 0.21534155121905896,
            "count": 2
           },
           {
            "bin_start": 0.21534155121905896,
            "bin_end": 0.25806138105790866,
            "count": 1
           },
           {
            "bin_start": 0.25806138105790866,
            "bin_end": 0.30078121089675836,
            "count": 0
           },
           {
            "bin_start": 0.30078121089675836,
            "bin_end": 0.34350104073560805,
            "count": 0
           },
           {
            "bin_start": 0.34350104073560805,
            "bin_end": 0.38622087057445775,
            "count": 2
           },
           {
            "bin_start": 0.38622087057445775,
            "bin_end": 0.42894070041330745,
            "count": 0
           },
           {
            "bin_start": 0.42894070041330745,
            "bin_end": 0.47166053025215715,
            "count": 0
           },
           {
            "bin_start": 0.47166053025215715,
            "bin_end": 0.5143803600910068,
            "count": 2
           }
          ]
         }
        },
        {
         "name": "SOUTH GIPPSLAND HIGHWAY",
         "dtype": "float64",
         "stats": {
          "unique_count": 9,
          "nan_count": 0,
          "min": "0.060553726379823127",
          "max": "0.5157750288314328",
          "histogram": [
           {
            "bin_start": 0.060553726379823127,
            "bin_end": 0.10607585662498409,
            "count": 1
           },
           {
            "bin_start": 0.10607585662498409,
            "bin_end": 0.15159798687014506,
            "count": 1
           },
           {
            "bin_start": 0.15159798687014506,
            "bin_end": 0.197120117115306,
            "count": 1
           },
           {
            "bin_start": 0.197120117115306,
            "bin_end": 0.24264224736046697,
            "count": 2
           },
           {
            "bin_start": 0.24264224736046697,
            "bin_end": 0.28816437760562796,
            "count": 0
           },
           {
            "bin_start": 0.28816437760562796,
            "bin_end": 0.3336865078507889,
            "count": 0
           },
           {
            "bin_start": 0.3336865078507889,
            "bin_end": 0.3792086380959499,
            "count": 2
           },
           {
            "bin_start": 0.3792086380959499,
            "bin_end": 0.42473076834111084,
            "count": 0
           },
           {
            "bin_start": 0.42473076834111084,
            "bin_end": 0.4702528985862718,
            "count": 0
           },
           {
            "bin_start": 0.4702528985862718,
            "bin_end": 0.5157750288314328,
            "count": 2
           }
          ]
         }
        },
        {
         "name": "SPRINGVALE ROAD",
         "dtype": "float64",
         "stats": {
          "unique_count": 9,
          "nan_count": 0,
          "min": "0.14057130115587352",
          "max": "0.545730617883242",
          "histogram": [
           {
            "bin_start": 0.14057130115587352,
            "bin_end": 0.18108723282861036,
            "count": 3
           },
           {
            "bin_start": 0.18108723282861036,
            "bin_end": 0.2216031645013472,
            "count": 0
           },
           {
            "bin_start": 0.2216031645013472,
            "bin_end": 0.262119096174084,
            "count": 1
           },
           {
            "bin_start": 0.262119096174084,
            "bin_end": 0.3026350278468209,
            "count": 1
           },
           {
            "bin_start": 0.3026350278468209,
            "bin_end": 0.34315095951955776,
            "count": 0
           },
           {
            "bin_start": 0.34315095951955776,
            "bin_end": 0.3836668911922946,
            "count": 1
           },
           {
            "bin_start": 0.3836668911922946,
            "bin_end": 0.42418282286503145,
            "count": 2
           },
           {
            "bin_start": 0.42418282286503145,
            "bin_end": 0.46469875453776827,
            "count": 0
           },
           {
            "bin_start": 0.46469875453776827,
            "bin_end": 0.5052146862105051,
            "count": 0
           },
           {
            "bin_start": 0.5052146862105051,
            "bin_end": 0.545730617883242,
            "count": 1
           }
          ]
         }
        },
        {
         "name": "STRZELECKI HIGHWAY",
         "dtype": "float64",
         "stats": {
          "unique_count": 9,
          "nan_count": 0,
          "min": "0.5979649796524397",
          "max": "1.3106602644150536",
          "histogram": [
           {
            "bin_start": 0.5979649796524397,
            "bin_end": 0.669234508128701,
            "count": 1
           },
           {
            "bin_start": 0.669234508128701,
            "bin_end": 0.7405040366049624,
            "count": 1
           },
           {
            "bin_start": 0.7405040366049624,
            "bin_end": 0.8117735650812239,
            "count": 1
           },
           {
            "bin_start": 0.8117735650812239,
            "bin_end": 0.8830430935574852,
            "count": 0
           },
           {
            "bin_start": 0.8830430935574852,
            "bin_end": 0.9543126220337466,
            "count": 2
           },
           {
            "bin_start": 0.9543126220337466,
            "bin_end": 1.025582150510008,
            "count": 0
           },
           {
            "bin_start": 1.025582150510008,
            "bin_end": 1.0968516789862695,
            "count": 1
           },
           {
            "bin_start": 1.0968516789862695,
            "bin_end": 1.168121207462531,
            "count": 0
           },
           {
            "bin_start": 1.168121207462531,
            "bin_end": 1.2393907359387923,
            "count": 2
           },
           {
            "bin_start": 1.2393907359387923,
            "bin_end": 1.3106602644150536,
            "count": 1
           }
          ]
         }
        },
        {
         "name": "TULLAMARINE FREEWAY",
         "dtype": "float64",
         "stats": {
          "unique_count": 9,
          "nan_count": 0,
          "min": "0.1078500460876057",
          "max": "0.8166481414622064",
          "histogram": [
           {
            "bin_start": 0.1078500460876057,
            "bin_end": 0.17872985562506577,
            "count": 2
           },
           {
            "bin_start": 0.17872985562506577,
            "bin_end": 0.24960966516252583,
            "count": 2
           },
           {
            "bin_start": 0.24960966516252583,
            "bin_end": 0.3204894746999859,
            "count": 0
           },
           {
            "bin_start": 0.3204894746999859,
            "bin_end": 0.391369284237446,
            "count": 0
           },
           {
            "bin_start": 0.391369284237446,
            "bin_end": 0.4622490937749061,
            "count": 1
           },
           {
            "bin_start": 0.4622490937749061,
            "bin_end": 0.5331289033123661,
            "count": 1
           },
           {
            "bin_start": 0.5331289033123661,
            "bin_end": 0.6040087128498262,
            "count": 1
           },
           {
            "bin_start": 0.6040087128498262,
            "bin_end": 0.6748885223872862,
            "count": 0
           },
           {
            "bin_start": 0.6748885223872862,
            "bin_end": 0.7457683319247463,
            "count": 1
           },
           {
            "bin_start": 0.7457683319247463,
            "bin_end": 0.8166481414622064,
            "count": 1
           }
          ]
         }
        },
        {
         "name": "WEST GATE FREEWAY",
         "dtype": "float64",
         "stats": {
          "unique_count": 9,
          "nan_count": 0,
          "min": "0.010342708180179521",
          "max": "0.7609277174101198",
          "histogram": [
           {
            "bin_start": 0.010342708180179521,
            "bin_end": 0.08540120910317353,
            "count": 2
           },
           {
            "bin_start": 0.08540120910317353,
            "bin_end": 0.16045971002616755,
            "count": 2
           },
           {
            "bin_start": 0.16045971002616755,
            "bin_end": 0.23551821094916156,
            "count": 0
           },
           {
            "bin_start": 0.23551821094916156,
            "bin_end": 0.3105767118721556,
            "count": 0
           },
           {
            "bin_start": 0.3105767118721556,
            "bin_end": 0.3856352127951496,
            "count": 2
           },
           {
            "bin_start": 0.3856352127951496,
            "bin_end": 0.4606937137181436,
            "count": 1
           },
           {
            "bin_start": 0.4606937137181436,
            "bin_end": 0.5357522146411376,
            "count": 0
           },
           {
            "bin_start": 0.5357522146411376,
            "bin_end": 0.6108107155641317,
            "count": 1
           },
           {
            "bin_start": 0.6108107155641317,
            "bin_end": 0.6858692164871257,
            "count": 0
           },
           {
            "bin_start": 0.6858692164871257,
            "bin_end": 0.7609277174101198,
            "count": 1
           }
          ]
         }
        },
        {
         "name": "WESTERN FREEWAY",
         "dtype": "float64",
         "stats": {
          "unique_count": 9,
          "nan_count": 0,
          "min": "0.14336767216006704",
          "max": "0.9955531652413524",
          "histogram": [
           {
            "bin_start": 0.14336767216006704,
            "bin_end": 0.22858622146819557,
            "count": 1
           },
           {
            "bin_start": 0.22858622146819557,
            "bin_end": 0.31380477077632407,
            "count": 1
           },
           {
            "bin_start": 0.31380477077632407,
            "bin_end": 0.3990233200844526,
            "count": 2
           },
           {
            "bin_start": 0.3990233200844526,
            "bin_end": 0.4842418693925812,
            "count": 0
           },
           {
            "bin_start": 0.4842418693925812,
            "bin_end": 0.5694604187007097,
            "count": 1
           },
           {
            "bin_start": 0.5694604187007097,
            "bin_end": 0.6546789680088382,
            "count": 1
           },
           {
            "bin_start": 0.6546789680088382,
            "bin_end": 0.7398975173169667,
            "count": 1
           },
           {
            "bin_start": 0.7398975173169667,
            "bin_end": 0.8251160666250953,
            "count": 0
           },
           {
            "bin_start": 0.8251160666250953,
            "bin_end": 0.9103346159332238,
            "count": 1
           },
           {
            "bin_start": 0.9103346159332238,
            "bin_end": 0.9955531652413524,
            "count": 1
           }
          ]
         }
        },
        {
         "name": "WESTERN LINK TOLLWAY",
         "dtype": "float64",
         "stats": {
          "unique_count": 9,
          "nan_count": 0,
          "min": "0.015766217825539802",
          "max": "0.7824250419969002",
          "histogram": [
           {
            "bin_start": 0.015766217825539802,
            "bin_end": 0.09243210024267584,
            "count": 1
           },
           {
            "bin_start": 0.09243210024267584,
            "bin_end": 0.16909798265981188,
            "count": 3
           },
           {
            "bin_start": 0.16909798265981188,
            "bin_end": 0.24576386507694792,
            "count": 0
           },
           {
            "bin_start": 0.24576386507694792,
            "bin_end": 0.32242974749408393,
            "count": 0
           },
           {
            "bin_start": 0.32242974749408393,
            "bin_end": 0.39909562991121994,
            "count": 2
           },
           {
            "bin_start": 0.39909562991121994,
            "bin_end": 0.47576151232835606,
            "count": 1
           },
           {
            "bin_start": 0.47576151232835606,
            "bin_end": 0.5524273947454921,
            "count": 0
           },
           {
            "bin_start": 0.5524273947454921,
            "bin_end": 0.6290932771626281,
            "count": 1
           },
           {
            "bin_start": 0.6290932771626281,
            "bin_end": 0.7057591595797641,
            "count": 0
           },
           {
            "bin_start": 0.7057591595797641,
            "bin_end": 0.7824250419969002,
            "count": 1
           }
          ]
         }
        },
        {
         "name": "WESTERN RING ROAD",
         "dtype": "float64",
         "stats": {
          "unique_count": 9,
          "nan_count": 0,
          "min": "0.07093828212158972",
          "max": "0.7648122620576897",
          "histogram": [
           {
            "bin_start": 0.07093828212158972,
            "bin_end": 0.14032568011519972,
            "count": 3
           },
           {
            "bin_start": 0.14032568011519972,
            "bin_end": 0.20971307810880974,
            "count": 0
           },
           {
            "bin_start": 0.20971307810880974,
            "bin_end": 0.2791004761024197,
            "count": 1
           },
           {
            "bin_start": 0.2791004761024197,
            "bin_end": 0.3484878740960297,
            "count": 0
           },
           {
            "bin_start": 0.3484878740960297,
            "bin_end": 0.4178752720896397,
            "count": 1
           },
           {
            "bin_start": 0.4178752720896397,
            "bin_end": 0.48726267008324975,
            "count": 1
           },
           {
            "bin_start": 0.48726267008324975,
            "bin_end": 0.5566500680768598,
            "count": 1
           },
           {
            "bin_start": 0.5566500680768598,
            "bin_end": 0.6260374660704697,
            "count": 0
           },
           {
            "bin_start": 0.6260374660704697,
            "bin_end": 0.6954248640640798,
            "count": 1
           },
           {
            "bin_start": 0.6954248640640798,
            "bin_end": 0.7648122620576897,
            "count": 1
           }
          ]
         }
        },
        {
         "name": "WHITE ROAD",
         "dtype": "float64",
         "stats": {
          "unique_count": 9,
          "nan_count": 0,
          "min": "0.4998948565791028",
          "max": "1.0584910573796213",
          "histogram": [
           {
            "bin_start": 0.4998948565791028,
            "bin_end": 0.5557544766591547,
            "count": 1
           },
           {
            "bin_start": 0.5557544766591547,
            "bin_end": 0.6116140967392065,
            "count": 1
           },
           {
            "bin_start": 0.6116140967392065,
            "bin_end": 0.6674737168192584,
            "count": 1
           },
           {
            "bin_start": 0.6674737168192584,
            "bin_end": 0.7233333368993102,
            "count": 0
           },
           {
            "bin_start": 0.7233333368993102,
            "bin_end": 0.7791929569793621,
            "count": 0
           },
           {
            "bin_start": 0.7791929569793621,
            "bin_end": 0.8350525770594139,
            "count": 1
           },
           {
            "bin_start": 0.8350525770594139,
            "bin_end": 0.8909121971394658,
            "count": 2
           },
           {
            "bin_start": 0.8909121971394658,
            "bin_end": 0.9467718172195176,
            "count": 0
           },
           {
            "bin_start": 0.9467718172195176,
            "bin_end": 1.0026314372995695,
            "count": 1
           },
           {
            "bin_start": 1.0026314372995695,
            "bin_end": 1.0584910573796213,
            "count": 2
           }
          ]
         }
        },
        {
         "name": "WONTHAGGI ROAD",
         "dtype": "float64",
         "stats": {
          "unique_count": 9,
          "nan_count": 0,
          "min": "0.5858974108583532",
          "max": "1.1983984302866164",
          "histogram": [
           {
            "bin_start": 0.5858974108583532,
            "bin_end": 0.6471475128011795,
            "count": 1
           },
           {
            "bin_start": 0.6471475128011795,
            "bin_end": 0.7083976147440059,
            "count": 1
           },
           {
            "bin_start": 0.7083976147440059,
            "bin_end": 0.7696477166868322,
            "count": 1
           },
           {
            "bin_start": 0.7696477166868322,
            "bin_end": 0.8308978186296585,
            "count": 0
           },
           {
            "bin_start": 0.8308978186296585,
            "bin_end": 0.8921479205724848,
            "count": 1
           },
           {
            "bin_start": 0.8921479205724848,
            "bin_end": 0.9533980225153111,
            "count": 1
           },
           {
            "bin_start": 0.9533980225153111,
            "bin_end": 1.0146481244581373,
            "count": 1
           },
           {
            "bin_start": 1.0146481244581373,
            "bin_end": 1.0758982264009638,
            "count": 0
           },
           {
            "bin_start": 1.0758982264009638,
            "bin_end": 1.1371483283437902,
            "count": 1
           },
           {
            "bin_start": 1.1371483283437902,
            "bin_end": 1.1983984302866164,
            "count": 2
           }
          ]
         }
        },
        {
         "name": "BURNLEY TUNNEL",
         "dtype": "float64",
         "stats": {
          "unique_count": 9,
          "nan_count": 0,
          "min": "0.025251843419377605",
          "max": "0.7407256696780488",
          "histogram": [
           {
            "bin_start": 0.025251843419377605,
            "bin_end": 0.09679922604524471,
            "count": 2
           },
           {
            "bin_start": 0.09679922604524471,
            "bin_end": 0.16834660867111184,
            "count": 1
           },
           {
            "bin_start": 0.16834660867111184,
            "bin_end": 0.23989399129697894,
            "count": 1
           },
           {
            "bin_start": 0.23989399129697894,
            "bin_end": 0.31144137392284604,
            "count": 0
           },
           {
            "bin_start": 0.31144137392284604,
            "bin_end": 0.38298875654871317,
            "count": 2
           },
           {
            "bin_start": 0.38298875654871317,
            "bin_end": 0.45453613917458024,
            "count": 1
           },
           {
            "bin_start": 0.45453613917458024,
            "bin_end": 0.5260835218004474,
            "count": 0
           },
           {
            "bin_start": 0.5260835218004474,
            "bin_end": 0.5976309044263145,
            "count": 1
           },
           {
            "bin_start": 0.5976309044263145,
            "bin_end": 0.6691782870521816,
            "count": 0
           },
           {
            "bin_start": 0.6691782870521816,
            "bin_end": 0.7407256696780488,
            "count": 1
           }
          ]
         }
        },
        {
         "name": "SOUTHERN LINK TOLLWAY",
         "dtype": "float64",
         "stats": {
          "unique_count": 9,
          "nan_count": 0,
          "min": "0.02294922758603424",
          "max": "0.6889345771348125",
          "histogram": [
           {
            "bin_start": 0.02294922758603424,
            "bin_end": 0.08954776254091207,
            "count": 2
           },
           {
            "bin_start": 0.08954776254091207,
            "bin_end": 0.1561462974957899,
            "count": 1
           },
           {
            "bin_start": 0.1561462974957899,
            "bin_end": 0.22274483245066773,
            "count": 1
           },
           {
            "bin_start": 0.22274483245066773,
            "bin_end": 0.28934336740554556,
            "count": 1
           },
           {
            "bin_start": 0.28934336740554556,
            "bin_end": 0.3559419023604234,
            "count": 1
           },
           {
            "bin_start": 0.3559419023604234,
            "bin_end": 0.4225404373153012,
            "count": 1
           },
           {
            "bin_start": 0.4225404373153012,
            "bin_end": 0.48913897227017905,
            "count": 0
           },
           {
            "bin_start": 0.48913897227017905,
            "bin_end": 0.5557375072250569,
            "count": 1
           },
           {
            "bin_start": 0.5557375072250569,
            "bin_end": 0.6223360421799348,
            "count": 0
           },
           {
            "bin_start": 0.6223360421799348,
            "bin_end": 0.6889345771348125,
            "count": 1
           }
          ]
         }
        },
        {
         "name": "_deepnote_index_column",
         "dtype": "int64"
        }
       ],
       "rows_top": [
        {
         "ANDERSON LINK ROAD": 0.731701177574944,
         "BALLARAT ROAD": 0.16574264989712092,
         "BASS HIGHWAY": 0.6385105145074309,
         "BAXTER-TOORADIN ROAD": 0.42568272057425194,
         "CALDER FREEWAY": 0.21465681871945477,
         "DEER PARK BYPASS": 0.26301611817373416,
         "EASTERN FREEWAY": 0.1108433165985197,
         "EASTLINK": 0.16799738688153779,
         "GEELONG RING ROAD": 0.6580083115561458,
         "GEELONG ROAD": 0.19334535023004662,
         "GRAHAM STREET": 0.8958837459640797,
         "HUME FREEWAY": 0.2189356898863999,
         "MALMSBURY BYPASS": 0.9484453453330977,
         "MCCARTIN STREET": 1.0698634751842058,
         "MCKENZIE STREET": 0.8856377993452641,
         "METROPOLITAN RING ROAD": 0.21387530934594123,
         "MONASH FREEWAY": 0.037572947547338274,
         "MORNINGTON PENINSULA ROUTE": 0.22149960542421884,
         "PHILLIP ISLAND ROAD": 0.7451852710787501,
         "PRINCES FREEWAY": 0.17267588046549337,
         "PRINCES FREEWAY.1": 0.2296343648805106,
         "RACECOURSE ROAD": 0.15210374566905097,
         "SMITHFIELD ROAD": 0.16168064181583472,
         "OUTH GIPPSLAND HIGHWAY": 0.23230126481007554,
         "SOUTH GIPPSLAND HIGHWAY": 0.22469447083384325,
         "SPRINGVALE ROAD": 0.1686115584534968,
         "STRZELECKI HIGHWAY": 1.0720870908202407,
         "TULLAMARINE FREEWAY": 0.21418861481147278,
         "WEST GATE FREEWAY": 0.10639811840889515,
         "WESTERN FREEWAY": 0.34847963349475747,
         "WESTERN LINK TOLLWAY": 0.13265319868421863,
         "WESTERN RING ROAD": 0.22476309379987733,
         "WHITE ROAD": 0.8642244761003973,
         "WONTHAGGI ROAD": 0.9928629305496098,
         "BURNLEY TUNNEL": 0.09363490261995876,
         "SOUTHERN LINK TOLLWAY": 0.06284100306998798,
         "_deepnote_index_column": 1
        },
        {
         "ANDERSON LINK ROAD": 0.41789582674264736,
         "BALLARAT ROAD": 0.6459483121195572,
         "BASS HIGHWAY": 0.2107138296733409,
         "BAXTER-TOORADIN ROAD": 0.1735293272736575,
         "CALDER FREEWAY": 0.6828984010174033,
         "DEER PARK BYPASS": 0.748769724073269,
         "EASTERN FREEWAY": 0.4213578103341641,
         "EASTLINK": 0.3043478845141129,
         "GEELONG RING ROAD": 1.0899097407811444,
         "GEELONG ROAD": 0.6785403229181192,
         "GRAHAM STREET": 0.5282244777640631,
         "HUME FREEWAY": 0.6421169176546953,
         "MALMSBURY BYPASS": 1.4029420999063977,
         "MCCARTIN STREET": 0.5981016475548986,
         "MCKENZIE STREET": 0.516581977353523,
         "METROPOLITAN RING ROAD": 0.5583664020944351,
         "MONASH FREEWAY": 0.173088946423362,
         "MORNINGTON PENINSULA ROUTE": 0.3179644081505417,
         "PHILLIP ISLAND ROAD": 0.43993470682777824,
         "PRINCES FREEWAY": 0.0036009905382882847,
         "PRINCES FREEWAY.1": 0.7151797120008473,
         "RACECOURSE ROAD": 0.6269112189260632,
         "SMITHFIELD ROAD": 0.6385302989639794,
         "OUTH GIPPSLAND HIGHWAY": 0.12747566321041442,
         "SOUTH GIPPSLAND HIGHWAY": 0.12480452136955464,
         "SPRINGVALE ROAD": 0.4209874388000518,
         "STRZELECKI HIGHWAY": 0.5979649796524397,
         "TULLAMARINE FREEWAY": 0.6822100110466482,
         "WEST GATE FREEWAY": 0.5859632015660052,
         "WESTERN FREEWAY": 0.8339869712887777,
         "WESTERN LINK TOLLWAY": 0.6162580772401427,
         "WESTERN RING ROAD": 0.6617982325450165,
         "WHITE ROAD": 0.4998948565791028,
         "WONTHAGGI ROAD": 0.5858974108583532,
         "BURNLEY TUNNEL": 0.5682974945915311,
         "SOUTHERN LINK TOLLWAY": 0.5152958336636652,
         "_deepnote_index_column": 2
        },
        {
         "ANDERSON LINK ROAD": 0.9171263311781764,
         "BALLARAT ROAD": 0.15721134052503527,
         "BASS HIGHWAY": 0.87019698697234,
         "BAXTER-TOORADIN ROAD": 0.6513160354380291,
         "CALDER FREEWAY": 0.17540852491717662,
         "DEER PARK BYPASS": 0.08652916000684967,
         "EASTERN FREEWAY": 0.2358484557010171,
         "EASTLINK": 0.4102124993460406,
         "GEELONG RING ROAD": 0.4110515364115422,
         "GEELONG ROAD": 0.07820344070932071,
         "GRAHAM STREET": 1.0895100069085588,
         "HUME FREEWAY": 0.28708493714620825,
         "MALMSBURY BYPASS": 0.7823798103042499,
         "MCCARTIN STREET": 1.3066367617490524,
         "MCKENZIE STREET": 1.080444555803428,
         "METROPOLITAN RING ROAD": 0.26630852405478866,
         "MONASH FREEWAY": 0.2660861205025697,
         "MORNINGTON PENINSULA ROUTE": 0.4292787758192644,
         "PHILLIP ISLAND ROAD": 0.9270542127465377,
         "PRINCES FREEWAY": 0.018568371106956503,
         "PRINCES FREEWAY.1": 0.07518838037114794,
         "RACECOURSE ROAD": 0.17855375127191261,
         "SMITHFIELD ROAD": 0.16422085944499976,
         "OUTH GIPPSLAND HIGHWAY": 0.48977959038012026,
         "SOUTH GIPPSLAND HIGHWAY": 0.47543164594031867,
         "SPRINGVALE ROAD": 0.4102124993460406,
         "STRZELECKI HIGHWAY": 1.3106602644150536,
         "TULLAMARINE FREEWAY": 0.18986585137394257,
         "WEST GATE FREEWAY": 0.06854170333122317,
         "WESTERN FREEWAY": 0.14336767216006704,
         "WESTERN LINK TOLLWAY": 0.1655691902829782,
         "WESTERN RING ROAD": 0.07093828212158972,
         "WHITE ROAD": 1.0584910573796213,
         "WONTHAGGI ROAD": 1.1983984302866164,
         "BURNLEY TUNNEL": 0.19935292752414147,
         "SOUTHERN LINK TOLLWAY": 0.19703600325469264,
         "_deepnote_index_column": 3
        },
        {
         "ANDERSON LINK ROAD": 0.8411766872562306,
         "BALLARAT ROAD": 0.050975132703805145,
         "BASS HIGHWAY": 0.755214099836309,
         "BAXTER-TOORADIN ROAD": 0.5413550352707204,
         "CALDER FREEWAY": 0.10806262887981594,
         "DEER PARK BYPASS": 0.15009401362689337,
         "EASTERN FREEWAY": 0.065264694795095,
         "EASTLINK": 0.23711319401191677,
         "GEELONG RING ROAD": 0.5843586603327217,
         "GEELONG ROAD": 0.07802941436773028,
         "GRAHAM STREET": 1.0076922376870603,
         "HUME FREEWAY": 0.15289941221302308,
         "MALMSBURY BYPASS": 0.8355793898276873,
         "MCCARTIN STREET": 1.1867748431055443,
         "MCKENZIE STREET": 0.9976512734002638,
         "METROPOLITAN RING ROAD": 0.14521361273936365,
         "MONASH FREEWAY": 0.09480310265680551,
         "MORNINGTON PENINSULA ROUTE": 0.330685412457405,
         "PHILLIP ISLAND ROAD": 0.8539034137612865,
         "PRINCES FREEWAY": 0.05674676604279715,
         "PRINCES FREEWAY.1": 0.1196939881713748,
         "RACECOURSE ROAD": 0.04765109989464972,
         "SMITHFIELD ROAD": 0.05061501891404029,
         "OUTH GIPPSLAND HIGHWAY": 0.3477606019527494,
         "SOUTH GIPPSLAND HIGHWAY": 0.3415206454163055,
         "SPRINGVALE ROAD": 0.23711319401191677,
         "STRZELECKI HIGHWAY": 1.1889561768188497,
         "TULLAMARINE FREEWAY": 0.1078500460876057,
         "WEST GATE FREEWAY": 0.010342708180179521,
         "WESTERN FREEWAY": 0.23340730400783646,
         "WESTERN LINK TOLLWAY": 0.015766217825539802,
         "WESTERN RING ROAD": 0.131423823114681,
         "WHITE ROAD": 0.9760732249243251,
         "WONTHAGGI ROAD": 1.1070030892465412,
         "BURNLEY TUNNEL": 0.025251843419377605,
         "SOUTHERN LINK TOLLWAY": 0.02294922758603424,
         "_deepnote_index_column": 4
        },
        {
         "ANDERSON LINK ROAD": 0.46398734468524033,
         "BALLARAT ROAD": 0.4942381849210319,
         "BASS HIGHWAY": 0.3168093230019573,
         "BAXTER-TOORADIN ROAD": 0.1365784770444431,
         "CALDER FREEWAY": 0.5355879650892378,
         "DEER PARK BYPASS": 0.5930530040599563,
         "EASTERN FREEWAY": 0.29705290048463995,
         "EASTLINK": 0.1445126369733092,
         "GEELONG RING ROAD": 0.9323822616082107,
         "GEELONG ROAD": 0.5241018846353802,
         "GRAHAM STREET": 0.6075420131606124,
         "HUME FREEWAY": 0.505573940711235,
         "MALMSBURY BYPASS": 1.2646863870216514,
         "MCCARTIN STREET": 0.7407308020268746,
         "MCKENZIE STREET": 0.5963326496909361,
         "METROPOLITAN RING ROAD": 0.43496482005977927,
         "MONASH FREEWAY": 0.026408464785081177,
         "MORNINGTON PENINSULA ROUTE": 0.17185919534060942,
         "PHILLIP ISLAND ROAD": 0.48224970085048485,
         "PRINCES FREEWAY": 0.01573550396350065,
         "PRINCES FREEWAY.1": 0.5588861785964564,
         "RACECOURSE ROAD": 0.47690310747226144,
         "SMITHFIELD ROAD": 0.48798800273117215,
         "OUTH GIPPSLAND HIGHWAY": 0.08718206170250985,
         "SOUTH GIPPSLAND HIGHWAY": 0.060553726379823127,
         "SPRINGVALE ROAD": 0.2965814991213602,
         "STRZELECKI HIGHWAY": 0.7423465476689091,
         "TULLAMARINE FREEWAY": 0.534958712826466,
         "WEST GATE FREEWAY": 0.4340040098124179,
         "WESTERN FREEWAY": 0.6790425753275079,
         "WESTERN LINK TOLLWAY": 0.46288378228191857,
         "WESTERN RING ROAD": 0.5225078553859188,
         "WHITE ROAD": 0.5765697827938764,
         "WONTHAGGI ROAD": 0.6880790303538252,
         "BURNLEY TUNNEL": 0.41745247463686413,
         "SOUTHERN LINK TOLLWAY": 0.3665912640564933,
         "_deepnote_index_column": 5
        },
        {
         "ANDERSON LINK ROAD": 0.8981884834904375,
         "BALLARAT ROAD": 0.16767124659614643,
         "BASS HIGHWAY": 0.7685783711924236,
         "BAXTER-TOORADIN ROAD": 0.5743765639592585,
         "CALDER FREEWAY": 0.15233387119133446,
         "DEER PARK BYPASS": 0.2734439836510305,
         "EASTERN FREEWAY": 0.08249808367552885,
         "EASTLINK": 0.16190920345741155,
         "GEELONG RING ROAD": 0.7401373015543984,
         "GEELONG ROAD": 0.21325269607178707,
         "GRAHAM STREET": 1.0535974805479844,
         "HUME FREEWAY": 0.06812113586507679,
         "MALMSBURY BYPASS": 0.8208965122093133,
         "MCCARTIN STREET": 1.1807854873976218,
         "MCKENZIE STREET": 1.0427312623891682,
         "METROPOLITAN RING ROAD": 0.015272654361394045,
         "MONASH FREEWAY": 0.1373346856715493,
         "MORNINGTON PENINSULA ROUTE": 0.4030378781923537,
         "PHILLIP ISLAND ROAD": 0.9135118666990915,
         "PRINCES FREEWAY": 0.17480841071306258,
         "PRINCES FREEWAY.1": 0.258915368316717,
         "RACECOURSE ROAD": 0.1438701380162744,
         "SMITHFIELD ROAD": 0.15334331833727755,
         "OUTH GIPPSLAND HIGHWAY": 0.3526605485838235,
         "SOUTH GIPPSLAND HIGHWAY": 0.3629732954825276,
         "SPRINGVALE ROAD": 0.16156439042700368,
         "STRZELECKI HIGHWAY": 1.180482276792273,
         "TULLAMARINE FREEWAY": 0.15146280265843437,
         "WEST GATE FREEWAY": 0.15308824280628555,
         "WESTERN FREEWAY": 0.3304805310551794,
         "WESTERN LINK TOLLWAY": 0.12594725918383184,
         "WESTERN RING ROAD": 0.09428094353492478,
         "WHITE ROAD": 1.0221311323626512,
         "WONTHAGGI ROAD": 1.1397162860520103,
         "BURNLEY TUNNEL": 0.14168877247332826,
         "SOUTHERN LINK TOLLWAY": 0.13330509004344246,
         "_deepnote_index_column": 6
        },
        {
         "ANDERSON LINK ROAD": 0.7995951759516692,
         "BALLARAT ROAD": 0.8094174791089084,
         "BASS HIGHWAY": 0.5680035301997756,
         "BAXTER-TOORADIN ROAD": 0.5773061014038137,
         "CALDER FREEWAY": 0.8175148637031142,
         "DEER PARK BYPASS": 0.9252075209344853,
         "EASTERN FREEWAY": 0.545730617883242,
         "EASTLINK": 0.5089325891852579,
         "GEELONG RING ROAD": 1.3553749235618051,
         "GEELONG ROAD": 0.8541130422740887,
         "GRAHAM STREET": 0.8630284306181272,
         "HUME FREEWAY": 0.7370362570049931,
         "MALMSBURY BYPASS": 1.4276511327317827,
         "MCCARTIN STREET": 0.7597617232830842,
         "MCKENZIE STREET": 0.8537571910435802,
         "METROPOLITAN RING ROAD": 0.6304330351944105,
         "MONASH FREEWAY": 0.4861857073547162,
         "MORNINGTON PENINSULA ROUTE": 0.6625372279394449,
         "PHILLIP ISLAND ROAD": 0.8227884735544524,
         "PRINCES FREEWAY": 0.32460252359520847,
         "PRINCES FREEWAY.1": 0.9001424705235727,
         "RACECOURSE ROAD": 0.7843453636826775,
         "SMITHFIELD ROAD": 0.7968029043274814,
         "OUTH GIPPSLAND HIGHWAY": 0.5143803600910068,
         "SOUTH GIPPSLAND HIGHWAY": 0.5157750288314328,
         "SPRINGVALE ROAD": 0.545730617883242,
         "STRZELECKI HIGHWAY": 0.7363086134634348,
         "TULLAMARINE FREEWAY": 0.8166481414622064,
         "WEST GATE FREEWAY": 0.7609277174101198,
         "WESTERN FREEWAY": 0.9955531652413524,
         "WESTERN LINK TOLLWAY": 0.7824250419969002,
         "WESTERN RING ROAD": 0.7648122620576897,
         "WHITE ROAD": 0.8429885254144778,
         "WONTHAGGI ROAD": 0.8746557121249442,
         "BURNLEY TUNNEL": 0.7407256696780488,
         "SOUTHERN LINK TOLLWAY": 0.6889345771348125,
         "_deepnote_index_column": 7
        },
        {
         "ANDERSON LINK ROAD": 0.4843623144632521,
         "BALLARAT ROAD": 0.4159715746173136,
         "BASS HIGHWAY": 0.45272066675612666,
         "BAXTER-TOORADIN ROAD": 0.2398387202315262,
         "CALDER FREEWAY": 0.47304836673351996,
         "DEER PARK BYPASS": 0.47823495963335966,
         "EASTERN FREEWAY": 0.3611423724957451,
         "EASTLINK": 0.07833202130870087,
         "GEELONG RING ROAD": 0.7217471417156656,
         "GEELONG ROAD": 0.4254319346681763,
         "GRAHAM STREET": 0.6557536652588286,
         "HUME FREEWAY": 0.4875847725864764,
         "MALMSBURY BYPASS": 1.1951224566248209,
         "MCCARTIN STREET": 0.8863451382299173,
         "MCKENZIE STREET": 0.6465188761726905,
         "METROPOLITAN RING ROAD": 0.4665259252106429,
         "MONASH FREEWAY": 0.22080786277407385,
         "MORNINGTON PENINSULA ROUTE": 0.04921610221514959,
         "PHILLIP ISLAND ROAD": 0.4953083504670587,
         "PRINCES FREEWAY": 0.24765005285741382,
         "PRINCES FREEWAY.1": 0.4429992005771611,
         "RACECOURSE ROAD": 0.41027373950473456,
         "SMITHFIELD ROAD": 0.4158424086925266,
         "OUTH GIPPSLAND HIGHWAY": 0.18262767431982305,
         "SOUTH GIPPSLAND HIGHWAY": 0.17628384715594564,
         "SPRINGVALE ROAD": 0.3618997847768271,
         "STRZELECKI HIGHWAY": 0.8918470816531281,
         "TULLAMARINE FREEWAY": 0.47276169624284026,
         "WEST GATE FREEWAY": 0.3646677745739019,
         "WESTERN FREEWAY": 0.5627867677731928,
         "WESTERN LINK TOLLWAY": 0.379903632433595,
         "WESTERN RING ROAD": 0.4502901528328952,
         "WHITE ROAD": 0.6245900686616785,
         "WONTHAGGI ROAD": 0.7641896852358776,
         "BURNLEY TUNNEL": 0.35764640921452134,
         "SOUTHERN LINK TOLLWAY": 0.3301114859687384,
         "_deepnote_index_column": 8
        },
        {
         "ANDERSON LINK ROAD": 0.715673166981116,
         "BALLARAT ROAD": 0.4056623322268852,
         "BASS HIGHWAY": 0.5389292279236796,
         "BAXTER-TOORADIN ROAD": 0.39189087970395037,
         "CALDER FREEWAY": 0.4201271386640071,
         "DEER PARK BYPASS": 0.5212683900984068,
         "EASTERN FREEWAY": 0.14057130115587352,
         "EASTLINK": 0.10303136048195428,
         "GEELONG RING ROAD": 0.9520733992705956,
         "GEELONG ROAD": 0.44945438270242277,
         "GRAHAM STREET": 0.8492678546300193,
         "HUME FREEWAY": 0.3518243911443841,
         "MALMSBURY BYPASS": 1.0958300566193326,
         "MCCARTIN STREET": 0.919859530184734,
         "MCKENZIE STREET": 0.8377653306337978,
         "METROPOLITAN RING ROAD": 0.2500525497168354,
         "MONASH FREEWAY": 0.18231303782061484,
         "MORNINGTON PENINSULA ROUTE": 0.33430176687571994,
         "PHILLIP ISLAND ROAD": 0.7349158775179261,
         "PRINCES FREEWAY": 0.2298827937903814,
         "PRINCES FREEWAY.1": 0.4950222993192392,
         "RACECOURSE ROAD": 0.38105356767334103,
         "SMITHFIELD ROAD": 0.3936209715399066,
         "OUTH GIPPSLAND HIGHWAY": 0.19899292424227458,
         "SOUTH GIPPSLAND HIGHWAY": 0.23079248131976182,
         "SPRINGVALE ROAD": 0.14057130115587352,
         "STRZELECKI HIGHWAY": 0.9179187661490759,
         "TULLAMARINE FREEWAY": 0.41928648646052574,
         "WEST GATE FREEWAY": 0.3553408809548984,
         "WESTERN FREEWAY": 0.5951389484947287,
         "WESTERN LINK TOLLWAY": 0.3795514169471298,
         "WESTERN RING ROAD": 0.3765435914621917,
         "WHITE ROAD": 0.8192692998875547,
         "WONTHAGGI ROAD": 0.9165110776425954,
         "BURNLEY TUNNEL": 0.3351095221937738,
         "SOUTHERN LINK TOLLWAY": 0.2830219725278131,
         "_deepnote_index_column": 9
        }
       ],
       "rows_bottom": null
      },
      "text/plain": "    ANDERSON LINK ROAD  BALLARAT ROAD  BASS HIGHWAY  BAXTER-TOORADIN ROAD  \\\nId                                                                          \n1             0.731701       0.165743      0.638511              0.425683   \n2             0.417896       0.645948      0.210714              0.173529   \n3             0.917126       0.157211      0.870197              0.651316   \n4             0.841177       0.050975      0.755214              0.541355   \n5             0.463987       0.494238      0.316809              0.136578   \n6             0.898188       0.167671      0.768578              0.574377   \n7             0.799595       0.809417      0.568004              0.577306   \n8             0.484362       0.415972      0.452721              0.239839   \n9             0.715673       0.405662      0.538929              0.391891   \n\n    CALDER FREEWAY  DEER PARK BYPASS  EASTERN FREEWAY  EASTLINK  \\\nId                                                                \n1         0.214657          0.263016         0.110843  0.167997   \n2         0.682898          0.748770         0.421358  0.304348   \n3         0.175409          0.086529         0.235848  0.410212   \n4         0.108063          0.150094         0.065265  0.237113   \n5         0.535588          0.593053         0.297053  0.144513   \n6         0.152334          0.273444         0.082498  0.161909   \n7         0.817515          0.925208         0.545731  0.508933   \n8         0.473048          0.478235         0.361142  0.078332   \n9         0.420127          0.521268         0.140571  0.103031   \n\n    GEELONG RING ROAD  GEELONG ROAD  ...  STRZELECKI HIGHWAY  \\\nId                                   ...                       \n1            0.658008      0.193345  ...            1.072087   \n2            1.089910      0.678540  ...            0.597965   \n3            0.411052      0.078203  ...            1.310660   \n4            0.584359      0.078029  ...            1.188956   \n5            0.932382      0.524102  ...            0.742347   \n6            0.740137      0.213253  ...            1.180482   \n7            1.355375      0.854113  ...            0.736309   \n8            0.721747      0.425432  ...            0.891847   \n9            0.952073      0.449454  ...            0.917919   \n\n    TULLAMARINE FREEWAY  WEST GATE FREEWAY  WESTERN FREEWAY  \\\nId                                                            \n1              0.214189           0.106398         0.348480   \n2              0.682210           0.585963         0.833987   \n3              0.189866           0.068542         0.143368   \n4              0.107850           0.010343         0.233407   \n5              0.534959           0.434004         0.679043   \n6              0.151463           0.153088         0.330481   \n7              0.816648           0.760928         0.995553   \n8              0.472762           0.364668         0.562787   \n9              0.419286           0.355341         0.595139   \n\n    WESTERN LINK TOLLWAY  WESTERN RING ROAD  WHITE ROAD  WONTHAGGI ROAD  \\\nId                                                                        \n1               0.132653           0.224763    0.864224        0.992863   \n2               0.616258           0.661798    0.499895        0.585897   \n3               0.165569           0.070938    1.058491        1.198398   \n4               0.015766           0.131424    0.976073        1.107003   \n5               0.462884           0.522508    0.576570        0.688079   \n6               0.125947           0.094281    1.022131        1.139716   \n7               0.782425           0.764812    0.842989        0.874656   \n8               0.379904           0.450290    0.624590        0.764190   \n9               0.379551           0.376544    0.819269        0.916511   \n\n    BURNLEY TUNNEL  SOUTHERN LINK TOLLWAY  \nId                                         \n1         0.093635               0.062841  \n2         0.568297               0.515296  \n3         0.199353               0.197036  \n4         0.025252               0.022949  \n5         0.417452               0.366591  \n6         0.141689               0.133305  \n7         0.740726               0.688935  \n8         0.357646               0.330111  \n9         0.335110               0.283022  \n\n[9 rows x 36 columns]",
      "text/html": "<div>\n<style scoped>\n    .dataframe tbody tr th:only-of-type {\n        vertical-align: middle;\n    }\n\n    .dataframe tbody tr th {\n        vertical-align: top;\n    }\n\n    .dataframe thead th {\n        text-align: right;\n    }\n</style>\n<table border=\"1\" class=\"dataframe\">\n  <thead>\n    <tr style=\"text-align: right;\">\n      <th></th>\n      <th>ANDERSON LINK ROAD</th>\n      <th>BALLARAT ROAD</th>\n      <th>BASS HIGHWAY</th>\n      <th>BAXTER-TOORADIN ROAD</th>\n      <th>CALDER FREEWAY</th>\n      <th>DEER PARK BYPASS</th>\n      <th>EASTERN FREEWAY</th>\n      <th>EASTLINK</th>\n      <th>GEELONG RING ROAD</th>\n      <th>GEELONG ROAD</th>\n      <th>...</th>\n      <th>STRZELECKI HIGHWAY</th>\n      <th>TULLAMARINE FREEWAY</th>\n      <th>WEST GATE FREEWAY</th>\n      <th>WESTERN FREEWAY</th>\n      <th>WESTERN LINK TOLLWAY</th>\n      <th>WESTERN RING ROAD</th>\n      <th>WHITE ROAD</th>\n      <th>WONTHAGGI ROAD</th>\n      <th>BURNLEY TUNNEL</th>\n      <th>SOUTHERN LINK TOLLWAY</th>\n    </tr>\n    <tr>\n      <th>Id</th>\n      <th></th>\n      <th></th>\n      <th></th>\n      <th></th>\n      <th></th>\n      <th></th>\n      <th></th>\n      <th></th>\n      <th></th>\n      <th></th>\n      <th></th>\n      <th></th>\n      <th></th>\n      <th></th>\n      <th></th>\n      <th></th>\n      <th></th>\n      <th></th>\n      <th></th>\n      <th></th>\n      <th></th>\n    </tr>\n  </thead>\n  <tbody>\n    <tr>\n      <th>1</th>\n      <td>0.731701</td>\n      <td>0.165743</td>\n      <td>0.638511</td>\n      <td>0.425683</td>\n      <td>0.214657</td>\n      <td>0.263016</td>\n      <td>0.110843</td>\n      <td>0.167997</td>\n      <td>0.658008</td>\n      <td>0.193345</td>\n      <td>...</td>\n      <td>1.072087</td>\n      <td>0.214189</td>\n      <td>0.106398</td>\n      <td>0.348480</td>\n      <td>0.132653</td>\n      <td>0.224763</td>\n      <td>0.864224</td>\n      <td>0.992863</td>\n      <td>0.093635</td>\n      <td>0.062841</td>\n    </tr>\n    <tr>\n      <th>2</th>\n      <td>0.417896</td>\n      <td>0.645948</td>\n      <td>0.210714</td>\n      <td>0.173529</td>\n      <td>0.682898</td>\n      <td>0.748770</td>\n      <td>0.421358</td>\n      <td>0.304348</td>\n      <td>1.089910</td>\n      <td>0.678540</td>\n      <td>...</td>\n      <td>0.597965</td>\n      <td>0.682210</td>\n      <td>0.585963</td>\n      <td>0.833987</td>\n      <td>0.616258</td>\n      <td>0.661798</td>\n      <td>0.499895</td>\n      <td>0.585897</td>\n      <td>0.568297</td>\n      <td>0.515296</td>\n    </tr>\n    <tr>\n      <th>3</th>\n      <td>0.917126</td>\n      <td>0.157211</td>\n      <td>0.870197</td>\n      <td>0.651316</td>\n      <td>0.175409</td>\n      <td>0.086529</td>\n      <td>0.235848</td>\n      <td>0.410212</td>\n      <td>0.411052</td>\n      <td>0.078203</td>\n      <td>...</td>\n      <td>1.310660</td>\n      <td>0.189866</td>\n      <td>0.068542</td>\n      <td>0.143368</td>\n      <td>0.165569</td>\n      <td>0.070938</td>\n      <td>1.058491</td>\n      <td>1.198398</td>\n      <td>0.199353</td>\n      <td>0.197036</td>\n    </tr>\n    <tr>\n      <th>4</th>\n      <td>0.841177</td>\n      <td>0.050975</td>\n      <td>0.755214</td>\n      <td>0.541355</td>\n      <td>0.108063</td>\n      <td>0.150094</td>\n      <td>0.065265</td>\n      <td>0.237113</td>\n      <td>0.584359</td>\n      <td>0.078029</td>\n      <td>...</td>\n      <td>1.188956</td>\n      <td>0.107850</td>\n      <td>0.010343</td>\n      <td>0.233407</td>\n      <td>0.015766</td>\n      <td>0.131424</td>\n      <td>0.976073</td>\n      <td>1.107003</td>\n      <td>0.025252</td>\n      <td>0.022949</td>\n    </tr>\n    <tr>\n      <th>5</th>\n      <td>0.463987</td>\n      <td>0.494238</td>\n      <td>0.316809</td>\n      <td>0.136578</td>\n      <td>0.535588</td>\n      <td>0.593053</td>\n      <td>0.297053</td>\n      <td>0.144513</td>\n      <td>0.932382</td>\n      <td>0.524102</td>\n      <td>...</td>\n      <td>0.742347</td>\n      <td>0.534959</td>\n      <td>0.434004</td>\n      <td>0.679043</td>\n      <td>0.462884</td>\n      <td>0.522508</td>\n      <td>0.576570</td>\n      <td>0.688079</td>\n      <td>0.417452</td>\n      <td>0.366591</td>\n    </tr>\n    <tr>\n      <th>6</th>\n      <td>0.898188</td>\n      <td>0.167671</td>\n      <td>0.768578</td>\n      <td>0.574377</td>\n      <td>0.152334</td>\n      <td>0.273444</td>\n      <td>0.082498</td>\n      <td>0.161909</td>\n      <td>0.740137</td>\n      <td>0.213253</td>\n      <td>...</td>\n      <td>1.180482</td>\n      <td>0.151463</td>\n      <td>0.153088</td>\n      <td>0.330481</td>\n      <td>0.125947</td>\n      <td>0.094281</td>\n      <td>1.022131</td>\n      <td>1.139716</td>\n      <td>0.141689</td>\n      <td>0.133305</td>\n    </tr>\n    <tr>\n      <th>7</th>\n      <td>0.799595</td>\n      <td>0.809417</td>\n      <td>0.568004</td>\n      <td>0.577306</td>\n      <td>0.817515</td>\n      <td>0.925208</td>\n      <td>0.545731</td>\n      <td>0.508933</td>\n      <td>1.355375</td>\n      <td>0.854113</td>\n      <td>...</td>\n      <td>0.736309</td>\n      <td>0.816648</td>\n      <td>0.760928</td>\n      <td>0.995553</td>\n      <td>0.782425</td>\n      <td>0.764812</td>\n      <td>0.842989</td>\n      <td>0.874656</td>\n      <td>0.740726</td>\n      <td>0.688935</td>\n    </tr>\n    <tr>\n      <th>8</th>\n      <td>0.484362</td>\n      <td>0.415972</td>\n      <td>0.452721</td>\n      <td>0.239839</td>\n      <td>0.473048</td>\n      <td>0.478235</td>\n      <td>0.361142</td>\n      <td>0.078332</td>\n      <td>0.721747</td>\n      <td>0.425432</td>\n      <td>...</td>\n      <td>0.891847</td>\n      <td>0.472762</td>\n      <td>0.364668</td>\n      <td>0.562787</td>\n      <td>0.379904</td>\n      <td>0.450290</td>\n      <td>0.624590</td>\n      <td>0.764190</td>\n      <td>0.357646</td>\n      <td>0.330111</td>\n    </tr>\n    <tr>\n      <th>9</th>\n      <td>0.715673</td>\n      <td>0.405662</td>\n      <td>0.538929</td>\n      <td>0.391891</td>\n      <td>0.420127</td>\n      <td>0.521268</td>\n      <td>0.140571</td>\n      <td>0.103031</td>\n      <td>0.952073</td>\n      <td>0.449454</td>\n      <td>...</td>\n      <td>0.917919</td>\n      <td>0.419286</td>\n      <td>0.355341</td>\n      <td>0.595139</td>\n      <td>0.379551</td>\n      <td>0.376544</td>\n      <td>0.819269</td>\n      <td>0.916511</td>\n      <td>0.335110</td>\n      <td>0.283022</td>\n    </tr>\n  </tbody>\n</table>\n<p>9 rows × 36 columns</p>\n</div>"
     },
     "metadata": {}
    }
   ]
  },
  {
   "cell_type": "code",
   "metadata": {
    "tags": [],
    "cell_id": "00010-5c6bc71b-502e-4fa2-b0ea-d9c3d2cce04b",
    "deepnote_to_be_reexecuted": false,
    "source_hash": "4c770f1f",
    "execution_start": 1620516425962,
    "execution_millis": 211,
    "deepnote_cell_type": "code"
   },
   "source": "\ndd.rename(columns = statesig[\"ROAD_NAME\"])",
   "execution_count": null,
   "outputs": [
    {
     "output_type": "execute_result",
     "execution_count": 173,
     "data": {
      "application/vnd.deepnote.dataframe.v2+json": {
       "row_count": 9,
       "column_count": 36,
       "columns": [
        {
         "name": "ANDERSON LINK ROAD",
         "dtype": "float64",
         "stats": {
          "unique_count": 9,
          "nan_count": 0,
          "min": "0.41789582674264736",
          "max": "0.9171263311781764",
          "histogram": [
           {
            "bin_start": 0.41789582674264736,
            "bin_end": 0.46781887718620024,
            "count": 2
           },
           {
            "bin_start": 0.46781887718620024,
            "bin_end": 0.5177419276297531,
            "count": 1
           },
           {
            "bin_start": 0.5177419276297531,
            "bin_end": 0.5676649780733061,
            "count": 0
           },
           {
            "bin_start": 0.5676649780733061,
            "bin_end": 0.617588028516859,
            "count": 0
           },
           {
            "bin_start": 0.617588028516859,
            "bin_end": 0.667511078960412,
            "count": 0
           },
           {
            "bin_start": 0.667511078960412,
            "bin_end": 0.7174341294039648,
            "count": 1
           },
           {
            "bin_start": 0.7174341294039648,
            "bin_end": 0.7673571798475177,
            "count": 1
           },
           {
            "bin_start": 0.7673571798475177,
            "bin_end": 0.8172802302910707,
            "count": 1
           },
           {
            "bin_start": 0.8172802302910707,
            "bin_end": 0.8672032807346235,
            "count": 1
           },
           {
            "bin_start": 0.8672032807346235,
            "bin_end": 0.9171263311781764,
            "count": 2
           }
          ]
         }
        },
        {
         "name": "BALLARAT ROAD",
         "dtype": "float64",
         "stats": {
          "unique_count": 9,
          "nan_count": 0,
          "min": "0.050975132703805145",
          "max": "0.8094174791089084",
          "histogram": [
           {
            "bin_start": 0.050975132703805145,
            "bin_end": 0.12681936734431548,
            "count": 1
           },
           {
            "bin_start": 0.12681936734431548,
            "bin_end": 0.2026636019848258,
            "count": 3
           },
           {
            "bin_start": 0.2026636019848258,
            "bin_end": 0.2785078366253361,
            "count": 0
           },
           {
            "bin_start": 0.2785078366253361,
            "bin_end": 0.35435207126584645,
            "count": 0
           },
           {
            "bin_start": 0.35435207126584645,
            "bin_end": 0.43019630590635677,
            "count": 2
           },
           {
            "bin_start": 0.43019630590635677,
            "bin_end": 0.5060405405468671,
            "count": 1
           },
           {
            "bin_start": 0.5060405405468671,
            "bin_end": 0.5818847751873774,
            "count": 0
           },
           {
            "bin_start": 0.5818847751873774,
            "bin_end": 0.6577290098278877,
            "count": 1
           },
           {
            "bin_start": 0.6577290098278877,
            "bin_end": 0.7335732444683981,
            "count": 0
           },
           {
            "bin_start": 0.7335732444683981,
            "bin_end": 0.8094174791089084,
            "count": 1
           }
          ]
         }
        },
        {
         "name": "BASS HIGHWAY",
         "dtype": "float64",
         "stats": {
          "unique_count": 9,
          "nan_count": 0,
          "min": "0.2107138296733409",
          "max": "0.87019698697234",
          "histogram": [
           {
            "bin_start": 0.2107138296733409,
            "bin_end": 0.27666214540324086,
            "count": 1
           },
           {
            "bin_start": 0.27666214540324086,
            "bin_end": 0.34261046113314075,
            "count": 1
           },
           {
            "bin_start": 0.34261046113314075,
            "bin_end": 0.40855877686304065,
            "count": 0
           },
           {
            "bin_start": 0.40855877686304065,
            "bin_end": 0.4745070925929406,
            "count": 1
           },
           {
            "bin_start": 0.4745070925929406,
            "bin_end": 0.5404554083228406,
            "count": 1
           },
           {
            "bin_start": 0.5404554083228406,
            "bin_end": 0.6064037240527405,
            "count": 1
           },
           {
            "bin_start": 0.6064037240527405,
            "bin_end": 0.6723520397826404,
            "count": 1
           },
           {
            "bin_start": 0.6723520397826404,
            "bin_end": 0.7383003555125403,
            "count": 0
           },
           {
            "bin_start": 0.7383003555125403,
            "bin_end": 0.8042486712424401,
            "count": 2
           },
           {
            "bin_start": 0.8042486712424401,
            "bin_end": 0.87019698697234,
            "count": 1
           }
          ]
         }
        },
        {
         "name": "BAXTER-TOORADIN ROAD",
         "dtype": "float64",
         "stats": {
          "unique_count": 9,
          "nan_count": 0,
          "min": "0.1365784770444431",
          "max": "0.6513160354380291",
          "histogram": [
           {
            "bin_start": 0.1365784770444431,
            "bin_end": 0.18805223288380168,
            "count": 2
           },
           {
            "bin_start": 0.18805223288380168,
            "bin_end": 0.2395259887231603,
            "count": 0
           },
           {
            "bin_start": 0.2395259887231603,
            "bin_end": 0.2909997445625189,
            "count": 1
           },
           {
            "bin_start": 0.2909997445625189,
            "bin_end": 0.3424735004018775,
            "count": 0
           },
           {
            "bin_start": 0.3424735004018775,
            "bin_end": 0.3939472562412361,
            "count": 1
           },
           {
            "bin_start": 0.3939472562412361,
            "bin_end": 0.44542101208059476,
            "count": 1
           },
           {
            "bin_start": 0.44542101208059476,
            "bin_end": 0.49689476791995335,
            "count": 0
           },
           {
            "bin_start": 0.49689476791995335,
            "bin_end": 0.5483685237593119,
            "count": 1
           },
           {
            "bin_start": 0.5483685237593119,
            "bin_end": 0.5998422795986705,
            "count": 2
           },
           {
            "bin_start": 0.5998422795986705,
            "bin_end": 0.6513160354380291,
            "count": 1
           }
          ]
         }
        },
        {
         "name": "CALDER FREEWAY",
         "dtype": "float64",
         "stats": {
          "unique_count": 9,
          "nan_count": 0,
          "min": "0.10806262887981594",
          "max": "0.8175148637031142",
          "histogram": [
           {
            "bin_start": 0.10806262887981594,
            "bin_end": 0.17900785236214578,
            "count": 3
           },
           {
            "bin_start": 0.17900785236214578,
            "bin_end": 0.2499530758444756,
            "count": 1
           },
           {
            "bin_start": 0.2499530758444756,
            "bin_end": 0.3208982993268054,
            "count": 0
           },
           {
            "bin_start": 0.3208982993268054,
            "bin_end": 0.39184352280913526,
            "count": 0
           },
           {
            "bin_start": 0.39184352280913526,
            "bin_end": 0.4627887462914651,
            "count": 1
           },
           {
            "bin_start": 0.4627887462914651,
            "bin_end": 0.5337339697737948,
            "count": 1
           },
           {
            "bin_start": 0.5337339697737948,
            "bin_end": 0.6046791932561247,
            "count": 1
           },
           {
            "bin_start": 0.6046791932561247,
            "bin_end": 0.6756244167384546,
            "count": 0
           },
           {
            "bin_start": 0.6756244167384546,
            "bin_end": 0.7465696402207844,
            "count": 1
           },
           {
            "bin_start": 0.7465696402207844,
            "bin_end": 0.8175148637031142,
            "count": 1
           }
          ]
         }
        },
        {
         "name": "DEER PARK BYPASS",
         "dtype": "float64",
         "stats": {
          "unique_count": 9,
          "nan_count": 0,
          "min": "0.08652916000684967",
          "max": "0.9252075209344853",
          "histogram": [
           {
            "bin_start": 0.08652916000684967,
            "bin_end": 0.17039699609961323,
            "count": 2
           },
           {
            "bin_start": 0.17039699609961323,
            "bin_end": 0.25426483219237683,
            "count": 0
           },
           {
            "bin_start": 0.25426483219237683,
            "bin_end": 0.3381326682851404,
            "count": 2
           },
           {
            "bin_start": 0.3381326682851404,
            "bin_end": 0.422000504377904,
            "count": 0
           },
           {
            "bin_start": 0.422000504377904,
            "bin_end": 0.5058683404706675,
            "count": 1
           },
           {
            "bin_start": 0.5058683404706675,
            "bin_end": 0.589736176563431,
            "count": 1
           },
           {
            "bin_start": 0.589736176563431,
            "bin_end": 0.6736040126561946,
            "count": 1
           },
           {
            "bin_start": 0.6736040126561946,
            "bin_end": 0.7574718487489582,
            "count": 1
           },
           {
            "bin_start": 0.7574718487489582,
            "bin_end": 0.8413396848417218,
            "count": 0
           },
           {
            "bin_start": 0.8413396848417218,
            "bin_end": 0.9252075209344853,
            "count": 1
           }
          ]
         }
        },
        {
         "name": "EASTERN FREEWAY",
         "dtype": "float64",
         "stats": {
          "unique_count": 9,
          "nan_count": 0,
          "min": "0.065264694795095",
          "max": "0.545730617883242",
          "histogram": [
           {
            "bin_start": 0.065264694795095,
            "bin_end": 0.1133112871039097,
            "count": 3
           },
           {
            "bin_start": 0.1133112871039097,
            "bin_end": 0.1613578794127244,
            "count": 1
           },
           {
            "bin_start": 0.1613578794127244,
            "bin_end": 0.2094044717215391,
            "count": 0
           },
           {
            "bin_start": 0.2094044717215391,
            "bin_end": 0.2574510640303538,
            "count": 1
           },
           {
            "bin_start": 0.2574510640303538,
            "bin_end": 0.3054976563391685,
            "count": 1
           },
           {
            "bin_start": 0.3054976563391685,
            "bin_end": 0.3535442486479832,
            "count": 0
           },
           {
            "bin_start": 0.3535442486479832,
            "bin_end": 0.40159084095679787,
            "count": 1
           },
           {
            "bin_start": 0.40159084095679787,
            "bin_end": 0.44963743326561256,
            "count": 1
           },
           {
            "bin_start": 0.44963743326561256,
            "bin_end": 0.49768402557442726,
            "count": 0
           },
           {
            "bin_start": 0.49768402557442726,
            "bin_end": 0.545730617883242,
            "count": 1
           }
          ]
         }
        },
        {
         "name": "EASTLINK",
         "dtype": "float64",
         "stats": {
          "unique_count": 9,
          "nan_count": 0,
          "min": "0.07833202130870087",
          "max": "0.5089325891852579",
          "histogram": [
           {
            "bin_start": 0.07833202130870087,
            "bin_end": 0.12139207809635658,
            "count": 2
           },
           {
            "bin_start": 0.12139207809635658,
            "bin_end": 0.16445213488401228,
            "count": 2
           },
           {
            "bin_start": 0.16445213488401228,
            "bin_end": 0.20751219167166796,
            "count": 1
           },
           {
            "bin_start": 0.20751219167166796,
            "bin_end": 0.2505722484593237,
            "count": 1
           },
           {
            "bin_start": 0.2505722484593237,
            "bin_end": 0.29363230524697936,
            "count": 0
           },
           {
            "bin_start": 0.29363230524697936,
            "bin_end": 0.33669236203463504,
            "count": 1
           },
           {
            "bin_start": 0.33669236203463504,
            "bin_end": 0.37975241882229077,
            "count": 0
           },
           {
            "bin_start": 0.37975241882229077,
            "bin_end": 0.42281247560994645,
            "count": 1
           },
           {
            "bin_start": 0.42281247560994645,
            "bin_end": 0.4658725323976021,
            "count": 0
           },
           {
            "bin_start": 0.4658725323976021,
            "bin_end": 0.5089325891852579,
            "count": 1
           }
          ]
         }
        },
        {
         "name": "GEELONG RING ROAD",
         "dtype": "float64",
         "stats": {
          "unique_count": 9,
          "nan_count": 0,
          "min": "0.4110515364115422",
          "max": "1.3553749235618051",
          "histogram": [
           {
            "bin_start": 0.4110515364115422,
            "bin_end": 0.5054838751265684,
            "count": 1
           },
           {
            "bin_start": 0.5054838751265684,
            "bin_end": 0.5999162138415948,
            "count": 1
           },
           {
            "bin_start": 0.5999162138415948,
            "bin_end": 0.6943485525566211,
            "count": 1
           },
           {
            "bin_start": 0.6943485525566211,
            "bin_end": 0.7887808912716474,
            "count": 2
           },
           {
            "bin_start": 0.7887808912716474,
            "bin_end": 0.8832132299866737,
            "count": 0
           },
           {
            "bin_start": 0.8832132299866737,
            "bin_end": 0.9776455687016998,
            "count": 2
           },
           {
            "bin_start": 0.9776455687016998,
            "bin_end": 1.0720779074167262,
            "count": 0
           },
           {
            "bin_start": 1.0720779074167262,
            "bin_end": 1.1665102461317525,
            "count": 1
           },
           {
            "bin_start": 1.1665102461317525,
            "bin_end": 1.2609425848467788,
            "count": 0
           },
           {
            "bin_start": 1.2609425848467788,
            "bin_end": 1.3553749235618051,
            "count": 1
           }
          ]
         }
        },
        {
         "name": "GEELONG ROAD",
         "dtype": "float64",
         "stats": {
          "unique_count": 9,
          "nan_count": 0,
          "min": "0.07802941436773028",
          "max": "0.8541130422740887",
          "histogram": [
           {
            "bin_start": 0.07802941436773028,
            "bin_end": 0.15563777715836613,
            "count": 2
           },
           {
            "bin_start": 0.15563777715836613,
            "bin_end": 0.23324613994900198,
            "count": 2
           },
           {
            "bin_start": 0.23324613994900198,
            "bin_end": 0.31085450273963783,
            "count": 0
           },
           {
            "bin_start": 0.31085450273963783,
            "bin_end": 0.38846286553027365,
            "count": 0
           },
           {
            "bin_start": 0.38846286553027365,
            "bin_end": 0.4660712283209095,
            "count": 2
           },
           {
            "bin_start": 0.4660712283209095,
            "bin_end": 0.5436795911115454,
            "count": 1
           },
           {
            "bin_start": 0.5436795911115454,
            "bin_end": 0.6212879539021812,
            "count": 0
           },
           {
            "bin_start": 0.6212879539021812,
            "bin_end": 0.698896316692817,
            "count": 1
           },
           {
            "bin_start": 0.698896316692817,
            "bin_end": 0.7765046794834529,
            "count": 0
           },
           {
            "bin_start": 0.7765046794834529,
            "bin_end": 0.8541130422740887,
            "count": 1
           }
          ]
         }
        },
        {
         "name": "GRAHAM STREET",
         "dtype": "float64",
         "stats": {
          "unique_count": 9,
          "nan_count": 0,
          "min": "0.5282244777640631",
          "max": "1.0895100069085588",
          "histogram": [
           {
            "bin_start": 0.5282244777640631,
            "bin_end": 0.5843530306785127,
            "count": 1
           },
           {
            "bin_start": 0.5843530306785127,
            "bin_end": 0.6404815835929623,
            "count": 1
           },
           {
            "bin_start": 0.6404815835929623,
            "bin_end": 0.6966101365074118,
            "count": 1
           },
           {
            "bin_start": 0.6966101365074118,
            "bin_end": 0.7527386894218614,
            "count": 0
           },
           {
            "bin_start": 0.7527386894218614,
            "bin_end": 0.808867242336311,
            "count": 0
           },
           {
            "bin_start": 0.808867242336311,
            "bin_end": 0.8649957952507605,
            "count": 2
           },
           {
            "bin_start": 0.8649957952507605,
            "bin_end": 0.92112434816521,
            "count": 1
           },
           {
            "bin_start": 0.92112434816521,
            "bin_end": 0.9772529010796597,
            "count": 0
           },
           {
            "bin_start": 0.9772529010796597,
            "bin_end": 1.0333814539941093,
            "count": 1
           },
           {
            "bin_start": 1.0333814539941093,
            "bin_end": 1.0895100069085588,
            "count": 2
           }
          ]
         }
        },
        {
         "name": "HUME FREEWAY",
         "dtype": "float64",
         "stats": {
          "unique_count": 9,
          "nan_count": 0,
          "min": "0.06812113586507679",
          "max": "0.7370362570049931",
          "histogram": [
           {
            "bin_start": 0.06812113586507679,
            "bin_end": 0.13501264797906842,
            "count": 1
           },
           {
            "bin_start": 0.13501264797906842,
            "bin_end": 0.20190416009306003,
            "count": 1
           },
           {
            "bin_start": 0.20190416009306003,
            "bin_end": 0.26879567220705164,
            "count": 1
           },
           {
            "bin_start": 0.26879567220705164,
            "bin_end": 0.3356871843210433,
            "count": 1
           },
           {
            "bin_start": 0.3356871843210433,
            "bin_end": 0.4025786964350349,
            "count": 1
           },
           {
            "bin_start": 0.4025786964350349,
            "bin_end": 0.4694702085490265,
            "count": 0
           },
           {
            "bin_start": 0.4694702085490265,
            "bin_end": 0.5363617206630181,
            "count": 2
           },
           {
            "bin_start": 0.5363617206630181,
            "bin_end": 0.6032532327770097,
            "count": 0
           },
           {
            "bin_start": 0.6032532327770097,
            "bin_end": 0.6701447448910014,
            "count": 1
           },
           {
            "bin_start": 0.6701447448910014,
            "bin_end": 0.7370362570049931,
            "count": 1
           }
          ]
         }
        },
        {
         "name": "MALMSBURY BYPASS",
         "dtype": "float64",
         "stats": {
          "unique_count": 9,
          "nan_count": 0,
          "min": "0.7823798103042499",
          "max": "1.4276511327317827",
          "histogram": [
           {
            "bin_start": 0.7823798103042499,
            "bin_end": 0.8469069425470032,
            "count": 3
           },
           {
            "bin_start": 0.8469069425470032,
            "bin_end": 0.9114340747897565,
            "count": 0
           },
           {
            "bin_start": 0.9114340747897565,
            "bin_end": 0.9759612070325097,
            "count": 1
           },
           {
            "bin_start": 0.9759612070325097,
            "bin_end": 1.0404883392752629,
            "count": 0
           },
           {
            "bin_start": 1.0404883392752629,
            "bin_end": 1.1050154715180163,
            "count": 1
           },
           {
            "bin_start": 1.1050154715180163,
            "bin_end": 1.1695426037607695,
            "count": 0
           },
           {
            "bin_start": 1.1695426037607695,
            "bin_end": 1.2340697360035229,
            "count": 1
           },
           {
            "bin_start": 1.2340697360035229,
            "bin_end": 1.298596868246276,
            "count": 1
           },
           {
            "bin_start": 1.298596868246276,
            "bin_end": 1.3631240004890293,
            "count": 0
           },
           {
            "bin_start": 1.3631240004890293,
            "bin_end": 1.4276511327317827,
            "count": 2
           }
          ]
         }
        },
        {
         "name": "MCCARTIN STREET",
         "dtype": "float64",
         "stats": {
          "unique_count": 9,
          "nan_count": 0,
          "min": "0.5981016475548986",
          "max": "1.3066367617490524",
          "histogram": [
           {
            "bin_start": 0.5981016475548986,
            "bin_end": 0.668955158974314,
            "count": 1
           },
           {
            "bin_start": 0.668955158974314,
            "bin_end": 0.7398086703937293,
            "count": 0
           },
           {
            "bin_start": 0.7398086703937293,
            "bin_end": 0.8106621818131448,
            "count": 2
           },
           {
            "bin_start": 0.8106621818131448,
            "bin_end": 0.8815156932325601,
            "count": 0
           },
           {
            "bin_start": 0.8815156932325601,
            "bin_end": 0.9523692046519755,
            "count": 2
           },
           {
            "bin_start": 0.9523692046519755,
            "bin_end": 1.023222716071391,
            "count": 0
           },
           {
            "bin_start": 1.023222716071391,
            "bin_end": 1.0940762274908062,
            "count": 1
           },
           {
            "bin_start": 1.0940762274908062,
            "bin_end": 1.1649297389102218,
            "count": 0
           },
           {
            "bin_start": 1.1649297389102218,
            "bin_end": 1.235783250329637,
            "count": 2
           },
           {
            "bin_start": 1.235783250329637,
            "bin_end": 1.3066367617490524,
            "count": 1
           }
          ]
         }
        },
        {
         "name": "MCKENZIE STREET",
         "dtype": "float64",
         "stats": {
          "unique_count": 9,
          "nan_count": 0,
          "min": "0.516581977353523",
          "max": "1.080444555803428",
          "histogram": [
           {
            "bin_start": 0.516581977353523,
            "bin_end": 0.5729682351985135,
            "count": 1
           },
           {
            "bin_start": 0.5729682351985135,
            "bin_end": 0.629354493043504,
            "count": 1
           },
           {
            "bin_start": 0.629354493043504,
            "bin_end": 0.6857407508884945,
            "count": 1
           },
           {
            "bin_start": 0.6857407508884945,
            "bin_end": 0.7421270087334849,
            "count": 0
           },
           {
            "bin_start": 0.7421270087334849,
            "bin_end": 0.7985132665784754,
            "count": 0
           },
           {
            "bin_start": 0.7985132665784754,
            "bin_end": 0.854899524423466,
            "count": 2
           },
           {
            "bin_start": 0.854899524423466,
            "bin_end": 0.9112857822684564,
            "count": 1
           },
           {
            "bin_start": 0.9112857822684564,
            "bin_end": 0.9676720401134469,
            "count": 0
           },
           {
            "bin_start": 0.9676720401134469,
            "bin_end": 1.0240582979584374,
            "count": 1
           },
           {
            "bin_start": 1.0240582979584374,
            "bin_end": 1.080444555803428,
            "count": 2
           }
          ]
         }
        },
        {
         "name": "METROPOLITAN RING ROAD",
         "dtype": "float64",
         "stats": {
          "unique_count": 9,
          "nan_count": 0,
          "min": "0.015272654361394045",
          "max": "0.6304330351944105",
          "histogram": [
           {
            "bin_start": 0.015272654361394045,
            "bin_end": 0.0767886924446957,
            "count": 1
           },
           {
            "bin_start": 0.0767886924446957,
            "bin_end": 0.13830473052799735,
            "count": 0
           },
           {
            "bin_start": 0.13830473052799735,
            "bin_end": 0.19982076861129902,
            "count": 1
           },
           {
            "bin_start": 0.19982076861129902,
            "bin_end": 0.26133680669460063,
            "count": 2
           },
           {
            "bin_start": 0.26133680669460063,
            "bin_end": 0.32285284477790227,
            "count": 1
           },
           {
            "bin_start": 0.32285284477790227,
            "bin_end": 0.38436888286120396,
            "count": 0
           },
           {
            "bin_start": 0.38436888286120396,
            "bin_end": 0.4458849209445056,
            "count": 1
           },
           {
            "bin_start": 0.4458849209445056,
            "bin_end": 0.5074009590278072,
            "count": 1
           },
           {
            "bin_start": 0.5074009590278072,
            "bin_end": 0.5689169971111089,
            "count": 1
           },
           {
            "bin_start": 0.5689169971111089,
            "bin_end": 0.6304330351944105,
            "count": 1
           }
          ]
         }
        },
        {
         "name": "MONASH FREEWAY",
         "dtype": "float64",
         "stats": {
          "unique_count": 9,
          "nan_count": 0,
          "min": "0.026408464785081177",
          "max": "0.4861857073547162",
          "histogram": [
           {
            "bin_start": 0.026408464785081177,
            "bin_end": 0.07238618904204468,
            "count": 2
           },
           {
            "bin_start": 0.07238618904204468,
            "bin_end": 0.11836391329900818,
            "count": 1
           },
           {
            "bin_start": 0.11836391329900818,
            "bin_end": 0.1643416375559717,
            "count": 1
           },
           {
            "bin_start": 0.1643416375559717,
            "bin_end": 0.2103193618129352,
            "count": 2
           },
           {
            "bin_start": 0.2103193618129352,
            "bin_end": 0.2562970860698987,
            "count": 1
           },
           {
            "bin_start": 0.2562970860698987,
            "bin_end": 0.3022748103268622,
            "count": 1
           },
           {
            "bin_start": 0.3022748103268622,
            "bin_end": 0.3482525345838257,
            "count": 0
           },
           {
            "bin_start": 0.3482525345838257,
            "bin_end": 0.3942302588407892,
            "count": 0
           },
           {
            "bin_start": 0.3942302588407892,
            "bin_end": 0.4402079830977527,
            "count": 0
           },
           {
            "bin_start": 0.4402079830977527,
            "bin_end": 0.4861857073547162,
            "count": 1
           }
          ]
         }
        },
        {
         "name": "MORNINGTON PENINSULA ROUTE",
         "dtype": "float64",
         "stats": {
          "unique_count": 9,
          "nan_count": 0,
          "min": "0.04921610221514959",
          "max": "0.6625372279394449",
          "histogram": [
           {
            "bin_start": 0.04921610221514959,
            "bin_end": 0.11054821478757912,
            "count": 1
           },
           {
            "bin_start": 0.11054821478757912,
            "bin_end": 0.17188032736000863,
            "count": 1
           },
           {
            "bin_start": 0.17188032736000863,
            "bin_end": 0.23321243993243818,
            "count": 1
           },
           {
            "bin_start": 0.23321243993243818,
            "bin_end": 0.2945445525048677,
            "count": 0
           },
           {
            "bin_start": 0.2945445525048677,
            "bin_end": 0.35587666507729726,
            "count": 3
           },
           {
            "bin_start": 0.35587666507729726,
            "bin_end": 0.41720877764972675,
            "count": 1
           },
           {
            "bin_start": 0.41720877764972675,
            "bin_end": 0.4785408902221563,
            "count": 1
           },
           {
            "bin_start": 0.4785408902221563,
            "bin_end": 0.5398730027945858,
            "count": 0
           },
           {
            "bin_start": 0.5398730027945858,
            "bin_end": 0.6012051153670154,
            "count": 0
           },
           {
            "bin_start": 0.6012051153670154,
            "bin_end": 0.6625372279394449,
            "count": 1
           }
          ]
         }
        },
        {
         "name": "PHILLIP ISLAND ROAD",
         "dtype": "float64",
         "stats": {
          "unique_count": 9,
          "nan_count": 0,
          "min": "0.43993470682777824",
          "max": "0.9270542127465377",
          "histogram": [
           {
            "bin_start": 0.43993470682777824,
            "bin_end": 0.4886466574196542,
            "count": 2
           },
           {
            "bin_start": 0.4886466574196542,
            "bin_end": 0.5373586080115301,
            "count": 1
           },
           {
            "bin_start": 0.5373586080115301,
            "bin_end": 0.5860705586034061,
            "count": 0
           },
           {
            "bin_start": 0.5860705586034061,
            "bin_end": 0.634782509195282,
            "count": 0
           },
           {
            "bin_start": 0.634782509195282,
            "bin_end": 0.683494459787158,
            "count": 0
           },
           {
            "bin_start": 0.683494459787158,
            "bin_end": 0.7322064103790339,
            "count": 0
           },
           {
            "bin_start": 0.7322064103790339,
            "bin_end": 0.7809183609709098,
            "count": 2
           },
           {
            "bin_start": 0.7809183609709098,
            "bin_end": 0.8296303115627858,
            "count": 1
           },
           {
            "bin_start": 0.8296303115627858,
            "bin_end": 0.8783422621546617,
            "count": 1
           },
           {
            "bin_start": 0.8783422621546617,
            "bin_end": 0.9270542127465377,
            "count": 2
           }
          ]
         }
        },
        {
         "name": "PRINCES FREEWAY",
         "dtype": "float64",
         "stats": {
          "unique_count": 9,
          "nan_count": 0,
          "min": "0.0036009905382882847",
          "max": "0.32460252359520847",
          "histogram": [
           {
            "bin_start": 0.0036009905382882847,
            "bin_end": 0.03570114384398031,
            "count": 3
           },
           {
            "bin_start": 0.03570114384398031,
            "bin_end": 0.06780129714967233,
            "count": 1
           },
           {
            "bin_start": 0.06780129714967233,
            "bin_end": 0.09990145045536435,
            "count": 0
           },
           {
            "bin_start": 0.09990145045536435,
            "bin_end": 0.13200160376105635,
            "count": 0
           },
           {
            "bin_start": 0.13200160376105635,
            "bin_end": 0.16410175706674837,
            "count": 0
           },
           {
            "bin_start": 0.16410175706674837,
            "bin_end": 0.1962019103724404,
            "count": 2
           },
           {
            "bin_start": 0.1962019103724404,
            "bin_end": 0.2283020636781324,
            "count": 0
           },
           {
            "bin_start": 0.2283020636781324,
            "bin_end": 0.26040221698382443,
            "count": 2
           },
           {
            "bin_start": 0.26040221698382443,
            "bin_end": 0.2925023702895165,
            "count": 0
           },
           {
            "bin_start": 0.2925023702895165,
            "bin_end": 0.32460252359520847,
            "count": 1
           }
          ]
         }
        },
        {
         "name": "PRINCES FREEWAY.1",
         "dtype": "float64",
         "stats": {
          "unique_count": 9,
          "nan_count": 0,
          "min": "0.07518838037114794",
          "max": "0.9001424705235727",
          "histogram": [
           {
            "bin_start": 0.07518838037114794,
            "bin_end": 0.1576837893863904,
            "count": 2
           },
           {
            "bin_start": 0.1576837893863904,
            "bin_end": 0.24017919840163288,
            "count": 1
           },
           {
            "bin_start": 0.24017919840163288,
            "bin_end": 0.32267460741687537,
            "count": 1
           },
           {
            "bin_start": 0.32267460741687537,
            "bin_end": 0.4051700164321178,
            "count": 0
           },
           {
            "bin_start": 0.4051700164321178,
            "bin_end": 0.48766542544736025,
            "count": 1
           },
           {
            "bin_start": 0.48766542544736025,
            "bin_end": 0.5701608344626028,
            "count": 2
           },
           {
            "bin_start": 0.5701608344626028,
            "bin_end": 0.6526562434778452,
            "count": 0
           },
           {
            "bin_start": 0.6526562434778452,
            "bin_end": 0.7351516524930877,
            "count": 1
           },
           {
            "bin_start": 0.7351516524930877,
            "bin_end": 0.8176470615083301,
            "count": 0
           },
           {
            "bin_start": 0.8176470615083301,
            "bin_end": 0.9001424705235727,
            "count": 1
           }
          ]
         }
        },
        {
         "name": "RACECOURSE ROAD",
         "dtype": "float64",
         "stats": {
          "unique_count": 9,
          "nan_count": 0,
          "min": "0.04765109989464972",
          "max": "0.7843453636826775",
          "histogram": [
           {
            "bin_start": 0.04765109989464972,
            "bin_end": 0.1213205262734525,
            "count": 1
           },
           {
            "bin_start": 0.1213205262734525,
            "bin_end": 0.19498995265225527,
            "count": 3
           },
           {
            "bin_start": 0.19498995265225527,
            "bin_end": 0.2686593790310581,
            "count": 0
           },
           {
            "bin_start": 0.2686593790310581,
            "bin_end": 0.3423288054098608,
            "count": 0
           },
           {
            "bin_start": 0.3423288054098608,
            "bin_end": 0.41599823178866363,
            "count": 2
           },
           {
            "bin_start": 0.41599823178866363,
            "bin_end": 0.4896676581674664,
            "count": 1
           },
           {
            "bin_start": 0.4896676581674664,
            "bin_end": 0.5633370845462691,
            "count": 0
           },
           {
            "bin_start": 0.5633370845462691,
            "bin_end": 0.637006510925072,
            "count": 1
           },
           {
            "bin_start": 0.637006510925072,
            "bin_end": 0.7106759373038747,
            "count": 0
           },
           {
            "bin_start": 0.7106759373038747,
            "bin_end": 0.7843453636826775,
            "count": 1
           }
          ]
         }
        },
        {
         "name": "SMITHFIELD ROAD",
         "dtype": "float64",
         "stats": {
          "unique_count": 9,
          "nan_count": 0,
          "min": "0.05061501891404029",
          "max": "0.7968029043274814",
          "histogram": [
           {
            "bin_start": 0.05061501891404029,
            "bin_end": 0.1252338074553844,
            "count": 1
           },
           {
            "bin_start": 0.1252338074553844,
            "bin_end": 0.1998525959967285,
            "count": 3
           },
           {
            "bin_start": 0.1998525959967285,
            "bin_end": 0.27447138453807257,
            "count": 0
           },
           {
            "bin_start": 0.27447138453807257,
            "bin_end": 0.3490901730794167,
            "count": 0
           },
           {
            "bin_start": 0.3490901730794167,
            "bin_end": 0.42370896162076077,
            "count": 2
           },
           {
            "bin_start": 0.42370896162076077,
            "bin_end": 0.4983277501621049,
            "count": 1
           },
           {
            "bin_start": 0.4983277501621049,
            "bin_end": 0.572946538703449,
            "count": 0
           },
           {
            "bin_start": 0.572946538703449,
            "bin_end": 0.6475653272447931,
            "count": 1
           },
           {
            "bin_start": 0.6475653272447931,
            "bin_end": 0.7221841157861372,
            "count": 0
           },
           {
            "bin_start": 0.7221841157861372,
            "bin_end": 0.7968029043274814,
            "count": 1
           }
          ]
         }
        },
        {
         "name": "OUTH GIPPSLAND HIGHWAY",
         "dtype": "float64",
         "stats": {
          "unique_count": 9,
          "nan_count": 0,
          "min": "0.08718206170250985",
          "max": "0.5143803600910068",
          "histogram": [
           {
            "bin_start": 0.08718206170250985,
            "bin_end": 0.12990189154135956,
            "count": 2
           },
           {
            "bin_start": 0.12990189154135956,
            "bin_end": 0.17262172138020926,
            "count": 0
           },
           {
            "bin_start": 0.17262172138020926,
            "bin_end": 0.21534155121905896,
            "count": 2
           },
           {
            "bin_start": 0.21534155121905896,
            "bin_end": 0.25806138105790866,
            "count": 1
           },
           {
            "bin_start": 0.25806138105790866,
            "bin_end": 0.30078121089675836,
            "count": 0
           },
           {
            "bin_start": 0.30078121089675836,
            "bin_end": 0.34350104073560805,
            "count": 0
           },
           {
            "bin_start": 0.34350104073560805,
            "bin_end": 0.38622087057445775,
            "count": 2
           },
           {
            "bin_start": 0.38622087057445775,
            "bin_end": 0.42894070041330745,
            "count": 0
           },
           {
            "bin_start": 0.42894070041330745,
            "bin_end": 0.47166053025215715,
            "count": 0
           },
           {
            "bin_start": 0.47166053025215715,
            "bin_end": 0.5143803600910068,
            "count": 2
           }
          ]
         }
        },
        {
         "name": "SOUTH GIPPSLAND HIGHWAY",
         "dtype": "float64",
         "stats": {
          "unique_count": 9,
          "nan_count": 0,
          "min": "0.060553726379823127",
          "max": "0.5157750288314328",
          "histogram": [
           {
            "bin_start": 0.060553726379823127,
            "bin_end": 0.10607585662498409,
            "count": 1
           },
           {
            "bin_start": 0.10607585662498409,
            "bin_end": 0.15159798687014506,
            "count": 1
           },
           {
            "bin_start": 0.15159798687014506,
            "bin_end": 0.197120117115306,
            "count": 1
           },
           {
            "bin_start": 0.197120117115306,
            "bin_end": 0.24264224736046697,
            "count": 2
           },
           {
            "bin_start": 0.24264224736046697,
            "bin_end": 0.28816437760562796,
            "count": 0
           },
           {
            "bin_start": 0.28816437760562796,
            "bin_end": 0.3336865078507889,
            "count": 0
           },
           {
            "bin_start": 0.3336865078507889,
            "bin_end": 0.3792086380959499,
            "count": 2
           },
           {
            "bin_start": 0.3792086380959499,
            "bin_end": 0.42473076834111084,
            "count": 0
           },
           {
            "bin_start": 0.42473076834111084,
            "bin_end": 0.4702528985862718,
            "count": 0
           },
           {
            "bin_start": 0.4702528985862718,
            "bin_end": 0.5157750288314328,
            "count": 2
           }
          ]
         }
        },
        {
         "name": "SPRINGVALE ROAD",
         "dtype": "float64",
         "stats": {
          "unique_count": 9,
          "nan_count": 0,
          "min": "0.14057130115587352",
          "max": "0.545730617883242",
          "histogram": [
           {
            "bin_start": 0.14057130115587352,
            "bin_end": 0.18108723282861036,
            "count": 3
           },
           {
            "bin_start": 0.18108723282861036,
            "bin_end": 0.2216031645013472,
            "count": 0
           },
           {
            "bin_start": 0.2216031645013472,
            "bin_end": 0.262119096174084,
            "count": 1
           },
           {
            "bin_start": 0.262119096174084,
            "bin_end": 0.3026350278468209,
            "count": 1
           },
           {
            "bin_start": 0.3026350278468209,
            "bin_end": 0.34315095951955776,
            "count": 0
           },
           {
            "bin_start": 0.34315095951955776,
            "bin_end": 0.3836668911922946,
            "count": 1
           },
           {
            "bin_start": 0.3836668911922946,
            "bin_end": 0.42418282286503145,
            "count": 2
           },
           {
            "bin_start": 0.42418282286503145,
            "bin_end": 0.46469875453776827,
            "count": 0
           },
           {
            "bin_start": 0.46469875453776827,
            "bin_end": 0.5052146862105051,
            "count": 0
           },
           {
            "bin_start": 0.5052146862105051,
            "bin_end": 0.545730617883242,
            "count": 1
           }
          ]
         }
        },
        {
         "name": "STRZELECKI HIGHWAY",
         "dtype": "float64",
         "stats": {
          "unique_count": 9,
          "nan_count": 0,
          "min": "0.5979649796524397",
          "max": "1.3106602644150536",
          "histogram": [
           {
            "bin_start": 0.5979649796524397,
            "bin_end": 0.669234508128701,
            "count": 1
           },
           {
            "bin_start": 0.669234508128701,
            "bin_end": 0.7405040366049624,
            "count": 1
           },
           {
            "bin_start": 0.7405040366049624,
            "bin_end": 0.8117735650812239,
            "count": 1
           },
           {
            "bin_start": 0.8117735650812239,
            "bin_end": 0.8830430935574852,
            "count": 0
           },
           {
            "bin_start": 0.8830430935574852,
            "bin_end": 0.9543126220337466,
            "count": 2
           },
           {
            "bin_start": 0.9543126220337466,
            "bin_end": 1.025582150510008,
            "count": 0
           },
           {
            "bin_start": 1.025582150510008,
            "bin_end": 1.0968516789862695,
            "count": 1
           },
           {
            "bin_start": 1.0968516789862695,
            "bin_end": 1.168121207462531,
            "count": 0
           },
           {
            "bin_start": 1.168121207462531,
            "bin_end": 1.2393907359387923,
            "count": 2
           },
           {
            "bin_start": 1.2393907359387923,
            "bin_end": 1.3106602644150536,
            "count": 1
           }
          ]
         }
        },
        {
         "name": "TULLAMARINE FREEWAY",
         "dtype": "float64",
         "stats": {
          "unique_count": 9,
          "nan_count": 0,
          "min": "0.1078500460876057",
          "max": "0.8166481414622064",
          "histogram": [
           {
            "bin_start": 0.1078500460876057,
            "bin_end": 0.17872985562506577,
            "count": 2
           },
           {
            "bin_start": 0.17872985562506577,
            "bin_end": 0.24960966516252583,
            "count": 2
           },
           {
            "bin_start": 0.24960966516252583,
            "bin_end": 0.3204894746999859,
            "count": 0
           },
           {
            "bin_start": 0.3204894746999859,
            "bin_end": 0.391369284237446,
            "count": 0
           },
           {
            "bin_start": 0.391369284237446,
            "bin_end": 0.4622490937749061,
            "count": 1
           },
           {
            "bin_start": 0.4622490937749061,
            "bin_end": 0.5331289033123661,
            "count": 1
           },
           {
            "bin_start": 0.5331289033123661,
            "bin_end": 0.6040087128498262,
            "count": 1
           },
           {
            "bin_start": 0.6040087128498262,
            "bin_end": 0.6748885223872862,
            "count": 0
           },
           {
            "bin_start": 0.6748885223872862,
            "bin_end": 0.7457683319247463,
            "count": 1
           },
           {
            "bin_start": 0.7457683319247463,
            "bin_end": 0.8166481414622064,
            "count": 1
           }
          ]
         }
        },
        {
         "name": "WEST GATE FREEWAY",
         "dtype": "float64",
         "stats": {
          "unique_count": 9,
          "nan_count": 0,
          "min": "0.010342708180179521",
          "max": "0.7609277174101198",
          "histogram": [
           {
            "bin_start": 0.010342708180179521,
            "bin_end": 0.08540120910317353,
            "count": 2
           },
           {
            "bin_start": 0.08540120910317353,
            "bin_end": 0.16045971002616755,
            "count": 2
           },
           {
            "bin_start": 0.16045971002616755,
            "bin_end": 0.23551821094916156,
            "count": 0
           },
           {
            "bin_start": 0.23551821094916156,
            "bin_end": 0.3105767118721556,
            "count": 0
           },
           {
            "bin_start": 0.3105767118721556,
            "bin_end": 0.3856352127951496,
            "count": 2
           },
           {
            "bin_start": 0.3856352127951496,
            "bin_end": 0.4606937137181436,
            "count": 1
           },
           {
            "bin_start": 0.4606937137181436,
            "bin_end": 0.5357522146411376,
            "count": 0
           },
           {
            "bin_start": 0.5357522146411376,
            "bin_end": 0.6108107155641317,
            "count": 1
           },
           {
            "bin_start": 0.6108107155641317,
            "bin_end": 0.6858692164871257,
            "count": 0
           },
           {
            "bin_start": 0.6858692164871257,
            "bin_end": 0.7609277174101198,
            "count": 1
           }
          ]
         }
        },
        {
         "name": "WESTERN FREEWAY",
         "dtype": "float64",
         "stats": {
          "unique_count": 9,
          "nan_count": 0,
          "min": "0.14336767216006704",
          "max": "0.9955531652413524",
          "histogram": [
           {
            "bin_start": 0.14336767216006704,
            "bin_end": 0.22858622146819557,
            "count": 1
           },
           {
            "bin_start": 0.22858622146819557,
            "bin_end": 0.31380477077632407,
            "count": 1
           },
           {
            "bin_start": 0.31380477077632407,
            "bin_end": 0.3990233200844526,
            "count": 2
           },
           {
            "bin_start": 0.3990233200844526,
            "bin_end": 0.4842418693925812,
            "count": 0
           },
           {
            "bin_start": 0.4842418693925812,
            "bin_end": 0.5694604187007097,
            "count": 1
           },
           {
            "bin_start": 0.5694604187007097,
            "bin_end": 0.6546789680088382,
            "count": 1
           },
           {
            "bin_start": 0.6546789680088382,
            "bin_end": 0.7398975173169667,
            "count": 1
           },
           {
            "bin_start": 0.7398975173169667,
            "bin_end": 0.8251160666250953,
            "count": 0
           },
           {
            "bin_start": 0.8251160666250953,
            "bin_end": 0.9103346159332238,
            "count": 1
           },
           {
            "bin_start": 0.9103346159332238,
            "bin_end": 0.9955531652413524,
            "count": 1
           }
          ]
         }
        },
        {
         "name": "WESTERN LINK TOLLWAY",
         "dtype": "float64",
         "stats": {
          "unique_count": 9,
          "nan_count": 0,
          "min": "0.015766217825539802",
          "max": "0.7824250419969002",
          "histogram": [
           {
            "bin_start": 0.015766217825539802,
            "bin_end": 0.09243210024267584,
            "count": 1
           },
           {
            "bin_start": 0.09243210024267584,
            "bin_end": 0.16909798265981188,
            "count": 3
           },
           {
            "bin_start": 0.16909798265981188,
            "bin_end": 0.24576386507694792,
            "count": 0
           },
           {
            "bin_start": 0.24576386507694792,
            "bin_end": 0.32242974749408393,
            "count": 0
           },
           {
            "bin_start": 0.32242974749408393,
            "bin_end": 0.39909562991121994,
            "count": 2
           },
           {
            "bin_start": 0.39909562991121994,
            "bin_end": 0.47576151232835606,
            "count": 1
           },
           {
            "bin_start": 0.47576151232835606,
            "bin_end": 0.5524273947454921,
            "count": 0
           },
           {
            "bin_start": 0.5524273947454921,
            "bin_end": 0.6290932771626281,
            "count": 1
           },
           {
            "bin_start": 0.6290932771626281,
            "bin_end": 0.7057591595797641,
            "count": 0
           },
           {
            "bin_start": 0.7057591595797641,
            "bin_end": 0.7824250419969002,
            "count": 1
           }
          ]
         }
        },
        {
         "name": "WESTERN RING ROAD",
         "dtype": "float64",
         "stats": {
          "unique_count": 9,
          "nan_count": 0,
          "min": "0.07093828212158972",
          "max": "0.7648122620576897",
          "histogram": [
           {
            "bin_start": 0.07093828212158972,
            "bin_end": 0.14032568011519972,
            "count": 3
           },
           {
            "bin_start": 0.14032568011519972,
            "bin_end": 0.20971307810880974,
            "count": 0
           },
           {
            "bin_start": 0.20971307810880974,
            "bin_end": 0.2791004761024197,
            "count": 1
           },
           {
            "bin_start": 0.2791004761024197,
            "bin_end": 0.3484878740960297,
            "count": 0
           },
           {
            "bin_start": 0.3484878740960297,
            "bin_end": 0.4178752720896397,
            "count": 1
           },
           {
            "bin_start": 0.4178752720896397,
            "bin_end": 0.48726267008324975,
            "count": 1
           },
           {
            "bin_start": 0.48726267008324975,
            "bin_end": 0.5566500680768598,
            "count": 1
           },
           {
            "bin_start": 0.5566500680768598,
            "bin_end": 0.6260374660704697,
            "count": 0
           },
           {
            "bin_start": 0.6260374660704697,
            "bin_end": 0.6954248640640798,
            "count": 1
           },
           {
            "bin_start": 0.6954248640640798,
            "bin_end": 0.7648122620576897,
            "count": 1
           }
          ]
         }
        },
        {
         "name": "WHITE ROAD",
         "dtype": "float64",
         "stats": {
          "unique_count": 9,
          "nan_count": 0,
          "min": "0.4998948565791028",
          "max": "1.0584910573796213",
          "histogram": [
           {
            "bin_start": 0.4998948565791028,
            "bin_end": 0.5557544766591547,
            "count": 1
           },
           {
            "bin_start": 0.5557544766591547,
            "bin_end": 0.6116140967392065,
            "count": 1
           },
           {
            "bin_start": 0.6116140967392065,
            "bin_end": 0.6674737168192584,
            "count": 1
           },
           {
            "bin_start": 0.6674737168192584,
            "bin_end": 0.7233333368993102,
            "count": 0
           },
           {
            "bin_start": 0.7233333368993102,
            "bin_end": 0.7791929569793621,
            "count": 0
           },
           {
            "bin_start": 0.7791929569793621,
            "bin_end": 0.8350525770594139,
            "count": 1
           },
           {
            "bin_start": 0.8350525770594139,
            "bin_end": 0.8909121971394658,
            "count": 2
           },
           {
            "bin_start": 0.8909121971394658,
            "bin_end": 0.9467718172195176,
            "count": 0
           },
           {
            "bin_start": 0.9467718172195176,
            "bin_end": 1.0026314372995695,
            "count": 1
           },
           {
            "bin_start": 1.0026314372995695,
            "bin_end": 1.0584910573796213,
            "count": 2
           }
          ]
         }
        },
        {
         "name": "WONTHAGGI ROAD",
         "dtype": "float64",
         "stats": {
          "unique_count": 9,
          "nan_count": 0,
          "min": "0.5858974108583532",
          "max": "1.1983984302866164",
          "histogram": [
           {
            "bin_start": 0.5858974108583532,
            "bin_end": 0.6471475128011795,
            "count": 1
           },
           {
            "bin_start": 0.6471475128011795,
            "bin_end": 0.7083976147440059,
            "count": 1
           },
           {
            "bin_start": 0.7083976147440059,
            "bin_end": 0.7696477166868322,
            "count": 1
           },
           {
            "bin_start": 0.7696477166868322,
            "bin_end": 0.8308978186296585,
            "count": 0
           },
           {
            "bin_start": 0.8308978186296585,
            "bin_end": 0.8921479205724848,
            "count": 1
           },
           {
            "bin_start": 0.8921479205724848,
            "bin_end": 0.9533980225153111,
            "count": 1
           },
           {
            "bin_start": 0.9533980225153111,
            "bin_end": 1.0146481244581373,
            "count": 1
           },
           {
            "bin_start": 1.0146481244581373,
            "bin_end": 1.0758982264009638,
            "count": 0
           },
           {
            "bin_start": 1.0758982264009638,
            "bin_end": 1.1371483283437902,
            "count": 1
           },
           {
            "bin_start": 1.1371483283437902,
            "bin_end": 1.1983984302866164,
            "count": 2
           }
          ]
         }
        },
        {
         "name": "BURNLEY TUNNEL",
         "dtype": "float64",
         "stats": {
          "unique_count": 9,
          "nan_count": 0,
          "min": "0.025251843419377605",
          "max": "0.7407256696780488",
          "histogram": [
           {
            "bin_start": 0.025251843419377605,
            "bin_end": 0.09679922604524471,
            "count": 2
           },
           {
            "bin_start": 0.09679922604524471,
            "bin_end": 0.16834660867111184,
            "count": 1
           },
           {
            "bin_start": 0.16834660867111184,
            "bin_end": 0.23989399129697894,
            "count": 1
           },
           {
            "bin_start": 0.23989399129697894,
            "bin_end": 0.31144137392284604,
            "count": 0
           },
           {
            "bin_start": 0.31144137392284604,
            "bin_end": 0.38298875654871317,
            "count": 2
           },
           {
            "bin_start": 0.38298875654871317,
            "bin_end": 0.45453613917458024,
            "count": 1
           },
           {
            "bin_start": 0.45453613917458024,
            "bin_end": 0.5260835218004474,
            "count": 0
           },
           {
            "bin_start": 0.5260835218004474,
            "bin_end": 0.5976309044263145,
            "count": 1
           },
           {
            "bin_start": 0.5976309044263145,
            "bin_end": 0.6691782870521816,
            "count": 0
           },
           {
            "bin_start": 0.6691782870521816,
            "bin_end": 0.7407256696780488,
            "count": 1
           }
          ]
         }
        },
        {
         "name": "SOUTHERN LINK TOLLWAY",
         "dtype": "float64",
         "stats": {
          "unique_count": 9,
          "nan_count": 0,
          "min": "0.02294922758603424",
          "max": "0.6889345771348125",
          "histogram": [
           {
            "bin_start": 0.02294922758603424,
            "bin_end": 0.08954776254091207,
            "count": 2
           },
           {
            "bin_start": 0.08954776254091207,
            "bin_end": 0.1561462974957899,
            "count": 1
           },
           {
            "bin_start": 0.1561462974957899,
            "bin_end": 0.22274483245066773,
            "count": 1
           },
           {
            "bin_start": 0.22274483245066773,
            "bin_end": 0.28934336740554556,
            "count": 1
           },
           {
            "bin_start": 0.28934336740554556,
            "bin_end": 0.3559419023604234,
            "count": 1
           },
           {
            "bin_start": 0.3559419023604234,
            "bin_end": 0.4225404373153012,
            "count": 1
           },
           {
            "bin_start": 0.4225404373153012,
            "bin_end": 0.48913897227017905,
            "count": 0
           },
           {
            "bin_start": 0.48913897227017905,
            "bin_end": 0.5557375072250569,
            "count": 1
           },
           {
            "bin_start": 0.5557375072250569,
            "bin_end": 0.6223360421799348,
            "count": 0
           },
           {
            "bin_start": 0.6223360421799348,
            "bin_end": 0.6889345771348125,
            "count": 1
           }
          ]
         }
        },
        {
         "name": "_deepnote_index_column",
         "dtype": "int64"
        }
       ],
       "rows_top": [
        {
         "ANDERSON LINK ROAD": 0.731701177574944,
         "BALLARAT ROAD": 0.16574264989712092,
         "BASS HIGHWAY": 0.6385105145074309,
         "BAXTER-TOORADIN ROAD": 0.42568272057425194,
         "CALDER FREEWAY": 0.21465681871945477,
         "DEER PARK BYPASS": 0.26301611817373416,
         "EASTERN FREEWAY": 0.1108433165985197,
         "EASTLINK": 0.16799738688153779,
         "GEELONG RING ROAD": 0.6580083115561458,
         "GEELONG ROAD": 0.19334535023004662,
         "GRAHAM STREET": 0.8958837459640797,
         "HUME FREEWAY": 0.2189356898863999,
         "MALMSBURY BYPASS": 0.9484453453330977,
         "MCCARTIN STREET": 1.0698634751842058,
         "MCKENZIE STREET": 0.8856377993452641,
         "METROPOLITAN RING ROAD": 0.21387530934594123,
         "MONASH FREEWAY": 0.037572947547338274,
         "MORNINGTON PENINSULA ROUTE": 0.22149960542421884,
         "PHILLIP ISLAND ROAD": 0.7451852710787501,
         "PRINCES FREEWAY": 0.17267588046549337,
         "PRINCES FREEWAY.1": 0.2296343648805106,
         "RACECOURSE ROAD": 0.15210374566905097,
         "SMITHFIELD ROAD": 0.16168064181583472,
         "OUTH GIPPSLAND HIGHWAY": 0.23230126481007554,
         "SOUTH GIPPSLAND HIGHWAY": 0.22469447083384325,
         "SPRINGVALE ROAD": 0.1686115584534968,
         "STRZELECKI HIGHWAY": 1.0720870908202407,
         "TULLAMARINE FREEWAY": 0.21418861481147278,
         "WEST GATE FREEWAY": 0.10639811840889515,
         "WESTERN FREEWAY": 0.34847963349475747,
         "WESTERN LINK TOLLWAY": 0.13265319868421863,
         "WESTERN RING ROAD": 0.22476309379987733,
         "WHITE ROAD": 0.8642244761003973,
         "WONTHAGGI ROAD": 0.9928629305496098,
         "BURNLEY TUNNEL": 0.09363490261995876,
         "SOUTHERN LINK TOLLWAY": 0.06284100306998798,
         "_deepnote_index_column": 1
        },
        {
         "ANDERSON LINK ROAD": 0.41789582674264736,
         "BALLARAT ROAD": 0.6459483121195572,
         "BASS HIGHWAY": 0.2107138296733409,
         "BAXTER-TOORADIN ROAD": 0.1735293272736575,
         "CALDER FREEWAY": 0.6828984010174033,
         "DEER PARK BYPASS": 0.748769724073269,
         "EASTERN FREEWAY": 0.4213578103341641,
         "EASTLINK": 0.3043478845141129,
         "GEELONG RING ROAD": 1.0899097407811444,
         "GEELONG ROAD": 0.6785403229181192,
         "GRAHAM STREET": 0.5282244777640631,
         "HUME FREEWAY": 0.6421169176546953,
         "MALMSBURY BYPASS": 1.4029420999063977,
         "MCCARTIN STREET": 0.5981016475548986,
         "MCKENZIE STREET": 0.516581977353523,
         "METROPOLITAN RING ROAD": 0.5583664020944351,
         "MONASH FREEWAY": 0.173088946423362,
         "MORNINGTON PENINSULA ROUTE": 0.3179644081505417,
         "PHILLIP ISLAND ROAD": 0.43993470682777824,
         "PRINCES FREEWAY": 0.0036009905382882847,
         "PRINCES FREEWAY.1": 0.7151797120008473,
         "RACECOURSE ROAD": 0.6269112189260632,
         "SMITHFIELD ROAD": 0.6385302989639794,
         "OUTH GIPPSLAND HIGHWAY": 0.12747566321041442,
         "SOUTH GIPPSLAND HIGHWAY": 0.12480452136955464,
         "SPRINGVALE ROAD": 0.4209874388000518,
         "STRZELECKI HIGHWAY": 0.5979649796524397,
         "TULLAMARINE FREEWAY": 0.6822100110466482,
         "WEST GATE FREEWAY": 0.5859632015660052,
         "WESTERN FREEWAY": 0.8339869712887777,
         "WESTERN LINK TOLLWAY": 0.6162580772401427,
         "WESTERN RING ROAD": 0.6617982325450165,
         "WHITE ROAD": 0.4998948565791028,
         "WONTHAGGI ROAD": 0.5858974108583532,
         "BURNLEY TUNNEL": 0.5682974945915311,
         "SOUTHERN LINK TOLLWAY": 0.5152958336636652,
         "_deepnote_index_column": 2
        },
        {
         "ANDERSON LINK ROAD": 0.9171263311781764,
         "BALLARAT ROAD": 0.15721134052503527,
         "BASS HIGHWAY": 0.87019698697234,
         "BAXTER-TOORADIN ROAD": 0.6513160354380291,
         "CALDER FREEWAY": 0.17540852491717662,
         "DEER PARK BYPASS": 0.08652916000684967,
         "EASTERN FREEWAY": 0.2358484557010171,
         "EASTLINK": 0.4102124993460406,
         "GEELONG RING ROAD": 0.4110515364115422,
         "GEELONG ROAD": 0.07820344070932071,
         "GRAHAM STREET": 1.0895100069085588,
         "HUME FREEWAY": 0.28708493714620825,
         "MALMSBURY BYPASS": 0.7823798103042499,
         "MCCARTIN STREET": 1.3066367617490524,
         "MCKENZIE STREET": 1.080444555803428,
         "METROPOLITAN RING ROAD": 0.26630852405478866,
         "MONASH FREEWAY": 0.2660861205025697,
         "MORNINGTON PENINSULA ROUTE": 0.4292787758192644,
         "PHILLIP ISLAND ROAD": 0.9270542127465377,
         "PRINCES FREEWAY": 0.018568371106956503,
         "PRINCES FREEWAY.1": 0.07518838037114794,
         "RACECOURSE ROAD": 0.17855375127191261,
         "SMITHFIELD ROAD": 0.16422085944499976,
         "OUTH GIPPSLAND HIGHWAY": 0.48977959038012026,
         "SOUTH GIPPSLAND HIGHWAY": 0.47543164594031867,
         "SPRINGVALE ROAD": 0.4102124993460406,
         "STRZELECKI HIGHWAY": 1.3106602644150536,
         "TULLAMARINE FREEWAY": 0.18986585137394257,
         "WEST GATE FREEWAY": 0.06854170333122317,
         "WESTERN FREEWAY": 0.14336767216006704,
         "WESTERN LINK TOLLWAY": 0.1655691902829782,
         "WESTERN RING ROAD": 0.07093828212158972,
         "WHITE ROAD": 1.0584910573796213,
         "WONTHAGGI ROAD": 1.1983984302866164,
         "BURNLEY TUNNEL": 0.19935292752414147,
         "SOUTHERN LINK TOLLWAY": 0.19703600325469264,
         "_deepnote_index_column": 3
        },
        {
         "ANDERSON LINK ROAD": 0.8411766872562306,
         "BALLARAT ROAD": 0.050975132703805145,
         "BASS HIGHWAY": 0.755214099836309,
         "BAXTER-TOORADIN ROAD": 0.5413550352707204,
         "CALDER FREEWAY": 0.10806262887981594,
         "DEER PARK BYPASS": 0.15009401362689337,
         "EASTERN FREEWAY": 0.065264694795095,
         "EASTLINK": 0.23711319401191677,
         "GEELONG RING ROAD": 0.5843586603327217,
         "GEELONG ROAD": 0.07802941436773028,
         "GRAHAM STREET": 1.0076922376870603,
         "HUME FREEWAY": 0.15289941221302308,
         "MALMSBURY BYPASS": 0.8355793898276873,
         "MCCARTIN STREET": 1.1867748431055443,
         "MCKENZIE STREET": 0.9976512734002638,
         "METROPOLITAN RING ROAD": 0.14521361273936365,
         "MONASH FREEWAY": 0.09480310265680551,
         "MORNINGTON PENINSULA ROUTE": 0.330685412457405,
         "PHILLIP ISLAND ROAD": 0.8539034137612865,
         "PRINCES FREEWAY": 0.05674676604279715,
         "PRINCES FREEWAY.1": 0.1196939881713748,
         "RACECOURSE ROAD": 0.04765109989464972,
         "SMITHFIELD ROAD": 0.05061501891404029,
         "OUTH GIPPSLAND HIGHWAY": 0.3477606019527494,
         "SOUTH GIPPSLAND HIGHWAY": 0.3415206454163055,
         "SPRINGVALE ROAD": 0.23711319401191677,
         "STRZELECKI HIGHWAY": 1.1889561768188497,
         "TULLAMARINE FREEWAY": 0.1078500460876057,
         "WEST GATE FREEWAY": 0.010342708180179521,
         "WESTERN FREEWAY": 0.23340730400783646,
         "WESTERN LINK TOLLWAY": 0.015766217825539802,
         "WESTERN RING ROAD": 0.131423823114681,
         "WHITE ROAD": 0.9760732249243251,
         "WONTHAGGI ROAD": 1.1070030892465412,
         "BURNLEY TUNNEL": 0.025251843419377605,
         "SOUTHERN LINK TOLLWAY": 0.02294922758603424,
         "_deepnote_index_column": 4
        },
        {
         "ANDERSON LINK ROAD": 0.46398734468524033,
         "BALLARAT ROAD": 0.4942381849210319,
         "BASS HIGHWAY": 0.3168093230019573,
         "BAXTER-TOORADIN ROAD": 0.1365784770444431,
         "CALDER FREEWAY": 0.5355879650892378,
         "DEER PARK BYPASS": 0.5930530040599563,
         "EASTERN FREEWAY": 0.29705290048463995,
         "EASTLINK": 0.1445126369733092,
         "GEELONG RING ROAD": 0.9323822616082107,
         "GEELONG ROAD": 0.5241018846353802,
         "GRAHAM STREET": 0.6075420131606124,
         "HUME FREEWAY": 0.505573940711235,
         "MALMSBURY BYPASS": 1.2646863870216514,
         "MCCARTIN STREET": 0.7407308020268746,
         "MCKENZIE STREET": 0.5963326496909361,
         "METROPOLITAN RING ROAD": 0.43496482005977927,
         "MONASH FREEWAY": 0.026408464785081177,
         "MORNINGTON PENINSULA ROUTE": 0.17185919534060942,
         "PHILLIP ISLAND ROAD": 0.48224970085048485,
         "PRINCES FREEWAY": 0.01573550396350065,
         "PRINCES FREEWAY.1": 0.5588861785964564,
         "RACECOURSE ROAD": 0.47690310747226144,
         "SMITHFIELD ROAD": 0.48798800273117215,
         "OUTH GIPPSLAND HIGHWAY": 0.08718206170250985,
         "SOUTH GIPPSLAND HIGHWAY": 0.060553726379823127,
         "SPRINGVALE ROAD": 0.2965814991213602,
         "STRZELECKI HIGHWAY": 0.7423465476689091,
         "TULLAMARINE FREEWAY": 0.534958712826466,
         "WEST GATE FREEWAY": 0.4340040098124179,
         "WESTERN FREEWAY": 0.6790425753275079,
         "WESTERN LINK TOLLWAY": 0.46288378228191857,
         "WESTERN RING ROAD": 0.5225078553859188,
         "WHITE ROAD": 0.5765697827938764,
         "WONTHAGGI ROAD": 0.6880790303538252,
         "BURNLEY TUNNEL": 0.41745247463686413,
         "SOUTHERN LINK TOLLWAY": 0.3665912640564933,
         "_deepnote_index_column": 5
        },
        {
         "ANDERSON LINK ROAD": 0.8981884834904375,
         "BALLARAT ROAD": 0.16767124659614643,
         "BASS HIGHWAY": 0.7685783711924236,
         "BAXTER-TOORADIN ROAD": 0.5743765639592585,
         "CALDER FREEWAY": 0.15233387119133446,
         "DEER PARK BYPASS": 0.2734439836510305,
         "EASTERN FREEWAY": 0.08249808367552885,
         "EASTLINK": 0.16190920345741155,
         "GEELONG RING ROAD": 0.7401373015543984,
         "GEELONG ROAD": 0.21325269607178707,
         "GRAHAM STREET": 1.0535974805479844,
         "HUME FREEWAY": 0.06812113586507679,
         "MALMSBURY BYPASS": 0.8208965122093133,
         "MCCARTIN STREET": 1.1807854873976218,
         "MCKENZIE STREET": 1.0427312623891682,
         "METROPOLITAN RING ROAD": 0.015272654361394045,
         "MONASH FREEWAY": 0.1373346856715493,
         "MORNINGTON PENINSULA ROUTE": 0.4030378781923537,
         "PHILLIP ISLAND ROAD": 0.9135118666990915,
         "PRINCES FREEWAY": 0.17480841071306258,
         "PRINCES FREEWAY.1": 0.258915368316717,
         "RACECOURSE ROAD": 0.1438701380162744,
         "SMITHFIELD ROAD": 0.15334331833727755,
         "OUTH GIPPSLAND HIGHWAY": 0.3526605485838235,
         "SOUTH GIPPSLAND HIGHWAY": 0.3629732954825276,
         "SPRINGVALE ROAD": 0.16156439042700368,
         "STRZELECKI HIGHWAY": 1.180482276792273,
         "TULLAMARINE FREEWAY": 0.15146280265843437,
         "WEST GATE FREEWAY": 0.15308824280628555,
         "WESTERN FREEWAY": 0.3304805310551794,
         "WESTERN LINK TOLLWAY": 0.12594725918383184,
         "WESTERN RING ROAD": 0.09428094353492478,
         "WHITE ROAD": 1.0221311323626512,
         "WONTHAGGI ROAD": 1.1397162860520103,
         "BURNLEY TUNNEL": 0.14168877247332826,
         "SOUTHERN LINK TOLLWAY": 0.13330509004344246,
         "_deepnote_index_column": 6
        },
        {
         "ANDERSON LINK ROAD": 0.7995951759516692,
         "BALLARAT ROAD": 0.8094174791089084,
         "BASS HIGHWAY": 0.5680035301997756,
         "BAXTER-TOORADIN ROAD": 0.5773061014038137,
         "CALDER FREEWAY": 0.8175148637031142,
         "DEER PARK BYPASS": 0.9252075209344853,
         "EASTERN FREEWAY": 0.545730617883242,
         "EASTLINK": 0.5089325891852579,
         "GEELONG RING ROAD": 1.3553749235618051,
         "GEELONG ROAD": 0.8541130422740887,
         "GRAHAM STREET": 0.8630284306181272,
         "HUME FREEWAY": 0.7370362570049931,
         "MALMSBURY BYPASS": 1.4276511327317827,
         "MCCARTIN STREET": 0.7597617232830842,
         "MCKENZIE STREET": 0.8537571910435802,
         "METROPOLITAN RING ROAD": 0.6304330351944105,
         "MONASH FREEWAY": 0.4861857073547162,
         "MORNINGTON PENINSULA ROUTE": 0.6625372279394449,
         "PHILLIP ISLAND ROAD": 0.8227884735544524,
         "PRINCES FREEWAY": 0.32460252359520847,
         "PRINCES FREEWAY.1": 0.9001424705235727,
         "RACECOURSE ROAD": 0.7843453636826775,
         "SMITHFIELD ROAD": 0.7968029043274814,
         "OUTH GIPPSLAND HIGHWAY": 0.5143803600910068,
         "SOUTH GIPPSLAND HIGHWAY": 0.5157750288314328,
         "SPRINGVALE ROAD": 0.545730617883242,
         "STRZELECKI HIGHWAY": 0.7363086134634348,
         "TULLAMARINE FREEWAY": 0.8166481414622064,
         "WEST GATE FREEWAY": 0.7609277174101198,
         "WESTERN FREEWAY": 0.9955531652413524,
         "WESTERN LINK TOLLWAY": 0.7824250419969002,
         "WESTERN RING ROAD": 0.7648122620576897,
         "WHITE ROAD": 0.8429885254144778,
         "WONTHAGGI ROAD": 0.8746557121249442,
         "BURNLEY TUNNEL": 0.7407256696780488,
         "SOUTHERN LINK TOLLWAY": 0.6889345771348125,
         "_deepnote_index_column": 7
        },
        {
         "ANDERSON LINK ROAD": 0.4843623144632521,
         "BALLARAT ROAD": 0.4159715746173136,
         "BASS HIGHWAY": 0.45272066675612666,
         "BAXTER-TOORADIN ROAD": 0.2398387202315262,
         "CALDER FREEWAY": 0.47304836673351996,
         "DEER PARK BYPASS": 0.47823495963335966,
         "EASTERN FREEWAY": 0.3611423724957451,
         "EASTLINK": 0.07833202130870087,
         "GEELONG RING ROAD": 0.7217471417156656,
         "GEELONG ROAD": 0.4254319346681763,
         "GRAHAM STREET": 0.6557536652588286,
         "HUME FREEWAY": 0.4875847725864764,
         "MALMSBURY BYPASS": 1.1951224566248209,
         "MCCARTIN STREET": 0.8863451382299173,
         "MCKENZIE STREET": 0.6465188761726905,
         "METROPOLITAN RING ROAD": 0.4665259252106429,
         "MONASH FREEWAY": 0.22080786277407385,
         "MORNINGTON PENINSULA ROUTE": 0.04921610221514959,
         "PHILLIP ISLAND ROAD": 0.4953083504670587,
         "PRINCES FREEWAY": 0.24765005285741382,
         "PRINCES FREEWAY.1": 0.4429992005771611,
         "RACECOURSE ROAD": 0.41027373950473456,
         "SMITHFIELD ROAD": 0.4158424086925266,
         "OUTH GIPPSLAND HIGHWAY": 0.18262767431982305,
         "SOUTH GIPPSLAND HIGHWAY": 0.17628384715594564,
         "SPRINGVALE ROAD": 0.3618997847768271,
         "STRZELECKI HIGHWAY": 0.8918470816531281,
         "TULLAMARINE FREEWAY": 0.47276169624284026,
         "WEST GATE FREEWAY": 0.3646677745739019,
         "WESTERN FREEWAY": 0.5627867677731928,
         "WESTERN LINK TOLLWAY": 0.379903632433595,
         "WESTERN RING ROAD": 0.4502901528328952,
         "WHITE ROAD": 0.6245900686616785,
         "WONTHAGGI ROAD": 0.7641896852358776,
         "BURNLEY TUNNEL": 0.35764640921452134,
         "SOUTHERN LINK TOLLWAY": 0.3301114859687384,
         "_deepnote_index_column": 8
        },
        {
         "ANDERSON LINK ROAD": 0.715673166981116,
         "BALLARAT ROAD": 0.4056623322268852,
         "BASS HIGHWAY": 0.5389292279236796,
         "BAXTER-TOORADIN ROAD": 0.39189087970395037,
         "CALDER FREEWAY": 0.4201271386640071,
         "DEER PARK BYPASS": 0.5212683900984068,
         "EASTERN FREEWAY": 0.14057130115587352,
         "EASTLINK": 0.10303136048195428,
         "GEELONG RING ROAD": 0.9520733992705956,
         "GEELONG ROAD": 0.44945438270242277,
         "GRAHAM STREET": 0.8492678546300193,
         "HUME FREEWAY": 0.3518243911443841,
         "MALMSBURY BYPASS": 1.0958300566193326,
         "MCCARTIN STREET": 0.919859530184734,
         "MCKENZIE STREET": 0.8377653306337978,
         "METROPOLITAN RING ROAD": 0.2500525497168354,
         "MONASH FREEWAY": 0.18231303782061484,
         "MORNINGTON PENINSULA ROUTE": 0.33430176687571994,
         "PHILLIP ISLAND ROAD": 0.7349158775179261,
         "PRINCES FREEWAY": 0.2298827937903814,
         "PRINCES FREEWAY.1": 0.4950222993192392,
         "RACECOURSE ROAD": 0.38105356767334103,
         "SMITHFIELD ROAD": 0.3936209715399066,
         "OUTH GIPPSLAND HIGHWAY": 0.19899292424227458,
         "SOUTH GIPPSLAND HIGHWAY": 0.23079248131976182,
         "SPRINGVALE ROAD": 0.14057130115587352,
         "STRZELECKI HIGHWAY": 0.9179187661490759,
         "TULLAMARINE FREEWAY": 0.41928648646052574,
         "WEST GATE FREEWAY": 0.3553408809548984,
         "WESTERN FREEWAY": 0.5951389484947287,
         "WESTERN LINK TOLLWAY": 0.3795514169471298,
         "WESTERN RING ROAD": 0.3765435914621917,
         "WHITE ROAD": 0.8192692998875547,
         "WONTHAGGI ROAD": 0.9165110776425954,
         "BURNLEY TUNNEL": 0.3351095221937738,
         "SOUTHERN LINK TOLLWAY": 0.2830219725278131,
         "_deepnote_index_column": 9
        }
       ],
       "rows_bottom": null
      },
      "text/plain": "    ANDERSON LINK ROAD  BALLARAT ROAD  BASS HIGHWAY  BAXTER-TOORADIN ROAD  \\\nId                                                                          \n1             0.731701       0.165743      0.638511              0.425683   \n2             0.417896       0.645948      0.210714              0.173529   \n3             0.917126       0.157211      0.870197              0.651316   \n4             0.841177       0.050975      0.755214              0.541355   \n5             0.463987       0.494238      0.316809              0.136578   \n6             0.898188       0.167671      0.768578              0.574377   \n7             0.799595       0.809417      0.568004              0.577306   \n8             0.484362       0.415972      0.452721              0.239839   \n9             0.715673       0.405662      0.538929              0.391891   \n\n    CALDER FREEWAY  DEER PARK BYPASS  EASTERN FREEWAY  EASTLINK  \\\nId                                                                \n1         0.214657          0.263016         0.110843  0.167997   \n2         0.682898          0.748770         0.421358  0.304348   \n3         0.175409          0.086529         0.235848  0.410212   \n4         0.108063          0.150094         0.065265  0.237113   \n5         0.535588          0.593053         0.297053  0.144513   \n6         0.152334          0.273444         0.082498  0.161909   \n7         0.817515          0.925208         0.545731  0.508933   \n8         0.473048          0.478235         0.361142  0.078332   \n9         0.420127          0.521268         0.140571  0.103031   \n\n    GEELONG RING ROAD  GEELONG ROAD  ...  STRZELECKI HIGHWAY  \\\nId                                   ...                       \n1            0.658008      0.193345  ...            1.072087   \n2            1.089910      0.678540  ...            0.597965   \n3            0.411052      0.078203  ...            1.310660   \n4            0.584359      0.078029  ...            1.188956   \n5            0.932382      0.524102  ...            0.742347   \n6            0.740137      0.213253  ...            1.180482   \n7            1.355375      0.854113  ...            0.736309   \n8            0.721747      0.425432  ...            0.891847   \n9            0.952073      0.449454  ...            0.917919   \n\n    TULLAMARINE FREEWAY  WEST GATE FREEWAY  WESTERN FREEWAY  \\\nId                                                            \n1              0.214189           0.106398         0.348480   \n2              0.682210           0.585963         0.833987   \n3              0.189866           0.068542         0.143368   \n4              0.107850           0.010343         0.233407   \n5              0.534959           0.434004         0.679043   \n6              0.151463           0.153088         0.330481   \n7              0.816648           0.760928         0.995553   \n8              0.472762           0.364668         0.562787   \n9              0.419286           0.355341         0.595139   \n\n    WESTERN LINK TOLLWAY  WESTERN RING ROAD  WHITE ROAD  WONTHAGGI ROAD  \\\nId                                                                        \n1               0.132653           0.224763    0.864224        0.992863   \n2               0.616258           0.661798    0.499895        0.585897   \n3               0.165569           0.070938    1.058491        1.198398   \n4               0.015766           0.131424    0.976073        1.107003   \n5               0.462884           0.522508    0.576570        0.688079   \n6               0.125947           0.094281    1.022131        1.139716   \n7               0.782425           0.764812    0.842989        0.874656   \n8               0.379904           0.450290    0.624590        0.764190   \n9               0.379551           0.376544    0.819269        0.916511   \n\n    BURNLEY TUNNEL  SOUTHERN LINK TOLLWAY  \nId                                         \n1         0.093635               0.062841  \n2         0.568297               0.515296  \n3         0.199353               0.197036  \n4         0.025252               0.022949  \n5         0.417452               0.366591  \n6         0.141689               0.133305  \n7         0.740726               0.688935  \n8         0.357646               0.330111  \n9         0.335110               0.283022  \n\n[9 rows x 36 columns]",
      "text/html": "<div>\n<style scoped>\n    .dataframe tbody tr th:only-of-type {\n        vertical-align: middle;\n    }\n\n    .dataframe tbody tr th {\n        vertical-align: top;\n    }\n\n    .dataframe thead th {\n        text-align: right;\n    }\n</style>\n<table border=\"1\" class=\"dataframe\">\n  <thead>\n    <tr style=\"text-align: right;\">\n      <th></th>\n      <th>ANDERSON LINK ROAD</th>\n      <th>BALLARAT ROAD</th>\n      <th>BASS HIGHWAY</th>\n      <th>BAXTER-TOORADIN ROAD</th>\n      <th>CALDER FREEWAY</th>\n      <th>DEER PARK BYPASS</th>\n      <th>EASTERN FREEWAY</th>\n      <th>EASTLINK</th>\n      <th>GEELONG RING ROAD</th>\n      <th>GEELONG ROAD</th>\n      <th>...</th>\n      <th>STRZELECKI HIGHWAY</th>\n      <th>TULLAMARINE FREEWAY</th>\n      <th>WEST GATE FREEWAY</th>\n      <th>WESTERN FREEWAY</th>\n      <th>WESTERN LINK TOLLWAY</th>\n      <th>WESTERN RING ROAD</th>\n      <th>WHITE ROAD</th>\n      <th>WONTHAGGI ROAD</th>\n      <th>BURNLEY TUNNEL</th>\n      <th>SOUTHERN LINK TOLLWAY</th>\n    </tr>\n    <tr>\n      <th>Id</th>\n      <th></th>\n      <th></th>\n      <th></th>\n      <th></th>\n      <th></th>\n      <th></th>\n      <th></th>\n      <th></th>\n      <th></th>\n      <th></th>\n      <th></th>\n      <th></th>\n      <th></th>\n      <th></th>\n      <th></th>\n      <th></th>\n      <th></th>\n      <th></th>\n      <th></th>\n      <th></th>\n      <th></th>\n    </tr>\n  </thead>\n  <tbody>\n    <tr>\n      <th>1</th>\n      <td>0.731701</td>\n      <td>0.165743</td>\n      <td>0.638511</td>\n      <td>0.425683</td>\n      <td>0.214657</td>\n      <td>0.263016</td>\n      <td>0.110843</td>\n      <td>0.167997</td>\n      <td>0.658008</td>\n      <td>0.193345</td>\n      <td>...</td>\n      <td>1.072087</td>\n      <td>0.214189</td>\n      <td>0.106398</td>\n      <td>0.348480</td>\n      <td>0.132653</td>\n      <td>0.224763</td>\n      <td>0.864224</td>\n      <td>0.992863</td>\n      <td>0.093635</td>\n      <td>0.062841</td>\n    </tr>\n    <tr>\n      <th>2</th>\n      <td>0.417896</td>\n      <td>0.645948</td>\n      <td>0.210714</td>\n      <td>0.173529</td>\n      <td>0.682898</td>\n      <td>0.748770</td>\n      <td>0.421358</td>\n      <td>0.304348</td>\n      <td>1.089910</td>\n      <td>0.678540</td>\n      <td>...</td>\n      <td>0.597965</td>\n      <td>0.682210</td>\n      <td>0.585963</td>\n      <td>0.833987</td>\n      <td>0.616258</td>\n      <td>0.661798</td>\n      <td>0.499895</td>\n      <td>0.585897</td>\n      <td>0.568297</td>\n      <td>0.515296</td>\n    </tr>\n    <tr>\n      <th>3</th>\n      <td>0.917126</td>\n      <td>0.157211</td>\n      <td>0.870197</td>\n      <td>0.651316</td>\n      <td>0.175409</td>\n      <td>0.086529</td>\n      <td>0.235848</td>\n      <td>0.410212</td>\n      <td>0.411052</td>\n      <td>0.078203</td>\n      <td>...</td>\n      <td>1.310660</td>\n      <td>0.189866</td>\n      <td>0.068542</td>\n      <td>0.143368</td>\n      <td>0.165569</td>\n      <td>0.070938</td>\n      <td>1.058491</td>\n      <td>1.198398</td>\n      <td>0.199353</td>\n      <td>0.197036</td>\n    </tr>\n    <tr>\n      <th>4</th>\n      <td>0.841177</td>\n      <td>0.050975</td>\n      <td>0.755214</td>\n      <td>0.541355</td>\n      <td>0.108063</td>\n      <td>0.150094</td>\n      <td>0.065265</td>\n      <td>0.237113</td>\n      <td>0.584359</td>\n      <td>0.078029</td>\n      <td>...</td>\n      <td>1.188956</td>\n      <td>0.107850</td>\n      <td>0.010343</td>\n      <td>0.233407</td>\n      <td>0.015766</td>\n      <td>0.131424</td>\n      <td>0.976073</td>\n      <td>1.107003</td>\n      <td>0.025252</td>\n      <td>0.022949</td>\n    </tr>\n    <tr>\n      <th>5</th>\n      <td>0.463987</td>\n      <td>0.494238</td>\n      <td>0.316809</td>\n      <td>0.136578</td>\n      <td>0.535588</td>\n      <td>0.593053</td>\n      <td>0.297053</td>\n      <td>0.144513</td>\n      <td>0.932382</td>\n      <td>0.524102</td>\n      <td>...</td>\n      <td>0.742347</td>\n      <td>0.534959</td>\n      <td>0.434004</td>\n      <td>0.679043</td>\n      <td>0.462884</td>\n      <td>0.522508</td>\n      <td>0.576570</td>\n      <td>0.688079</td>\n      <td>0.417452</td>\n      <td>0.366591</td>\n    </tr>\n    <tr>\n      <th>6</th>\n      <td>0.898188</td>\n      <td>0.167671</td>\n      <td>0.768578</td>\n      <td>0.574377</td>\n      <td>0.152334</td>\n      <td>0.273444</td>\n      <td>0.082498</td>\n      <td>0.161909</td>\n      <td>0.740137</td>\n      <td>0.213253</td>\n      <td>...</td>\n      <td>1.180482</td>\n      <td>0.151463</td>\n      <td>0.153088</td>\n      <td>0.330481</td>\n      <td>0.125947</td>\n      <td>0.094281</td>\n      <td>1.022131</td>\n      <td>1.139716</td>\n      <td>0.141689</td>\n      <td>0.133305</td>\n    </tr>\n    <tr>\n      <th>7</th>\n      <td>0.799595</td>\n      <td>0.809417</td>\n      <td>0.568004</td>\n      <td>0.577306</td>\n      <td>0.817515</td>\n      <td>0.925208</td>\n      <td>0.545731</td>\n      <td>0.508933</td>\n      <td>1.355375</td>\n      <td>0.854113</td>\n      <td>...</td>\n      <td>0.736309</td>\n      <td>0.816648</td>\n      <td>0.760928</td>\n      <td>0.995553</td>\n      <td>0.782425</td>\n      <td>0.764812</td>\n      <td>0.842989</td>\n      <td>0.874656</td>\n      <td>0.740726</td>\n      <td>0.688935</td>\n    </tr>\n    <tr>\n      <th>8</th>\n      <td>0.484362</td>\n      <td>0.415972</td>\n      <td>0.452721</td>\n      <td>0.239839</td>\n      <td>0.473048</td>\n      <td>0.478235</td>\n      <td>0.361142</td>\n      <td>0.078332</td>\n      <td>0.721747</td>\n      <td>0.425432</td>\n      <td>...</td>\n      <td>0.891847</td>\n      <td>0.472762</td>\n      <td>0.364668</td>\n      <td>0.562787</td>\n      <td>0.379904</td>\n      <td>0.450290</td>\n      <td>0.624590</td>\n      <td>0.764190</td>\n      <td>0.357646</td>\n      <td>0.330111</td>\n    </tr>\n    <tr>\n      <th>9</th>\n      <td>0.715673</td>\n      <td>0.405662</td>\n      <td>0.538929</td>\n      <td>0.391891</td>\n      <td>0.420127</td>\n      <td>0.521268</td>\n      <td>0.140571</td>\n      <td>0.103031</td>\n      <td>0.952073</td>\n      <td>0.449454</td>\n      <td>...</td>\n      <td>0.917919</td>\n      <td>0.419286</td>\n      <td>0.355341</td>\n      <td>0.595139</td>\n      <td>0.379551</td>\n      <td>0.376544</td>\n      <td>0.819269</td>\n      <td>0.916511</td>\n      <td>0.335110</td>\n      <td>0.283022</td>\n    </tr>\n  </tbody>\n</table>\n<p>9 rows × 36 columns</p>\n</div>"
     },
     "metadata": {}
    }
   ]
  },
  {
   "cell_type": "code",
   "metadata": {
    "tags": [],
    "cell_id": "00002-d8361651-48aa-4aea-97ca-1cf13404f4ec",
    "deepnote_to_be_reexecuted": false,
    "source_hash": "7b516e1",
    "execution_start": 1620515941668,
    "execution_millis": 31802,
    "deepnote_cell_type": "code"
   },
   "source": "mp = statesig.geometry\ngeometry = [Point(xy) for xy in zip(df[\"long\"],df[\"Lat\"])]\ngeo_df = gpd.GeoDataFrame(df,geometry=geometry)\nseries = geo_df.apply(lambda row: dist(row.geometry, mp), axis = 1)\n",
   "execution_count": null,
   "outputs": [
    {
     "name": "stderr",
     "text": "/shared-libs/python3.7/py-core/lib/python3.7/site-packages/ipykernel_launcher.py:2: UserWarning: Geometry is in a geographic CRS. Results from 'distance' are likely incorrect. Use 'GeoSeries.to_crs()' to re-project geometries to a projected CRS before this operation.\n\n  \n",
     "output_type": "stream"
    },
    {
     "output_type": "error",
     "ename": "KeyboardInterrupt",
     "evalue": "",
     "traceback": [
      "\u001b[0;31m---------------------------------------------------------------------------\u001b[0m",
      "\u001b[0;31mKeyboardInterrupt\u001b[0m                         Traceback (most recent call last)",
      "\u001b[0;32m<ipython-input-154-9bce25becaa4>\u001b[0m in \u001b[0;36m<module>\u001b[0;34m\u001b[0m\n\u001b[1;32m      2\u001b[0m \u001b[0mgeometry\u001b[0m \u001b[0;34m=\u001b[0m \u001b[0;34m[\u001b[0m\u001b[0mPoint\u001b[0m\u001b[0;34m(\u001b[0m\u001b[0mxy\u001b[0m\u001b[0;34m)\u001b[0m \u001b[0;32mfor\u001b[0m \u001b[0mxy\u001b[0m \u001b[0;32min\u001b[0m \u001b[0mzip\u001b[0m\u001b[0;34m(\u001b[0m\u001b[0mdf\u001b[0m\u001b[0;34m[\u001b[0m\u001b[0;34m\"long\"\u001b[0m\u001b[0;34m]\u001b[0m\u001b[0;34m,\u001b[0m\u001b[0mdf\u001b[0m\u001b[0;34m[\u001b[0m\u001b[0;34m\"Lat\"\u001b[0m\u001b[0;34m]\u001b[0m\u001b[0;34m)\u001b[0m\u001b[0;34m]\u001b[0m\u001b[0;34m\u001b[0m\u001b[0;34m\u001b[0m\u001b[0m\n\u001b[1;32m      3\u001b[0m \u001b[0mgeo_df\u001b[0m \u001b[0;34m=\u001b[0m \u001b[0mgpd\u001b[0m\u001b[0;34m.\u001b[0m\u001b[0mGeoDataFrame\u001b[0m\u001b[0;34m(\u001b[0m\u001b[0mdf\u001b[0m\u001b[0;34m,\u001b[0m\u001b[0mgeometry\u001b[0m\u001b[0;34m=\u001b[0m\u001b[0mgeometry\u001b[0m\u001b[0;34m)\u001b[0m\u001b[0;34m\u001b[0m\u001b[0;34m\u001b[0m\u001b[0m\n\u001b[0;32m----> 4\u001b[0;31m \u001b[0mseries\u001b[0m \u001b[0;34m=\u001b[0m \u001b[0mgeo_df\u001b[0m\u001b[0;34m.\u001b[0m\u001b[0mapply\u001b[0m\u001b[0;34m(\u001b[0m\u001b[0;32mlambda\u001b[0m \u001b[0mrow\u001b[0m\u001b[0;34m:\u001b[0m \u001b[0mdist\u001b[0m\u001b[0;34m(\u001b[0m\u001b[0mrow\u001b[0m\u001b[0;34m.\u001b[0m\u001b[0mgeometry\u001b[0m\u001b[0;34m,\u001b[0m \u001b[0mmp\u001b[0m\u001b[0;34m)\u001b[0m\u001b[0;34m,\u001b[0m \u001b[0maxis\u001b[0m \u001b[0;34m=\u001b[0m \u001b[0;36m1\u001b[0m\u001b[0;34m)\u001b[0m\u001b[0;34m\u001b[0m\u001b[0;34m\u001b[0m\u001b[0m\n\u001b[0m",
      "\u001b[0;32m~/venv/lib/python3.7/site-packages/geopandas/geodataframe.py\u001b[0m in \u001b[0;36mapply\u001b[0;34m(self, func, axis, raw, result_type, args, **kwargs)\u001b[0m\n\u001b[1;32m   1360\u001b[0m     \u001b[0;32mdef\u001b[0m \u001b[0mapply\u001b[0m\u001b[0;34m(\u001b[0m\u001b[0mself\u001b[0m\u001b[0;34m,\u001b[0m \u001b[0mfunc\u001b[0m\u001b[0;34m,\u001b[0m \u001b[0maxis\u001b[0m\u001b[0;34m=\u001b[0m\u001b[0;36m0\u001b[0m\u001b[0;34m,\u001b[0m \u001b[0mraw\u001b[0m\u001b[0;34m=\u001b[0m\u001b[0;32mFalse\u001b[0m\u001b[0;34m,\u001b[0m \u001b[0mresult_type\u001b[0m\u001b[0;34m=\u001b[0m\u001b[0;32mNone\u001b[0m\u001b[0;34m,\u001b[0m \u001b[0margs\u001b[0m\u001b[0;34m=\u001b[0m\u001b[0;34m(\u001b[0m\u001b[0;34m)\u001b[0m\u001b[0;34m,\u001b[0m \u001b[0;34m**\u001b[0m\u001b[0mkwargs\u001b[0m\u001b[0;34m)\u001b[0m\u001b[0;34m:\u001b[0m\u001b[0;34m\u001b[0m\u001b[0;34m\u001b[0m\u001b[0m\n\u001b[1;32m   1361\u001b[0m         result = super().apply(\n\u001b[0;32m-> 1362\u001b[0;31m             \u001b[0mfunc\u001b[0m\u001b[0;34m,\u001b[0m \u001b[0maxis\u001b[0m\u001b[0;34m=\u001b[0m\u001b[0maxis\u001b[0m\u001b[0;34m,\u001b[0m \u001b[0mraw\u001b[0m\u001b[0;34m=\u001b[0m\u001b[0mraw\u001b[0m\u001b[0;34m,\u001b[0m \u001b[0mresult_type\u001b[0m\u001b[0;34m=\u001b[0m\u001b[0mresult_type\u001b[0m\u001b[0;34m,\u001b[0m \u001b[0margs\u001b[0m\u001b[0;34m=\u001b[0m\u001b[0margs\u001b[0m\u001b[0;34m,\u001b[0m \u001b[0;34m**\u001b[0m\u001b[0mkwargs\u001b[0m\u001b[0;34m\u001b[0m\u001b[0;34m\u001b[0m\u001b[0m\n\u001b[0m\u001b[1;32m   1363\u001b[0m         )\n\u001b[1;32m   1364\u001b[0m         if (\n",
      "\u001b[0;32m/shared-libs/python3.7/py/lib/python3.7/site-packages/pandas/core/frame.py\u001b[0m in \u001b[0;36mapply\u001b[0;34m(self, func, axis, raw, result_type, args, **kwds)\u001b[0m\n\u001b[1;32m   7766\u001b[0m             \u001b[0mkwds\u001b[0m\u001b[0;34m=\u001b[0m\u001b[0mkwds\u001b[0m\u001b[0;34m,\u001b[0m\u001b[0;34m\u001b[0m\u001b[0;34m\u001b[0m\u001b[0m\n\u001b[1;32m   7767\u001b[0m         )\n\u001b[0;32m-> 7768\u001b[0;31m         \u001b[0;32mreturn\u001b[0m \u001b[0mop\u001b[0m\u001b[0;34m.\u001b[0m\u001b[0mget_result\u001b[0m\u001b[0;34m(\u001b[0m\u001b[0;34m)\u001b[0m\u001b[0;34m\u001b[0m\u001b[0;34m\u001b[0m\u001b[0m\n\u001b[0m\u001b[1;32m   7769\u001b[0m \u001b[0;34m\u001b[0m\u001b[0m\n\u001b[1;32m   7770\u001b[0m     \u001b[0;32mdef\u001b[0m \u001b[0mapplymap\u001b[0m\u001b[0;34m(\u001b[0m\u001b[0mself\u001b[0m\u001b[0;34m,\u001b[0m \u001b[0mfunc\u001b[0m\u001b[0;34m,\u001b[0m \u001b[0mna_action\u001b[0m\u001b[0;34m:\u001b[0m \u001b[0mOptional\u001b[0m\u001b[0;34m[\u001b[0m\u001b[0mstr\u001b[0m\u001b[0;34m]\u001b[0m \u001b[0;34m=\u001b[0m \u001b[0;32mNone\u001b[0m\u001b[0;34m)\u001b[0m \u001b[0;34m->\u001b[0m \u001b[0mDataFrame\u001b[0m\u001b[0;34m:\u001b[0m\u001b[0;34m\u001b[0m\u001b[0;34m\u001b[0m\u001b[0m\n",
      "\u001b[0;32m/shared-libs/python3.7/py/lib/python3.7/site-packages/pandas/core/apply.py\u001b[0m in \u001b[0;36mget_result\u001b[0;34m(self)\u001b[0m\n\u001b[1;32m    183\u001b[0m             \u001b[0;32mreturn\u001b[0m \u001b[0mself\u001b[0m\u001b[0;34m.\u001b[0m\u001b[0mapply_raw\u001b[0m\u001b[0;34m(\u001b[0m\u001b[0;34m)\u001b[0m\u001b[0;34m\u001b[0m\u001b[0;34m\u001b[0m\u001b[0m\n\u001b[1;32m    184\u001b[0m \u001b[0;34m\u001b[0m\u001b[0m\n\u001b[0;32m--> 185\u001b[0;31m         \u001b[0;32mreturn\u001b[0m \u001b[0mself\u001b[0m\u001b[0;34m.\u001b[0m\u001b[0mapply_standard\u001b[0m\u001b[0;34m(\u001b[0m\u001b[0;34m)\u001b[0m\u001b[0;34m\u001b[0m\u001b[0;34m\u001b[0m\u001b[0m\n\u001b[0m\u001b[1;32m    186\u001b[0m \u001b[0;34m\u001b[0m\u001b[0m\n\u001b[1;32m    187\u001b[0m     \u001b[0;32mdef\u001b[0m \u001b[0mapply_empty_result\u001b[0m\u001b[0;34m(\u001b[0m\u001b[0mself\u001b[0m\u001b[0;34m)\u001b[0m\u001b[0;34m:\u001b[0m\u001b[0;34m\u001b[0m\u001b[0;34m\u001b[0m\u001b[0m\n",
      "\u001b[0;32m/shared-libs/python3.7/py/lib/python3.7/site-packages/pandas/core/apply.py\u001b[0m in \u001b[0;36mapply_standard\u001b[0;34m(self)\u001b[0m\n\u001b[1;32m    274\u001b[0m \u001b[0;34m\u001b[0m\u001b[0m\n\u001b[1;32m    275\u001b[0m     \u001b[0;32mdef\u001b[0m \u001b[0mapply_standard\u001b[0m\u001b[0;34m(\u001b[0m\u001b[0mself\u001b[0m\u001b[0;34m)\u001b[0m\u001b[0;34m:\u001b[0m\u001b[0;34m\u001b[0m\u001b[0;34m\u001b[0m\u001b[0m\n\u001b[0;32m--> 276\u001b[0;31m         \u001b[0mresults\u001b[0m\u001b[0;34m,\u001b[0m \u001b[0mres_index\u001b[0m \u001b[0;34m=\u001b[0m \u001b[0mself\u001b[0m\u001b[0;34m.\u001b[0m\u001b[0mapply_series_generator\u001b[0m\u001b[0;34m(\u001b[0m\u001b[0;34m)\u001b[0m\u001b[0;34m\u001b[0m\u001b[0;34m\u001b[0m\u001b[0m\n\u001b[0m\u001b[1;32m    277\u001b[0m \u001b[0;34m\u001b[0m\u001b[0m\n\u001b[1;32m    278\u001b[0m         \u001b[0;31m# wrap results\u001b[0m\u001b[0;34m\u001b[0m\u001b[0;34m\u001b[0m\u001b[0;34m\u001b[0m\u001b[0m\n",
      "\u001b[0;32m/shared-libs/python3.7/py/lib/python3.7/site-packages/pandas/core/apply.py\u001b[0m in \u001b[0;36mapply_series_generator\u001b[0;34m(self)\u001b[0m\n\u001b[1;32m    288\u001b[0m             \u001b[0;32mfor\u001b[0m \u001b[0mi\u001b[0m\u001b[0;34m,\u001b[0m \u001b[0mv\u001b[0m \u001b[0;32min\u001b[0m \u001b[0menumerate\u001b[0m\u001b[0;34m(\u001b[0m\u001b[0mseries_gen\u001b[0m\u001b[0;34m)\u001b[0m\u001b[0;34m:\u001b[0m\u001b[0;34m\u001b[0m\u001b[0;34m\u001b[0m\u001b[0m\n\u001b[1;32m    289\u001b[0m                 \u001b[0;31m# ignore SettingWithCopy here in case the user mutates\u001b[0m\u001b[0;34m\u001b[0m\u001b[0;34m\u001b[0m\u001b[0;34m\u001b[0m\u001b[0m\n\u001b[0;32m--> 290\u001b[0;31m                 \u001b[0mresults\u001b[0m\u001b[0;34m[\u001b[0m\u001b[0mi\u001b[0m\u001b[0;34m]\u001b[0m \u001b[0;34m=\u001b[0m \u001b[0mself\u001b[0m\u001b[0;34m.\u001b[0m\u001b[0mf\u001b[0m\u001b[0;34m(\u001b[0m\u001b[0mv\u001b[0m\u001b[0;34m)\u001b[0m\u001b[0;34m\u001b[0m\u001b[0;34m\u001b[0m\u001b[0m\n\u001b[0m\u001b[1;32m    291\u001b[0m                 \u001b[0;32mif\u001b[0m \u001b[0misinstance\u001b[0m\u001b[0;34m(\u001b[0m\u001b[0mresults\u001b[0m\u001b[0;34m[\u001b[0m\u001b[0mi\u001b[0m\u001b[0;34m]\u001b[0m\u001b[0;34m,\u001b[0m \u001b[0mABCSeries\u001b[0m\u001b[0;34m)\u001b[0m\u001b[0;34m:\u001b[0m\u001b[0;34m\u001b[0m\u001b[0;34m\u001b[0m\u001b[0m\n\u001b[1;32m    292\u001b[0m                     \u001b[0;31m# If we have a view on v, we need to make a copy because\u001b[0m\u001b[0;34m\u001b[0m\u001b[0;34m\u001b[0m\u001b[0;34m\u001b[0m\u001b[0m\n",
      "\u001b[0;32m<ipython-input-154-9bce25becaa4>\u001b[0m in \u001b[0;36m<lambda>\u001b[0;34m(row)\u001b[0m\n\u001b[1;32m      2\u001b[0m \u001b[0mgeometry\u001b[0m \u001b[0;34m=\u001b[0m \u001b[0;34m[\u001b[0m\u001b[0mPoint\u001b[0m\u001b[0;34m(\u001b[0m\u001b[0mxy\u001b[0m\u001b[0;34m)\u001b[0m \u001b[0;32mfor\u001b[0m \u001b[0mxy\u001b[0m \u001b[0;32min\u001b[0m \u001b[0mzip\u001b[0m\u001b[0;34m(\u001b[0m\u001b[0mdf\u001b[0m\u001b[0;34m[\u001b[0m\u001b[0;34m\"long\"\u001b[0m\u001b[0;34m]\u001b[0m\u001b[0;34m,\u001b[0m\u001b[0mdf\u001b[0m\u001b[0;34m[\u001b[0m\u001b[0;34m\"Lat\"\u001b[0m\u001b[0;34m]\u001b[0m\u001b[0;34m)\u001b[0m\u001b[0;34m]\u001b[0m\u001b[0;34m\u001b[0m\u001b[0;34m\u001b[0m\u001b[0m\n\u001b[1;32m      3\u001b[0m \u001b[0mgeo_df\u001b[0m \u001b[0;34m=\u001b[0m \u001b[0mgpd\u001b[0m\u001b[0;34m.\u001b[0m\u001b[0mGeoDataFrame\u001b[0m\u001b[0;34m(\u001b[0m\u001b[0mdf\u001b[0m\u001b[0;34m,\u001b[0m\u001b[0mgeometry\u001b[0m\u001b[0;34m=\u001b[0m\u001b[0mgeometry\u001b[0m\u001b[0;34m)\u001b[0m\u001b[0;34m\u001b[0m\u001b[0;34m\u001b[0m\u001b[0m\n\u001b[0;32m----> 4\u001b[0;31m \u001b[0mseries\u001b[0m \u001b[0;34m=\u001b[0m \u001b[0mgeo_df\u001b[0m\u001b[0;34m.\u001b[0m\u001b[0mapply\u001b[0m\u001b[0;34m(\u001b[0m\u001b[0;32mlambda\u001b[0m \u001b[0mrow\u001b[0m\u001b[0;34m:\u001b[0m \u001b[0mdist\u001b[0m\u001b[0;34m(\u001b[0m\u001b[0mrow\u001b[0m\u001b[0;34m.\u001b[0m\u001b[0mgeometry\u001b[0m\u001b[0;34m,\u001b[0m \u001b[0mmp\u001b[0m\u001b[0;34m)\u001b[0m\u001b[0;34m,\u001b[0m \u001b[0maxis\u001b[0m \u001b[0;34m=\u001b[0m \u001b[0;36m1\u001b[0m\u001b[0;34m)\u001b[0m\u001b[0;34m\u001b[0m\u001b[0;34m\u001b[0m\u001b[0m\n\u001b[0m",
      "\u001b[0;32m<ipython-input-150-b886df767b77>\u001b[0m in \u001b[0;36mdist\u001b[0;34m(geom, mp)\u001b[0m\n\u001b[1;32m      1\u001b[0m \u001b[0;32mdef\u001b[0m \u001b[0mdist\u001b[0m\u001b[0;34m(\u001b[0m\u001b[0mgeom\u001b[0m\u001b[0;34m,\u001b[0m \u001b[0mmp\u001b[0m\u001b[0;34m)\u001b[0m\u001b[0;34m:\u001b[0m\u001b[0;34m\u001b[0m\u001b[0;34m\u001b[0m\u001b[0m\n\u001b[0;32m----> 2\u001b[0;31m     \u001b[0;32mreturn\u001b[0m \u001b[0mmp\u001b[0m\u001b[0;34m.\u001b[0m\u001b[0mdistance\u001b[0m\u001b[0;34m(\u001b[0m\u001b[0mgeom\u001b[0m\u001b[0;34m)\u001b[0m\u001b[0;34m\u001b[0m\u001b[0;34m\u001b[0m\u001b[0m\n\u001b[0m\u001b[1;32m      3\u001b[0m \u001b[0;34m\u001b[0m\u001b[0m\n\u001b[1;32m      4\u001b[0m \u001b[0;32mdef\u001b[0m \u001b[0mmin_distance_shp\u001b[0m\u001b[0;34m(\u001b[0m\u001b[0mdf\u001b[0m\u001b[0;34m,\u001b[0m \u001b[0mshp\u001b[0m\u001b[0;34m,\u001b[0m \u001b[0mlines\u001b[0m \u001b[0;34m=\u001b[0m \u001b[0;32mFalse\u001b[0m\u001b[0;34m)\u001b[0m\u001b[0;34m:\u001b[0m\u001b[0;34m\u001b[0m\u001b[0;34m\u001b[0m\u001b[0m\n\u001b[1;32m      5\u001b[0m     \u001b[0;32mif\u001b[0m \u001b[0mlines\u001b[0m \u001b[0;34m==\u001b[0m \u001b[0;32mFalse\u001b[0m\u001b[0;34m:\u001b[0m\u001b[0;34m\u001b[0m\u001b[0;34m\u001b[0m\u001b[0m\n",
      "\u001b[0;32m~/venv/lib/python3.7/site-packages/geopandas/base.py\u001b[0m in \u001b[0;36mdistance\u001b[0;34m(self, other, align)\u001b[0m\n\u001b[1;32m   2072\u001b[0m         \u001b[0mdtype\u001b[0m\u001b[0;34m:\u001b[0m \u001b[0mfloat64\u001b[0m\u001b[0;34m\u001b[0m\u001b[0;34m\u001b[0m\u001b[0m\n\u001b[1;32m   2073\u001b[0m         \"\"\"\n\u001b[0;32m-> 2074\u001b[0;31m         \u001b[0;32mreturn\u001b[0m \u001b[0m_binary_op\u001b[0m\u001b[0;34m(\u001b[0m\u001b[0;34m\"distance\"\u001b[0m\u001b[0;34m,\u001b[0m \u001b[0mself\u001b[0m\u001b[0;34m,\u001b[0m \u001b[0mother\u001b[0m\u001b[0;34m,\u001b[0m \u001b[0malign\u001b[0m\u001b[0;34m)\u001b[0m\u001b[0;34m\u001b[0m\u001b[0;34m\u001b[0m\u001b[0m\n\u001b[0m\u001b[1;32m   2075\u001b[0m \u001b[0;34m\u001b[0m\u001b[0m\n\u001b[1;32m   2076\u001b[0m     \u001b[0;31m#\u001b[0m\u001b[0;34m\u001b[0m\u001b[0;34m\u001b[0m\u001b[0;34m\u001b[0m\u001b[0m\n",
      "\u001b[0;32m~/venv/lib/python3.7/site-packages/geopandas/base.py\u001b[0m in \u001b[0;36m_binary_op\u001b[0;34m(op, this, other, align, *args, **kwargs)\u001b[0m\n\u001b[1;32m     58\u001b[0m     \u001b[0;31m# type: (str, GeoSeries, GeoSeries, args/kwargs) -> Series[bool/float]\u001b[0m\u001b[0;34m\u001b[0m\u001b[0;34m\u001b[0m\u001b[0;34m\u001b[0m\u001b[0m\n\u001b[1;32m     59\u001b[0m     \u001b[0;34m\"\"\"Binary operation on GeoSeries objects that returns a Series\"\"\"\u001b[0m\u001b[0;34m\u001b[0m\u001b[0;34m\u001b[0m\u001b[0m\n\u001b[0;32m---> 60\u001b[0;31m     \u001b[0mdata\u001b[0m\u001b[0;34m,\u001b[0m \u001b[0mindex\u001b[0m \u001b[0;34m=\u001b[0m \u001b[0m_delegate_binary_method\u001b[0m\u001b[0;34m(\u001b[0m\u001b[0mop\u001b[0m\u001b[0;34m,\u001b[0m \u001b[0mthis\u001b[0m\u001b[0;34m,\u001b[0m \u001b[0mother\u001b[0m\u001b[0;34m,\u001b[0m \u001b[0malign\u001b[0m\u001b[0;34m,\u001b[0m \u001b[0;34m*\u001b[0m\u001b[0margs\u001b[0m\u001b[0;34m,\u001b[0m \u001b[0;34m**\u001b[0m\u001b[0mkwargs\u001b[0m\u001b[0;34m)\u001b[0m\u001b[0;34m\u001b[0m\u001b[0;34m\u001b[0m\u001b[0m\n\u001b[0m\u001b[1;32m     61\u001b[0m     \u001b[0;32mreturn\u001b[0m \u001b[0mSeries\u001b[0m\u001b[0;34m(\u001b[0m\u001b[0mdata\u001b[0m\u001b[0;34m,\u001b[0m \u001b[0mindex\u001b[0m\u001b[0;34m=\u001b[0m\u001b[0mindex\u001b[0m\u001b[0;34m)\u001b[0m\u001b[0;34m\u001b[0m\u001b[0;34m\u001b[0m\u001b[0m\n\u001b[1;32m     62\u001b[0m \u001b[0;34m\u001b[0m\u001b[0m\n",
      "\u001b[0;32m~/venv/lib/python3.7/site-packages/geopandas/base.py\u001b[0m in \u001b[0;36m_delegate_binary_method\u001b[0;34m(op, this, other, align, *args, **kwargs)\u001b[0m\n\u001b[1;32m     42\u001b[0m         \u001b[0;32mraise\u001b[0m \u001b[0mTypeError\u001b[0m\u001b[0;34m(\u001b[0m\u001b[0mtype\u001b[0m\u001b[0;34m(\u001b[0m\u001b[0mthis\u001b[0m\u001b[0;34m)\u001b[0m\u001b[0;34m,\u001b[0m \u001b[0mtype\u001b[0m\u001b[0;34m(\u001b[0m\u001b[0mother\u001b[0m\u001b[0;34m)\u001b[0m\u001b[0;34m)\u001b[0m\u001b[0;34m\u001b[0m\u001b[0;34m\u001b[0m\u001b[0m\n\u001b[1;32m     43\u001b[0m \u001b[0;34m\u001b[0m\u001b[0m\n\u001b[0;32m---> 44\u001b[0;31m     \u001b[0mdata\u001b[0m \u001b[0;34m=\u001b[0m \u001b[0mgetattr\u001b[0m\u001b[0;34m(\u001b[0m\u001b[0ma_this\u001b[0m\u001b[0;34m,\u001b[0m \u001b[0mop\u001b[0m\u001b[0;34m)\u001b[0m\u001b[0;34m(\u001b[0m\u001b[0mother\u001b[0m\u001b[0;34m,\u001b[0m \u001b[0;34m*\u001b[0m\u001b[0margs\u001b[0m\u001b[0;34m,\u001b[0m \u001b[0;34m**\u001b[0m\u001b[0mkwargs\u001b[0m\u001b[0;34m)\u001b[0m\u001b[0;34m\u001b[0m\u001b[0;34m\u001b[0m\u001b[0m\n\u001b[0m\u001b[1;32m     45\u001b[0m     \u001b[0;32mreturn\u001b[0m \u001b[0mdata\u001b[0m\u001b[0;34m,\u001b[0m \u001b[0mthis\u001b[0m\u001b[0;34m.\u001b[0m\u001b[0mindex\u001b[0m\u001b[0;34m\u001b[0m\u001b[0;34m\u001b[0m\u001b[0m\n\u001b[1;32m     46\u001b[0m \u001b[0;34m\u001b[0m\u001b[0m\n",
      "\u001b[0;32m~/venv/lib/python3.7/site-packages/geopandas/array.py\u001b[0m in \u001b[0;36mdistance\u001b[0;34m(self, other)\u001b[0m\n\u001b[1;32m    624\u001b[0m \u001b[0;34m\u001b[0m\u001b[0m\n\u001b[1;32m    625\u001b[0m     \u001b[0;32mdef\u001b[0m \u001b[0mdistance\u001b[0m\u001b[0;34m(\u001b[0m\u001b[0mself\u001b[0m\u001b[0;34m,\u001b[0m \u001b[0mother\u001b[0m\u001b[0;34m)\u001b[0m\u001b[0;34m:\u001b[0m\u001b[0;34m\u001b[0m\u001b[0;34m\u001b[0m\u001b[0m\n\u001b[0;32m--> 626\u001b[0;31m         \u001b[0mself\u001b[0m\u001b[0;34m.\u001b[0m\u001b[0mcheck_geographic_crs\u001b[0m\u001b[0;34m(\u001b[0m\u001b[0mstacklevel\u001b[0m\u001b[0;34m=\u001b[0m\u001b[0;36m6\u001b[0m\u001b[0;34m)\u001b[0m\u001b[0;34m\u001b[0m\u001b[0;34m\u001b[0m\u001b[0m\n\u001b[0m\u001b[1;32m    627\u001b[0m         \u001b[0;32mreturn\u001b[0m \u001b[0mself\u001b[0m\u001b[0;34m.\u001b[0m\u001b[0m_binary_method\u001b[0m\u001b[0;34m(\u001b[0m\u001b[0;34m\"distance\"\u001b[0m\u001b[0;34m,\u001b[0m \u001b[0mself\u001b[0m\u001b[0;34m,\u001b[0m \u001b[0mother\u001b[0m\u001b[0;34m)\u001b[0m\u001b[0;34m\u001b[0m\u001b[0;34m\u001b[0m\u001b[0m\n\u001b[1;32m    628\u001b[0m \u001b[0;34m\u001b[0m\u001b[0m\n",
      "\u001b[0;32m~/venv/lib/python3.7/site-packages/geopandas/array.py\u001b[0m in \u001b[0;36mcheck_geographic_crs\u001b[0;34m(self, stacklevel)\u001b[0m\n\u001b[1;32m    360\u001b[0m                 \u001b[0;34m\"incorrect. Use 'GeoSeries.to_crs()' to re-project geometries to a \"\u001b[0m\u001b[0;34m\u001b[0m\u001b[0;34m\u001b[0m\u001b[0m\n\u001b[1;32m    361\u001b[0m                 \"projected CRS before this operation.\\n\".format(\n\u001b[0;32m--> 362\u001b[0;31m                     \u001b[0minspect\u001b[0m\u001b[0;34m.\u001b[0m\u001b[0mstack\u001b[0m\u001b[0;34m(\u001b[0m\u001b[0;34m)\u001b[0m\u001b[0;34m[\u001b[0m\u001b[0;36m1\u001b[0m\u001b[0;34m]\u001b[0m\u001b[0;34m.\u001b[0m\u001b[0mfunction\u001b[0m\u001b[0;34m\u001b[0m\u001b[0;34m\u001b[0m\u001b[0m\n\u001b[0m\u001b[1;32m    363\u001b[0m                 ),\n\u001b[1;32m    364\u001b[0m                 \u001b[0mUserWarning\u001b[0m\u001b[0;34m,\u001b[0m\u001b[0;34m\u001b[0m\u001b[0;34m\u001b[0m\u001b[0m\n",
      "\u001b[0;32m/usr/local/lib/python3.7/inspect.py\u001b[0m in \u001b[0;36mstack\u001b[0;34m(context)\u001b[0m\n\u001b[1;32m   1511\u001b[0m \u001b[0;32mdef\u001b[0m \u001b[0mstack\u001b[0m\u001b[0;34m(\u001b[0m\u001b[0mcontext\u001b[0m\u001b[0;34m=\u001b[0m\u001b[0;36m1\u001b[0m\u001b[0;34m)\u001b[0m\u001b[0;34m:\u001b[0m\u001b[0;34m\u001b[0m\u001b[0;34m\u001b[0m\u001b[0m\n\u001b[1;32m   1512\u001b[0m     \u001b[0;34m\"\"\"Return a list of records for the stack above the caller's frame.\"\"\"\u001b[0m\u001b[0;34m\u001b[0m\u001b[0;34m\u001b[0m\u001b[0m\n\u001b[0;32m-> 1513\u001b[0;31m     \u001b[0;32mreturn\u001b[0m \u001b[0mgetouterframes\u001b[0m\u001b[0;34m(\u001b[0m\u001b[0msys\u001b[0m\u001b[0;34m.\u001b[0m\u001b[0m_getframe\u001b[0m\u001b[0;34m(\u001b[0m\u001b[0;36m1\u001b[0m\u001b[0;34m)\u001b[0m\u001b[0;34m,\u001b[0m \u001b[0mcontext\u001b[0m\u001b[0;34m)\u001b[0m\u001b[0;34m\u001b[0m\u001b[0;34m\u001b[0m\u001b[0m\n\u001b[0m\u001b[1;32m   1514\u001b[0m \u001b[0;34m\u001b[0m\u001b[0m\n\u001b[1;32m   1515\u001b[0m \u001b[0;32mdef\u001b[0m \u001b[0mtrace\u001b[0m\u001b[0;34m(\u001b[0m\u001b[0mcontext\u001b[0m\u001b[0;34m=\u001b[0m\u001b[0;36m1\u001b[0m\u001b[0;34m)\u001b[0m\u001b[0;34m:\u001b[0m\u001b[0;34m\u001b[0m\u001b[0;34m\u001b[0m\u001b[0m\n",
      "\u001b[0;32m/usr/local/lib/python3.7/inspect.py\u001b[0m in \u001b[0;36mgetouterframes\u001b[0;34m(frame, context)\u001b[0m\n\u001b[1;32m   1488\u001b[0m     \u001b[0mframelist\u001b[0m \u001b[0;34m=\u001b[0m \u001b[0;34m[\u001b[0m\u001b[0;34m]\u001b[0m\u001b[0;34m\u001b[0m\u001b[0;34m\u001b[0m\u001b[0m\n\u001b[1;32m   1489\u001b[0m     \u001b[0;32mwhile\u001b[0m \u001b[0mframe\u001b[0m\u001b[0;34m:\u001b[0m\u001b[0;34m\u001b[0m\u001b[0;34m\u001b[0m\u001b[0m\n\u001b[0;32m-> 1490\u001b[0;31m         \u001b[0mframeinfo\u001b[0m \u001b[0;34m=\u001b[0m \u001b[0;34m(\u001b[0m\u001b[0mframe\u001b[0m\u001b[0;34m,\u001b[0m\u001b[0;34m)\u001b[0m \u001b[0;34m+\u001b[0m \u001b[0mgetframeinfo\u001b[0m\u001b[0;34m(\u001b[0m\u001b[0mframe\u001b[0m\u001b[0;34m,\u001b[0m \u001b[0mcontext\u001b[0m\u001b[0;34m)\u001b[0m\u001b[0;34m\u001b[0m\u001b[0;34m\u001b[0m\u001b[0m\n\u001b[0m\u001b[1;32m   1491\u001b[0m         \u001b[0mframelist\u001b[0m\u001b[0;34m.\u001b[0m\u001b[0mappend\u001b[0m\u001b[0;34m(\u001b[0m\u001b[0mFrameInfo\u001b[0m\u001b[0;34m(\u001b[0m\u001b[0;34m*\u001b[0m\u001b[0mframeinfo\u001b[0m\u001b[0;34m)\u001b[0m\u001b[0;34m)\u001b[0m\u001b[0;34m\u001b[0m\u001b[0;34m\u001b[0m\u001b[0m\n\u001b[1;32m   1492\u001b[0m         \u001b[0mframe\u001b[0m \u001b[0;34m=\u001b[0m \u001b[0mframe\u001b[0m\u001b[0;34m.\u001b[0m\u001b[0mf_back\u001b[0m\u001b[0;34m\u001b[0m\u001b[0;34m\u001b[0m\u001b[0m\n",
      "\u001b[0;32m/usr/local/lib/python3.7/inspect.py\u001b[0m in \u001b[0;36mgetframeinfo\u001b[0;34m(frame, context)\u001b[0m\n\u001b[1;32m   1462\u001b[0m         \u001b[0mstart\u001b[0m \u001b[0;34m=\u001b[0m \u001b[0mlineno\u001b[0m \u001b[0;34m-\u001b[0m \u001b[0;36m1\u001b[0m \u001b[0;34m-\u001b[0m \u001b[0mcontext\u001b[0m\u001b[0;34m//\u001b[0m\u001b[0;36m2\u001b[0m\u001b[0;34m\u001b[0m\u001b[0;34m\u001b[0m\u001b[0m\n\u001b[1;32m   1463\u001b[0m         \u001b[0;32mtry\u001b[0m\u001b[0;34m:\u001b[0m\u001b[0;34m\u001b[0m\u001b[0;34m\u001b[0m\u001b[0m\n\u001b[0;32m-> 1464\u001b[0;31m             \u001b[0mlines\u001b[0m\u001b[0;34m,\u001b[0m \u001b[0mlnum\u001b[0m \u001b[0;34m=\u001b[0m \u001b[0mfindsource\u001b[0m\u001b[0;34m(\u001b[0m\u001b[0mframe\u001b[0m\u001b[0;34m)\u001b[0m\u001b[0;34m\u001b[0m\u001b[0;34m\u001b[0m\u001b[0m\n\u001b[0m\u001b[1;32m   1465\u001b[0m         \u001b[0;32mexcept\u001b[0m \u001b[0mOSError\u001b[0m\u001b[0;34m:\u001b[0m\u001b[0;34m\u001b[0m\u001b[0;34m\u001b[0m\u001b[0m\n\u001b[1;32m   1466\u001b[0m             \u001b[0mlines\u001b[0m \u001b[0;34m=\u001b[0m \u001b[0mindex\u001b[0m \u001b[0;34m=\u001b[0m \u001b[0;32mNone\u001b[0m\u001b[0;34m\u001b[0m\u001b[0;34m\u001b[0m\u001b[0m\n",
      "\u001b[0;32m/usr/local/lib/python3.7/inspect.py\u001b[0m in \u001b[0;36mfindsource\u001b[0;34m(object)\u001b[0m\n\u001b[1;32m    766\u001b[0m     is raised if the source code cannot be retrieved.\"\"\"\n\u001b[1;32m    767\u001b[0m \u001b[0;34m\u001b[0m\u001b[0m\n\u001b[0;32m--> 768\u001b[0;31m     \u001b[0mfile\u001b[0m \u001b[0;34m=\u001b[0m \u001b[0mgetsourcefile\u001b[0m\u001b[0;34m(\u001b[0m\u001b[0mobject\u001b[0m\u001b[0;34m)\u001b[0m\u001b[0;34m\u001b[0m\u001b[0;34m\u001b[0m\u001b[0m\n\u001b[0m\u001b[1;32m    769\u001b[0m     \u001b[0;32mif\u001b[0m \u001b[0mfile\u001b[0m\u001b[0;34m:\u001b[0m\u001b[0;34m\u001b[0m\u001b[0;34m\u001b[0m\u001b[0m\n\u001b[1;32m    770\u001b[0m         \u001b[0;31m# Invalidate cache if needed.\u001b[0m\u001b[0;34m\u001b[0m\u001b[0;34m\u001b[0m\u001b[0;34m\u001b[0m\u001b[0m\n",
      "\u001b[0;32m/usr/local/lib/python3.7/inspect.py\u001b[0m in \u001b[0;36mgetsourcefile\u001b[0;34m(object)\u001b[0m\n\u001b[1;32m    694\u001b[0m         \u001b[0;32mreturn\u001b[0m \u001b[0mfilename\u001b[0m\u001b[0;34m\u001b[0m\u001b[0;34m\u001b[0m\u001b[0m\n\u001b[1;32m    695\u001b[0m     \u001b[0;31m# only return a non-existent filename if the module has a PEP 302 loader\u001b[0m\u001b[0;34m\u001b[0m\u001b[0;34m\u001b[0m\u001b[0;34m\u001b[0m\u001b[0m\n\u001b[0;32m--> 696\u001b[0;31m     \u001b[0;32mif\u001b[0m \u001b[0mgetattr\u001b[0m\u001b[0;34m(\u001b[0m\u001b[0mgetmodule\u001b[0m\u001b[0;34m(\u001b[0m\u001b[0mobject\u001b[0m\u001b[0;34m,\u001b[0m \u001b[0mfilename\u001b[0m\u001b[0;34m)\u001b[0m\u001b[0;34m,\u001b[0m \u001b[0;34m'__loader__'\u001b[0m\u001b[0;34m,\u001b[0m \u001b[0;32mNone\u001b[0m\u001b[0;34m)\u001b[0m \u001b[0;32mis\u001b[0m \u001b[0;32mnot\u001b[0m \u001b[0;32mNone\u001b[0m\u001b[0;34m:\u001b[0m\u001b[0;34m\u001b[0m\u001b[0;34m\u001b[0m\u001b[0m\n\u001b[0m\u001b[1;32m    697\u001b[0m         \u001b[0;32mreturn\u001b[0m \u001b[0mfilename\u001b[0m\u001b[0;34m\u001b[0m\u001b[0;34m\u001b[0m\u001b[0m\n\u001b[1;32m    698\u001b[0m     \u001b[0;31m# or it is in the linecache\u001b[0m\u001b[0;34m\u001b[0m\u001b[0;34m\u001b[0m\u001b[0;34m\u001b[0m\u001b[0m\n",
      "\u001b[0;32m/usr/local/lib/python3.7/inspect.py\u001b[0m in \u001b[0;36mgetmodule\u001b[0;34m(object, _filename)\u001b[0m\n\u001b[1;32m    733\u001b[0m         \u001b[0;32mif\u001b[0m \u001b[0mismodule\u001b[0m\u001b[0;34m(\u001b[0m\u001b[0mmodule\u001b[0m\u001b[0;34m)\u001b[0m \u001b[0;32mand\u001b[0m \u001b[0mhasattr\u001b[0m\u001b[0;34m(\u001b[0m\u001b[0mmodule\u001b[0m\u001b[0;34m,\u001b[0m \u001b[0;34m'__file__'\u001b[0m\u001b[0;34m)\u001b[0m\u001b[0;34m:\u001b[0m\u001b[0;34m\u001b[0m\u001b[0;34m\u001b[0m\u001b[0m\n\u001b[1;32m    734\u001b[0m             \u001b[0mf\u001b[0m \u001b[0;34m=\u001b[0m \u001b[0mmodule\u001b[0m\u001b[0;34m.\u001b[0m\u001b[0m__file__\u001b[0m\u001b[0;34m\u001b[0m\u001b[0;34m\u001b[0m\u001b[0m\n\u001b[0;32m--> 735\u001b[0;31m             \u001b[0;32mif\u001b[0m \u001b[0mf\u001b[0m \u001b[0;34m==\u001b[0m \u001b[0m_filesbymodname\u001b[0m\u001b[0;34m.\u001b[0m\u001b[0mget\u001b[0m\u001b[0;34m(\u001b[0m\u001b[0mmodname\u001b[0m\u001b[0;34m,\u001b[0m \u001b[0;32mNone\u001b[0m\u001b[0;34m)\u001b[0m\u001b[0;34m:\u001b[0m\u001b[0;34m\u001b[0m\u001b[0;34m\u001b[0m\u001b[0m\n\u001b[0m\u001b[1;32m    736\u001b[0m                 \u001b[0;31m# Have already mapped this module, so skip it\u001b[0m\u001b[0;34m\u001b[0m\u001b[0;34m\u001b[0m\u001b[0;34m\u001b[0m\u001b[0m\n\u001b[1;32m    737\u001b[0m                 \u001b[0;32mcontinue\u001b[0m\u001b[0;34m\u001b[0m\u001b[0;34m\u001b[0m\u001b[0m\n",
      "\u001b[0;31mKeyboardInterrupt\u001b[0m: "
     ]
    }
   ]
  },
  {
   "cell_type": "code",
   "metadata": {
    "tags": [],
    "cell_id": "00003-341ec79c-3f26-4870-bbf5-eb26fbb33f05",
    "deepnote_to_be_reexecuted": false,
    "source_hash": "ba8a0ab9",
    "execution_start": 1620499195904,
    "execution_millis": 241,
    "deepnote_cell_type": "code"
   },
   "source": "def min_distance_shp(df, shp, lines = False): \n    if lines == False: \n        mp = shapely.geometry.MultiPoint(shp.geometry)\n    else: \n        mp = shp.geometry\n    \n    mp = shapely.ops.transform(project,mp)\n    geometry = [shapely.ops.transform(project,Point(xy)) for xy in zip(df[\"long\"],df[\"Lat\"])]\n    geo_df = gpd.GeoDataFrame(df,geometry=geometry)\n    series = geo_df.apply(lambda row: dist(row.geometry, mp), axis = 1)\n    return series",
   "execution_count": null,
   "outputs": []
  },
  {
   "cell_type": "code",
   "metadata": {
    "tags": [],
    "cell_id": "00004-79db3221-177a-4400-98d1-f2b82876229b",
    "deepnote_to_be_reexecuted": false,
    "source_hash": "f7b1686f",
    "execution_start": 1620497184350,
    "execution_millis": 206780,
    "deepnote_cell_type": "code"
   },
   "source": "",
   "execution_count": null,
   "outputs": []
  },
  {
   "cell_type": "code",
   "metadata": {
    "tags": [],
    "cell_id": "00005-43f5e0f5-53e7-4767-b73e-be88c242a154",
    "deepnote_to_be_reexecuted": false,
    "source_hash": "ccbe70d5",
    "execution_start": 1620497391130,
    "execution_millis": 4,
    "deepnote_cell_type": "code"
   },
   "source": "",
   "execution_count": null,
   "outputs": [
    {
     "output_type": "execute_result",
     "execution_count": 46,
     "data": {
      "text/plain": "0        0.000801\n1        0.002241\n2        0.002878\n3        0.000486\n4        0.000557\n           ...   \n84563    0.001533\n84564    0.001215\n84565    0.003423\n84566    0.000094\n84567    0.128551\nName: dist_bus, Length: 84568, dtype: float64"
     },
     "metadata": {}
    }
   ]
  },
  {
   "cell_type": "code",
   "metadata": {
    "tags": [],
    "cell_id": "00003-1feae0a7-5556-4c41-81ee-f435aa4a16dc",
    "deepnote_to_be_reexecuted": false,
    "source_hash": "b31fd813",
    "execution_start": 1620514404655,
    "execution_millis": 2,
    "deepnote_cell_type": "code"
   },
   "source": "\n",
   "execution_count": null,
   "outputs": []
  },
  {
   "cell_type": "code",
   "metadata": {
    "tags": [],
    "cell_id": "00003-447b1852-8322-408b-9e8a-85bfc15c8423",
    "deepnote_cell_type": "code"
   },
   "source": "\n\n\n",
   "execution_count": null,
   "outputs": []
  },
  {
   "cell_type": "markdown",
   "source": "<a style='text-decoration:none;line-height:16px;display:flex;color:#5B5B62;padding:10px;justify-content:end;' href='https://deepnote.com?utm_source=created-in-deepnote-cell&projectId=e6ac642c-b46b-41ed-b99b-6fa6e21df87a' target=\"_blank\">\n<img alt='Created in deepnote.com' style='display:inline;max-height:16px;margin:0px;margin-right:7.5px;' src='data:image/svg+xml;base64,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' > </img>\nCreated in <span style='font-weight:600;margin-left:4px;'>Deepnote</span></a>",
   "metadata": {
    "tags": [],
    "created_in_deepnote_cell": true,
    "deepnote_cell_type": "markdown"
   }
  }
 ],
 "nbformat": 4,
 "nbformat_minor": 2,
 "metadata": {
  "orig_nbformat": 2,
  "deepnote": {
   "is_reactive": false
  },
  "deepnote_notebook_id": "f1e66f98-9bbf-4ae2-b3ed-e4fface7af1b",
  "deepnote_execution_queue": []
 }
}