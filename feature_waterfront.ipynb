{
 "cells": [
  {
   "cell_type": "code",
   "metadata": {
    "tags": [],
    "cell_id": "00000-e842b8f3-81fd-44c4-8437-64589f3436a4",
    "deepnote_to_be_reexecuted": false,
    "source_hash": "c33eaab3",
    "execution_start": 1620497413384,
    "execution_millis": 1547,
    "deepnote_cell_type": "code"
   },
   "source": "import pandas as pd\nimport numpy as np\nimport geopandas as gpd\nimport matplotlib.pyplot as plt\nimport geopy.distance\nfrom shapely.geometry import Point, Polygon, LineString\nimport pyproj\nimport shapely.ops",
   "outputs": [],
   "execution_count": null
  },
  {
   "cell_type": "code",
   "metadata": {
    "tags": [],
    "cell_id": "00001-dc528443-1fc6-41d5-95fc-df304a1a608d",
    "deepnote_to_be_reexecuted": false,
    "source_hash": "d00e49ce",
    "execution_start": 1620497435526,
    "execution_millis": 322,
    "deepnote_cell_type": "code"
   },
   "source": "map = gpd.read_file(\"geo_data/melbourne.shp\")\npolygon = map.iloc[0][1]",
   "outputs": [],
   "execution_count": null
  },
  {
   "cell_type": "code",
   "metadata": {
    "tags": [],
    "cell_id": "00002-0b122ecb-d5b3-4d18-b02f-36c2b8b0f92d",
    "deepnote_to_be_reexecuted": false,
    "source_hash": "fd128d1",
    "execution_start": 1620497440441,
    "execution_millis": 97,
    "deepnote_cell_type": "code"
   },
   "source": "gda94 = pyproj.CRS('EPSG:4283')\nproj = pyproj.CRS('EPSG:28355')\nproject = pyproj.Transformer.from_crs(gda94, proj, always_xy=True).transform",
   "outputs": [],
   "execution_count": null
  },
  {
   "cell_type": "code",
   "metadata": {
    "tags": [],
    "cell_id": "00003-ab6ebf63-8214-4a1c-8592-c074bfc4c34a",
    "deepnote_to_be_reexecuted": false,
    "source_hash": "6c851cd9",
    "execution_start": 1620497441855,
    "execution_millis": 143,
    "deepnote_cell_type": "code"
   },
   "source": "def waterfront_filter(coord):\n    return coord[0] < 145.15 and coord[0] > 144.6 and coord[1] < -37.8 and coord[1] > -38.3\n\nseq = list(filter(waterfront_filter,polygon.exterior.coords))\nls = LineString(seq)\nlsp = shapely.ops.transform(project,ls)",
   "outputs": [],
   "execution_count": null
  },
  {
   "cell_type": "code",
   "metadata": {
    "tags": [],
    "cell_id": "00004-18f96ffe-930e-4aab-80e6-2a94c42710f4",
    "deepnote_to_be_reexecuted": false,
    "source_hash": "7b7fe869",
    "execution_start": 1620497445826,
    "execution_millis": 4,
    "deepnote_cell_type": "code"
   },
   "source": "def compute_waterfront_dist(df):\n    df[\"location\"] = df.apply(lambda h : Point((h.long,h.Lat)),axis=1)\n    df[\"locationp\"] = df.location.transform(lambda point : shapely.ops.transform(project,point))\n    wfdist = df.locationp.transform(lambda pp : lsp.distance(pp))\n    return wfdist",
   "outputs": [],
   "execution_count": null
  },
  {
   "cell_type": "code",
   "metadata": {
    "tags": [],
    "cell_id": "00005-fc335730-698a-4b20-ba90-5c056b612fe7",
    "deepnote_to_be_reexecuted": false,
    "source_hash": "8f0795e7",
    "execution_start": 1620497456788,
    "execution_millis": 160190,
    "deepnote_cell_type": "code"
   },
   "source": "X_train = pd.read_csv(\"data/X_train.csv\", index_col=0)\nX_test = pd.read_csv(\"data/X_test.csv\", index_col=0)\ncompute_waterfront_dist(X_train).to_csv(\"features/waterfront_dist_train.csv\")\ncompute_waterfront_dist(X_test).to_csv(\"features/waterfront_dist_test.csv\")",
   "outputs": [],
   "execution_count": null
  },
  {
   "cell_type": "code",
   "metadata": {
    "tags": [],
    "cell_id": "00006-cb8038fe-8afe-4ee5-b458-23b5d7bd4dbd",
    "deepnote_cell_type": "code"
   },
   "source": "",
   "execution_count": null,
   "outputs": []
  },
  {
   "cell_type": "markdown",
   "source": "<a style='text-decoration:none;line-height:16px;display:flex;color:#5B5B62;padding:10px;justify-content:end;' href='https://deepnote.com?utm_source=created-in-deepnote-cell&projectId=e6ac642c-b46b-41ed-b99b-6fa6e21df87a' target=\"_blank\">\n<img alt='Created in deepnote.com' style='display:inline;max-height:16px;margin:0px;margin-right:7.5px;' src='data:image/svg+xml;base64,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' > </img>\nCreated in <span style='font-weight:600;margin-left:4px;'>Deepnote</span></a>",
   "metadata": {
    "tags": [],
    "created_in_deepnote_cell": true,
    "deepnote_cell_type": "markdown"
   }
  }
 ],
 "nbformat": 4,
 "nbformat_minor": 2,
 "metadata": {
  "orig_nbformat": 2,
  "deepnote": {
   "is_reactive": false
  },
  "deepnote_notebook_id": "fc4736f7-1360-4ea2-bc4e-093a0b6977e9",
  "deepnote_execution_queue": []
 }
}